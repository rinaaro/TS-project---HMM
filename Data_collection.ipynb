{
 "cells": [
  {
   "cell_type": "code",
   "execution_count": 1,
   "id": "e82bec29-d4ab-4700-b742-de68ca45bf5a",
   "metadata": {},
   "outputs": [],
   "source": [
    "#!pip install yfinance\n",
    "import yfinance as yf\n",
    "import numpy as np\n",
    "import pandas as pd"
   ]
  },
  {
   "cell_type": "code",
   "execution_count": 2,
   "id": "40feee3d",
   "metadata": {},
   "outputs": [
    {
     "name": "stdout",
     "output_type": "stream",
     "text": [
      "[*********************100%%**********************]  1 of 1 completed\n"
     ]
    }
   ],
   "source": [
    "ticker = \"^GSPC\"  # S&P 500 index symbol\n",
    "\n",
    "data = yf.download(ticker, start=\"1950-01-01\", end=\"2016-11-30\", interval=\"1mo\")\n",
    "data.dropna(inplace=True)"
   ]
  },
  {
   "cell_type": "code",
   "execution_count": 3,
   "id": "f5d87567",
   "metadata": {},
   "outputs": [
    {
     "name": "stdout",
     "output_type": "stream",
     "text": [
      "   Price         Min          Max         Mean        Std.\n",
      "0   Open  167.199997  2173.149902   969.192478  543.577386\n",
      "1   High  180.270004  2214.100098  1000.686034  557.155179\n",
      "2    Low  163.360001  2147.580078   935.889869  526.896105\n",
      "3  Close  179.630005  2198.810059   974.394776  545.519109\n"
     ]
    }
   ],
   "source": [
    "descriptive_stats = {\n",
    "    \"Price\": [\"Open\", \"High\", \"Low\", \"Close\"],\n",
    "    \"Min\": [data['Open'].min(), data['High'].min(), data['Low'].min(), data['Close'].min()],\n",
    "    \"Max\": [data['Open'].max(), data['High'].max(), data['Low'].max(), data['Close'].max()],\n",
    "    \"Mean\": [data['Open'].mean(), data['High'].mean(), data['Low'].mean(), data['Close'].mean()],\n",
    "    \"Std.\": [data['Open'].std(), data['High'].std(), data['Low'].std(), data['Close'].std()],\n",
    "}\n",
    "\n",
    "summary_table = pd.DataFrame(descriptive_stats)\n",
    "\n",
    "print(summary_table)\n"
   ]
  },
  {
   "cell_type": "code",
   "execution_count": null,
   "id": "4e13db53-3800-4f56-aa57-af2f0d009184",
   "metadata": {},
   "outputs": [],
   "source": [
    "#Model selection \n"
   ]
  }
 ],
 "metadata": {
  "kernelspec": {
   "display_name": "base",
   "language": "python",
   "name": "python3"
  },
  "language_info": {
   "codemirror_mode": {
    "name": "ipython",
    "version": 3
   },
   "file_extension": ".py",
   "mimetype": "text/x-python",
   "name": "python",
   "nbconvert_exporter": "python",
   "pygments_lexer": "ipython3",
   "version": "3.12.4"
  }
 },
 "nbformat": 4,
 "nbformat_minor": 5
}
