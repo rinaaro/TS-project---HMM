{
 "cells": [
  {
   "cell_type": "code",
   "execution_count": 3,
   "id": "e82bec29-d4ab-4700-b742-de68ca45bf5a",
   "metadata": {},
   "outputs": [
    {
     "ename": "ModuleNotFoundError",
     "evalue": "No module named 'hmmlearn'",
     "output_type": "error",
     "traceback": [
      "\u001b[0;31m---------------------------------------------------------------------------\u001b[0m",
      "\u001b[0;31mModuleNotFoundError\u001b[0m                       Traceback (most recent call last)",
      "Cell \u001b[0;32mIn[3], line 5\u001b[0m\n\u001b[1;32m      3\u001b[0m \u001b[38;5;28;01mimport\u001b[39;00m \u001b[38;5;21;01mnumpy\u001b[39;00m \u001b[38;5;28;01mas\u001b[39;00m \u001b[38;5;21;01mnp\u001b[39;00m\n\u001b[1;32m      4\u001b[0m \u001b[38;5;28;01mimport\u001b[39;00m \u001b[38;5;21;01mpandas\u001b[39;00m \u001b[38;5;28;01mas\u001b[39;00m \u001b[38;5;21;01mpd\u001b[39;00m\n\u001b[0;32m----> 5\u001b[0m \u001b[38;5;28;01mfrom\u001b[39;00m \u001b[38;5;21;01mhmmlearn\u001b[39;00m\u001b[38;5;21;01m.\u001b[39;00m\u001b[38;5;21;01mhmm\u001b[39;00m \u001b[38;5;28;01mimport\u001b[39;00m GaussianHMM\n\u001b[1;32m      6\u001b[0m \u001b[38;5;28;01mfrom\u001b[39;00m \u001b[38;5;21;01msklearn\u001b[39;00m\u001b[38;5;21;01m.\u001b[39;00m\u001b[38;5;21;01mmetrics\u001b[39;00m \u001b[38;5;28;01mimport\u001b[39;00m mean_squared_error\n",
      "\u001b[0;31mModuleNotFoundError\u001b[0m: No module named 'hmmlearn'"
     ]
    }
   ],
   "source": [
    "#!pip install yfinance\n",
    "#!pip install hmmlearn\n",
    "import yfinance as yf\n",
    "import numpy as np\n",
    "import pandas as pd\n",
    "from hmmlearn.hmm import GaussianHMM\n",
    "from sklearn.metrics import mean_squared_error\n"
   ]
  },
  {
   "cell_type": "code",
   "execution_count": 5,
   "id": "28d4a72c",
   "metadata": {},
   "outputs": [
    {
     "name": "stdout",
     "output_type": "stream",
     "text": [
      "Collecting hmmlearn\n",
      "  Downloading hmmlearn-0.3.3-cp312-cp312-macosx_10_9_universal2.whl.metadata (3.0 kB)\n",
      "Requirement already satisfied: numpy>=1.10 in /Library/Frameworks/Python.framework/Versions/3.12/lib/python3.12/site-packages (from hmmlearn) (2.0.1)\n",
      "Collecting scikit-learn!=0.22.0,>=0.16 (from hmmlearn)\n",
      "  Downloading scikit_learn-1.5.2.tar.gz (7.0 MB)\n",
      "\u001b[2K     \u001b[90m━━━━━━━━━━━━━━━━━━━━━━━━━━━━━━━━━━━━━━━━\u001b[0m \u001b[32m7.0/7.0 MB\u001b[0m \u001b[31m14.9 MB/s\u001b[0m eta \u001b[36m0:00:00\u001b[0m00:01\u001b[0m00:01\u001b[0m\n",
      "\u001b[?25h  Installing build dependencies ... \u001b[?25l|"
     ]
    }
   ],
   "source": [
    "pip install hmmlearn"
   ]
  },
  {
   "cell_type": "code",
   "execution_count": 2,
   "id": "40feee3d",
   "metadata": {},
   "outputs": [
    {
     "name": "stdout",
     "output_type": "stream",
     "text": [
      "[*********************100%%**********************]  1 of 1 completed\n"
     ]
    }
   ],
   "source": [
    "ticker = \"^GSPC\"  # S&P 500 index symbol\n",
    "\n",
    "data = yf.download(ticker, start=\"1950-01-01\", end=\"2016-11-30\", interval=\"1mo\")\n",
    "data.dropna(inplace=True)"
   ]
  },
  {
   "cell_type": "code",
   "execution_count": 3,
   "id": "f5d87567",
   "metadata": {},
   "outputs": [
    {
     "name": "stdout",
     "output_type": "stream",
     "text": [
      "   Price         Min          Max         Mean        Std.\n",
      "0   Open  167.199997  2173.149902   969.192478  543.577386\n",
      "1   High  180.270004  2214.100098  1000.686034  557.155179\n",
      "2    Low  163.360001  2147.580078   935.889869  526.896105\n",
      "3  Close  179.630005  2198.810059   974.394776  545.519109\n"
     ]
    }
   ],
   "source": [
    "descriptive_stats = {\n",
    "    \"Price\": [\"Open\", \"High\", \"Low\", \"Close\"],\n",
    "    \"Min\": [data['Open'].min(), data['High'].min(), data['Low'].min(), data['Close'].min()],\n",
    "    \"Max\": [data['Open'].max(), data['High'].max(), data['Low'].max(), data['Close'].max()],\n",
    "    \"Mean\": [data['Open'].mean(), data['High'].mean(), data['Low'].mean(), data['Close'].mean()],\n",
    "    \"Std.\": [data['Open'].std(), data['High'].std(), data['Low'].std(), data['Close'].std()],\n",
    "}\n",
    "\n",
    "summary_table = pd.DataFrame(descriptive_stats)\n",
    "\n",
    "print(summary_table)\n"
   ]
  },
  {
   "cell_type": "code",
   "execution_count": null,
   "id": "4e13db53-3800-4f56-aa57-af2f0d009184",
   "metadata": {},
   "outputs": [],
   "source": [
    "#Model selection \n",
    "close = data['Close'].values\n",
    "\n",
    "# M as number of obserations, k as number of parameters \n",
    "def calculate_model_criteria(hmm_model, M, k): \n",
    "    L = hmm_model.score(close)\n",
    "    aic = -2 * L + 2 * k\n",
    "    bic = -2 * L + k * np.log(M)\n",
    "    hqc = -2 * L + 2 * k * np.log(np.log(M))\n",
    "    caic = -2 * L + k * (1 + np.log(M))\n",
    "    return aic, bic, hqc, caic\n",
    "\n",
    "\n",
    "state_range = range(2, 7)  # HMM with 2 to 6 states\n",
    "best_model = None\n",
    "best_criteria = {\"AIC\": float('inf'), \"BIC\": float('inf'), \"HQC\": float('inf'), \"CAIC\": float('inf')}\n",
    "data_length = len(close)\n",
    "\n",
    "for num_states in state_range:\n",
    "    model = GaussianHMM(n_components=num_states, covariance_type='diag', random_state=42)\n",
    "    model.fit(close)\n",
    "    \n",
    "    num_params = num_states ** 2 + 2 * num_states * close.shape[1] - 1  # Transition, emission, and initial probs\n",
    "    aic, bic, hqc, caic = calculate_model_criteria(model, data_length, num_params)\n",
    "    \n",
    "    # Update best model based on BIC as the primary criterion\n",
    "    if bic < best_criteria[\"BIC\"]:\n",
    "        best_model = model\n",
    "        best_criteria = {\"AIC\": aic, \"BIC\": bic, \"HQC\": hqc, \"CAIC\": caic}\n",
    "\n",
    "print(\"Best Model Criteria:\", best_criteria)\n",
    "\n",
    "# Step 6: Predict closing price\n",
    "predicted_prices = []\n",
    "historical_avg_model = data['Close'].rolling(window=10).mean().shift(1)\n",
    "\n",
    "for i in range(len(close)):\n",
    "    state = best_model.predict(close[:i + 1])[-1]  # Predict current state\n",
    "    state_means = best_model.means_[state]            # Mean of observed values in the predicted state\n",
    "    predicted_price = data['Close'].iloc[i] * (1 + state_means[-1])  # Predict close price based on % change\n",
    "    predicted_prices.append(predicted_price)\n",
    "\n",
    "# Step 7: Evaluate predictions\n",
    "data['Predicted_Close'] = predicted_prices\n",
    "data['HAR_Close'] = historical_avg_model\n",
    "data.dropna(inplace=True)\n",
    "\n",
    "hmm_mse = mean_squared_error(data['Close'], data['Predicted_Close'])\n",
    "har_mse = mean_squared_error(data['Close'], data['HAR_Close'])\n",
    "print(f\"HMM MSE: {hmm_mse}, HAR MSE: {har_mse}\")\n",
    "\n",
    "# Step 8: Trading simulation (buy if predicted rise, sell otherwise)\n",
    "data['Signal'] = np.where(data['Predicted_Close'] > data['Close'], 1, -1)\n",
    "data['Return'] = data['Signal'] * data['Close'].pct_change()\n",
    "\n",
    "hmm_cumulative_return = (1 + data['Return']).cumprod()\n",
    "buy_and_hold_return = (1 + data['Close'].pct_change()).cumprod()\n",
    "\n",
    "# Print results\n",
    "print(f\"HMM Cumulative Return: {hmm_cumulative_return.iloc[-1]:.2f}\")\n",
    "print(f\"Buy-and-Hold Cumulative Return: {buy_and_hold_return.iloc[-1]:.2f}\")"
   ]
  }
 ],
 "metadata": {
  "kernelspec": {
   "display_name": "base",
   "language": "python",
   "name": "python3"
  },
  "language_info": {
   "codemirror_mode": {
    "name": "ipython",
    "version": 3
   },
   "file_extension": ".py",
   "mimetype": "text/x-python",
   "name": "python",
   "nbconvert_exporter": "python",
   "pygments_lexer": "ipython3",
   "version": "3.12.4"
  }
 },
 "nbformat": 4,
 "nbformat_minor": 5
}
