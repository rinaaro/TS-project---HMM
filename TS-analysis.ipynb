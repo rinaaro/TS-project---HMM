{
 "cells": [
  {
   "cell_type": "code",
   "execution_count": 2,
   "metadata": {},
   "outputs": [],
   "source": [
    "#!pip install yfinance\n",
    "#!pip install hmmlearn\n",
    "#pip install arch\n",
    "#pip install scipy\n",
    "#pip install --upgrade --user hmmlearn\n",
    "#pip install --user git+https://github.com/hmmlearn/hmmlearn\n",
    "from sklearn.mixture import GaussianMixture\n",
    "import yfinance as yf\n",
    "import numpy as np\n",
    "from numpy import random\n",
    "import pandas as pd\n",
    "from sklearn.metrics import mean_squared_error, root_mean_squared_error, r2_score \n",
    "from hmmlearn import hmm\n",
    "from hmmlearn.hmm import GaussianHMM \n",
    "import matplotlib.pyplot as plt\n",
    "import statsmodels.api as sm\n",
    "from scipy.stats import chi2, t, norm\n",
    "import datetime as dt\n",
    "from datetime import datetime\n",
    "from itertools import product\n",
    "from arch import arch_model"
   ]
  },
  {
   "cell_type": "markdown",
   "metadata": {},
   "source": [
    "# Data collection"
   ]
  },
  {
   "cell_type": "code",
   "execution_count": 4,
   "metadata": {},
   "outputs": [
    {
     "name": "stdout",
     "output_type": "stream",
     "text": [
      "[*********************100%%**********************]  1 of 1 completed\n"
     ]
    }
   ],
   "source": [
    "ticker = \"^GSPC\"  #S&P 500 index symbol\n",
    "daily = yf.download(ticker, start=\"1950-01-01\", end=\"2024-11-30\", interval=\"1d\")\n",
    "#daily.loc[(daily['Open'] == 0) & (daily.index >= '1961-12-29') & (daily.index <= '1982-04-20'), 'Open'] = np.nan\n",
    "#Before 29th Dec 1961, same values in the row\n",
    "#Between 29th Dec 1961 and 20th April 1982, \"Open\" set to 0\n",
    "\n",
    "daily = daily[daily.columns[0:4]]"
   ]
  },
  {
   "cell_type": "code",
   "execution_count": 6,
   "metadata": {},
   "outputs": [],
   "source": [
    "# Resample the data to monthly frequency\n",
    "monthly = daily.resample('MS').agg({'Open': 'first','High': 'max','Low': 'min','Close': 'last'})\n",
    "monthly = monthly.dropna()\n",
    "monthly_with_dates = monthly\n",
    "\n",
    "# Reset the index to have 'Date' as a column\n",
    "monthly = monthly.reset_index()\n",
    "\n",
    "#calculate log returns\n",
    "log_returns = np.log(monthly_with_dates['Close'] / monthly_with_dates['Close'].shift(1)).dropna()\n"
   ]
  },
  {
   "cell_type": "code",
   "execution_count": 8,
   "metadata": {},
   "outputs": [
    {
     "data": {
      "text/plain": [
       "<Axes: >"
      ]
     },
     "execution_count": 8,
     "metadata": {},
     "output_type": "execute_result"
    },
    {
     "data": {
      "image/png": "[encoded data removed]",
      "text/plain": [
       "<Figure size 640x480 with 1 Axes>"
      ]
     },
     "metadata": {},
     "output_type": "display_data"
    }
   ],
   "source": [
    "monthly['Close'].plot()"
   ]
  },
  {
   "cell_type": "markdown",
   "metadata": {},
   "source": [
    "# Test for stationarity "
   ]
  },
  {
   "cell_type": "code",
   "execution_count": 16,
   "metadata": {},
   "outputs": [
    {
     "name": "stdout",
     "output_type": "stream",
     "text": [
      "(899,)\n"
     ]
    }
   ],
   "source": [
    "True_price = monthly_with_dates['Close']\n",
    "print(True_price.shape)"
   ]
  },
  {
   "cell_type": "code",
   "execution_count": 18,
   "metadata": {},
   "outputs": [
    {
     "data": {
      "text/plain": [
       "Date\n",
       "1950-01-01      17.049999\n",
       "1950-02-01      17.219999\n",
       "1950-03-01      17.290001\n",
       "1950-04-01      17.959999\n",
       "1950-05-01      18.780001\n",
       "                 ...     \n",
       "2024-07-01    5522.299805\n",
       "2024-08-01    5648.399902\n",
       "2024-09-01    5762.479980\n",
       "2024-10-01    5705.450195\n",
       "2024-11-01    6032.379883\n",
       "Freq: MS, Name: Close, Length: 899, dtype: float64"
      ]
     },
     "execution_count": 18,
     "metadata": {},
     "output_type": "execute_result"
    }
   ],
   "source": [
    "True_price"
   ]
  },
  {
   "cell_type": "code",
   "execution_count": 20,
   "metadata": {},
   "outputs": [
    {
     "data": {
      "text/plain": [
       "(5.530603168749355,\n",
       " 1.0,\n",
       " {'1%': -2.5682738268565344,\n",
       "  '5%': -1.941308107020567,\n",
       "  '10%': -1.616522983799078},\n",
       " <statsmodels.stats.diagnostic.ResultsStore at 0x1771ce350>)"
      ]
     },
     "execution_count": 20,
     "metadata": {},
     "output_type": "execute_result"
    }
   ],
   "source": [
    "sm.tsa.stattools.adfuller(True_price, regression='n', autolag='BIC', store=False, regresults=True)"
   ]
  },
  {
   "cell_type": "code",
   "execution_count": 22,
   "metadata": {},
   "outputs": [
    {
     "data": {
      "text/plain": [
       "(4.977697371218509,\n",
       " 1.0,\n",
       " {'1%': -3.4377689935918783,\n",
       "  '5%': -2.864815046188292,\n",
       "  '10%': -2.5685138660653957},\n",
       " <statsmodels.stats.diagnostic.ResultsStore at 0x1771d9110>)"
      ]
     },
     "execution_count": 22,
     "metadata": {},
     "output_type": "execute_result"
    }
   ],
   "source": [
    "sm.tsa.stattools.adfuller(True_price, regression='c', autolag='BIC', store=False, regresults=True)"
   ]
  },
  {
   "cell_type": "code",
   "execution_count": 24,
   "metadata": {},
   "outputs": [
    {
     "data": {
      "text/plain": [
       "(3.5312595451308604,\n",
       " 1.0,\n",
       " {'1%': -3.969047635796577,\n",
       "  '5%': -3.415468144550754,\n",
       "  '10%': -3.1299799419503365},\n",
       " <statsmodels.stats.diagnostic.ResultsStore at 0x1771b5c50>)"
      ]
     },
     "execution_count": 24,
     "metadata": {},
     "output_type": "execute_result"
    }
   ],
   "source": [
    "sm.tsa.stattools.adfuller(True_price, regression='ct', autolag='BIC', store=False, regresults=True)\n",
    "#we cannot reject H0 which means that the TS is non- stationary"
   ]
  },
  {
   "cell_type": "code",
   "execution_count": 26,
   "metadata": {},
   "outputs": [],
   "source": [
    "True_price_diff = True_price.diff().dropna()  #we differenciate the TS to make it stationnary\n"
   ]
  },
  {
   "cell_type": "code",
   "execution_count": 36,
   "metadata": {},
   "outputs": [
    {
     "data": {
      "text/plain": [
       "(-5.718159037552278,\n",
       " 3.703569075127272e-08,\n",
       " {'1%': -2.5682567137987626,\n",
       "  '5%': -1.941306001663903,\n",
       "  '10%': -1.6165249633898795},\n",
       " <statsmodels.stats.diagnostic.ResultsStore at 0x17732b110>)"
      ]
     },
     "execution_count": 36,
     "metadata": {},
     "output_type": "execute_result"
    }
   ],
   "source": [
    "sm.tsa.stattools.adfuller(True_price_diff, regression='n', autolag='BIC', store=False, regresults=True)\n",
    "#now it is stationary"
   ]
  },
  {
   "cell_type": "code",
   "execution_count": 32,
   "metadata": {},
   "outputs": [
    {
     "data": {
      "text/plain": [
       "(-6.048662561267591,\n",
       " 1.2933615273721426e-07,\n",
       " {'1%': -3.43771883253448,\n",
       "  '5%': -2.8647929301713977,\n",
       "  '10%': -2.568502085595253},\n",
       " <statsmodels.stats.diagnostic.ResultsStore at 0x1750e9290>)"
      ]
     },
     "execution_count": 32,
     "metadata": {},
     "output_type": "execute_result"
    }
   ],
   "source": [
    "sm.tsa.stattools.adfuller(True_price_diff, regression='c', autolag='BIC', store=False, regresults=True)"
   ]
  },
  {
   "cell_type": "code",
   "execution_count": 38,
   "metadata": {},
   "outputs": [
    {
     "data": {
      "text/plain": [
       "(-6.667193399524683,\n",
       " 7.882817558710029e-08,\n",
       " {'1%': -3.9689781021789607,\n",
       "  '5%': -3.415434505721528,\n",
       "  '10%': -3.1299601554678294},\n",
       " <statsmodels.stats.diagnostic.ResultsStore at 0x1775d9410>)"
      ]
     },
     "execution_count": 38,
     "metadata": {},
     "output_type": "execute_result"
    }
   ],
   "source": [
    "sm.tsa.stattools.adfuller(True_price_diff, regression='ct', autolag='BIC', store=False, regresults=True)"
   ]
  },
  {
   "cell_type": "markdown",
   "metadata": {},
   "source": [
    "# Check for serial dependance in the white noise"
   ]
  },
  {
   "cell_type": "code",
   "execution_count": 42,
   "metadata": {},
   "outputs": [
    {
     "data": {
      "text/html": [
       "<div>\n",
       "<style scoped>\n",
       "    .dataframe tbody tr th:only-of-type {\n",
       "        vertical-align: middle;\n",
       "    }\n",
       "\n",
       "    .dataframe tbody tr th {\n",
       "        vertical-align: top;\n",
       "    }\n",
       "\n",
       "    .dataframe thead th {\n",
       "        text-align: right;\n",
       "    }\n",
       "</style>\n",
       "<table border=\"1\" class=\"dataframe\">\n",
       "  <thead>\n",
       "    <tr style=\"text-align: right;\">\n",
       "      <th></th>\n",
       "      <th>lb_stat</th>\n",
       "      <th>lb_pvalue</th>\n",
       "    </tr>\n",
       "  </thead>\n",
       "  <tbody>\n",
       "    <tr>\n",
       "      <th>5</th>\n",
       "      <td>25.889188</td>\n",
       "      <td>0.000094</td>\n",
       "    </tr>\n",
       "  </tbody>\n",
       "</table>\n",
       "</div>"
      ],
      "text/plain": [
       "     lb_stat  lb_pvalue\n",
       "5  25.889188   0.000094"
      ]
     },
     "execution_count": 42,
     "metadata": {},
     "output_type": "execute_result"
    }
   ],
   "source": [
    "#===========================================================================\n",
    "# Ljung-Box test to check whether my time series is a White Noise\n",
    "#===========================================================================\n",
    "#so there is autocorrelations in the residuals\n",
    "\n",
    "n_autocor = 5\n",
    "sm.stats.diagnostic.acorr_ljungbox(True_price_diff, lags=[n_autocor])"
   ]
  },
  {
   "cell_type": "code",
   "execution_count": 44,
   "metadata": {},
   "outputs": [
    {
     "data": {
      "image/png": "[encoded data removed]",
      "text/plain": [
       "<Figure size 640x480 with 1 Axes>"
      ]
     },
     "metadata": {},
     "output_type": "display_data"
    },
    {
     "data": {
      "image/png": "[encoded data removed]",
      "text/plain": [
       "<Figure size 1200x800 with 2 Axes>"
      ]
     },
     "metadata": {},
     "output_type": "display_data"
    }
   ],
   "source": [
    "True_price_diff.plot()\n",
    "fig = plt.figure(figsize=(12,8))\n",
    "ax1 = fig.add_subplot(211)\n",
    "fig = sm.graphics.tsa.plot_acf(True_price_diff, lags=30, ax=ax1)\n",
    "ax2 = fig.add_subplot(212)\n",
    "fig = sm.graphics.tsa.plot_pacf(True_price_diff, lags=30, ax=ax2, method='ywm')"
   ]
  },
  {
   "cell_type": "markdown",
   "metadata": {},
   "source": [
    "### Now that we have seen that there is autocorrelation in the white noise, we apply a ARMA model on the TS"
   ]
  },
  {
   "cell_type": "code",
   "execution_count": 48,
   "metadata": {},
   "outputs": [
    {
     "name": "stdout",
     "output_type": "stream",
     "text": [
      "fitting: ar:0 -d:0 - ma:0\n",
      "fitting: ar:0 -d:0 - ma:1\n",
      "fitting: ar:0 -d:0 - ma:2\n",
      "fitting: ar:0 -d:0 - ma:3\n",
      "fitting: ar:0 -d:0 - ma:4\n",
      "fitting: ar:1 -d:0 - ma:0\n",
      "fitting: ar:1 -d:0 - ma:1\n",
      "fitting: ar:1 -d:0 - ma:2\n",
      "fitting: ar:1 -d:0 - ma:3\n",
      "fitting: ar:1 -d:0 - ma:4\n",
      "fitting: ar:2 -d:0 - ma:0\n",
      "fitting: ar:2 -d:0 - ma:1\n",
      "fitting: ar:2 -d:0 - ma:2\n"
     ]
    },
    {
     "name": "stderr",
     "output_type": "stream",
     "text": [
      "/opt/anaconda3/lib/python3.11/site-packages/statsmodels/tsa/statespace/sarimax.py:966: UserWarning: Non-stationary starting autoregressive parameters found. Using zeros as starting parameters.\n",
      "  warn('Non-stationary starting autoregressive parameters'\n",
      "/opt/anaconda3/lib/python3.11/site-packages/statsmodels/tsa/statespace/sarimax.py:978: UserWarning: Non-invertible starting MA parameters found. Using zeros as starting parameters.\n",
      "  warn('Non-invertible starting MA parameters found.'\n"
     ]
    },
    {
     "name": "stdout",
     "output_type": "stream",
     "text": [
      "fitting: ar:2 -d:0 - ma:3\n",
      "fitting: ar:2 -d:0 - ma:4\n"
     ]
    },
    {
     "name": "stderr",
     "output_type": "stream",
     "text": [
      "/opt/anaconda3/lib/python3.11/site-packages/statsmodels/base/model.py:607: ConvergenceWarning: Maximum Likelihood optimization failed to converge. Check mle_retvals\n",
      "  warnings.warn(\"Maximum Likelihood optimization failed to \"\n"
     ]
    },
    {
     "name": "stdout",
     "output_type": "stream",
     "text": [
      "fitting: ar:3 -d:0 - ma:0\n",
      "fitting: ar:3 -d:0 - ma:1\n",
      "fitting: ar:3 -d:0 - ma:2\n"
     ]
    },
    {
     "name": "stderr",
     "output_type": "stream",
     "text": [
      "/opt/anaconda3/lib/python3.11/site-packages/statsmodels/tsa/statespace/sarimax.py:966: UserWarning: Non-stationary starting autoregressive parameters found. Using zeros as starting parameters.\n",
      "  warn('Non-stationary starting autoregressive parameters'\n",
      "/opt/anaconda3/lib/python3.11/site-packages/statsmodels/base/model.py:607: ConvergenceWarning: Maximum Likelihood optimization failed to converge. Check mle_retvals\n",
      "  warnings.warn(\"Maximum Likelihood optimization failed to \"\n",
      "/opt/anaconda3/lib/python3.11/site-packages/statsmodels/tsa/statespace/sarimax.py:966: UserWarning: Non-stationary starting autoregressive parameters found. Using zeros as starting parameters.\n",
      "  warn('Non-stationary starting autoregressive parameters'\n",
      "/opt/anaconda3/lib/python3.11/site-packages/statsmodels/tsa/statespace/sarimax.py:978: UserWarning: Non-invertible starting MA parameters found. Using zeros as starting parameters.\n",
      "  warn('Non-invertible starting MA parameters found.'\n"
     ]
    },
    {
     "name": "stdout",
     "output_type": "stream",
     "text": [
      "fitting: ar:3 -d:0 - ma:3\n"
     ]
    },
    {
     "name": "stderr",
     "output_type": "stream",
     "text": [
      "/opt/anaconda3/lib/python3.11/site-packages/statsmodels/base/model.py:607: ConvergenceWarning: Maximum Likelihood optimization failed to converge. Check mle_retvals\n",
      "  warnings.warn(\"Maximum Likelihood optimization failed to \"\n"
     ]
    },
    {
     "name": "stdout",
     "output_type": "stream",
     "text": [
      "fitting: ar:3 -d:0 - ma:4\n"
     ]
    },
    {
     "name": "stderr",
     "output_type": "stream",
     "text": [
      "/opt/anaconda3/lib/python3.11/site-packages/statsmodels/base/model.py:607: ConvergenceWarning: Maximum Likelihood optimization failed to converge. Check mle_retvals\n",
      "  warnings.warn(\"Maximum Likelihood optimization failed to \"\n"
     ]
    },
    {
     "name": "stdout",
     "output_type": "stream",
     "text": [
      "fitting: ar:4 -d:0 - ma:0\n",
      "fitting: ar:4 -d:0 - ma:1\n",
      "fitting: ar:4 -d:0 - ma:2\n"
     ]
    },
    {
     "name": "stderr",
     "output_type": "stream",
     "text": [
      "/opt/anaconda3/lib/python3.11/site-packages/statsmodels/tsa/statespace/sarimax.py:966: UserWarning: Non-stationary starting autoregressive parameters found. Using zeros as starting parameters.\n",
      "  warn('Non-stationary starting autoregressive parameters'\n",
      "/opt/anaconda3/lib/python3.11/site-packages/statsmodels/tsa/statespace/sarimax.py:978: UserWarning: Non-invertible starting MA parameters found. Using zeros as starting parameters.\n",
      "  warn('Non-invertible starting MA parameters found.'\n",
      "/opt/anaconda3/lib/python3.11/site-packages/statsmodels/base/model.py:607: ConvergenceWarning: Maximum Likelihood optimization failed to converge. Check mle_retvals\n",
      "  warnings.warn(\"Maximum Likelihood optimization failed to \"\n",
      "/opt/anaconda3/lib/python3.11/site-packages/statsmodels/tsa/statespace/sarimax.py:966: UserWarning: Non-stationary starting autoregressive parameters found. Using zeros as starting parameters.\n",
      "  warn('Non-stationary starting autoregressive parameters'\n",
      "/opt/anaconda3/lib/python3.11/site-packages/statsmodels/tsa/statespace/sarimax.py:978: UserWarning: Non-invertible starting MA parameters found. Using zeros as starting parameters.\n",
      "  warn('Non-invertible starting MA parameters found.'\n"
     ]
    },
    {
     "name": "stdout",
     "output_type": "stream",
     "text": [
      "fitting: ar:4 -d:0 - ma:3\n"
     ]
    },
    {
     "name": "stderr",
     "output_type": "stream",
     "text": [
      "/opt/anaconda3/lib/python3.11/site-packages/statsmodels/base/model.py:607: ConvergenceWarning: Maximum Likelihood optimization failed to converge. Check mle_retvals\n",
      "  warnings.warn(\"Maximum Likelihood optimization failed to \"\n"
     ]
    },
    {
     "name": "stdout",
     "output_type": "stream",
     "text": [
      "fitting: ar:4 -d:0 - ma:4\n"
     ]
    },
    {
     "name": "stderr",
     "output_type": "stream",
     "text": [
      "/opt/anaconda3/lib/python3.11/site-packages/statsmodels/base/model.py:607: ConvergenceWarning: Maximum Likelihood optimization failed to converge. Check mle_retvals\n",
      "  warnings.warn(\"Maximum Likelihood optimization failed to \"\n"
     ]
    },
    {
     "name": "stdout",
     "output_type": "stream",
     "text": [
      "fitting: ar:5 -d:0 - ma:0\n",
      "fitting: ar:5 -d:0 - ma:1\n",
      "fitting: ar:5 -d:0 - ma:2\n",
      "fitting: ar:5 -d:0 - ma:3\n"
     ]
    },
    {
     "name": "stderr",
     "output_type": "stream",
     "text": [
      "/opt/anaconda3/lib/python3.11/site-packages/statsmodels/tsa/statespace/sarimax.py:966: UserWarning: Non-stationary starting autoregressive parameters found. Using zeros as starting parameters.\n",
      "  warn('Non-stationary starting autoregressive parameters'\n",
      "/opt/anaconda3/lib/python3.11/site-packages/statsmodels/tsa/statespace/sarimax.py:978: UserWarning: Non-invertible starting MA parameters found. Using zeros as starting parameters.\n",
      "  warn('Non-invertible starting MA parameters found.'\n",
      "/opt/anaconda3/lib/python3.11/site-packages/statsmodels/base/model.py:607: ConvergenceWarning: Maximum Likelihood optimization failed to converge. Check mle_retvals\n",
      "  warnings.warn(\"Maximum Likelihood optimization failed to \"\n"
     ]
    },
    {
     "name": "stdout",
     "output_type": "stream",
     "text": [
      "fitting: ar:5 -d:0 - ma:4\n",
      "criterion\n",
      "     ar_order  d_order  ma_order        aic        bic\n",
      "0          0        0         0  10.002979  10.012579\n",
      "1          0        0         1   9.998455  10.012855\n",
      "2          0        0         2  10.000230  10.019431\n",
      "3          0        0         3   9.988172  10.012173\n",
      "4          0        0         4   9.989449  10.018250\n",
      "5          1        0         0   9.998863  10.013263\n",
      "6          1        0         1  10.000396  10.019597\n",
      "7          1        0         2   9.981856  10.005857\n",
      "8          1        0         3   9.967564   9.996365\n",
      "9          1        0         4   9.969468  10.003069\n",
      "10         2        0         0   9.999075  10.018275\n",
      "11         2        0         1   9.996041  10.020042\n",
      "12         2        0         2   9.968600   9.997401\n",
      "13         2        0         3   9.968384  10.001986\n",
      "14         2        0         4   9.967225  10.005627\n",
      "15         3        0         0   9.990926  10.014926\n",
      "16         3        0         1   9.971609  10.000410\n",
      "17         3        0         2   9.999372  10.032973\n",
      "18         3        0         3   9.964221  10.002623\n",
      "19         3        0         4   9.933211   9.976412\n",
      "20         4        0         0   9.987524  10.016325\n",
      "21         4        0         1   9.973242  10.006843\n",
      "22         4        0         2   9.971164  10.009565\n",
      "23         4        0         3   9.966133  10.009334\n",
      "24         4        0         4   9.936366   9.984367\n",
      "25         5        0         0   9.981786  10.015387\n",
      "26         5        0         1   9.981884  10.020285\n",
      "27         5        0         2   9.974179  10.017380\n",
      "28         5        0         3   9.954792  10.002794\n",
      "29         5        0         4   9.932907   9.985709\n"
     ]
    },
    {
     "name": "stderr",
     "output_type": "stream",
     "text": [
      "/opt/anaconda3/lib/python3.11/site-packages/statsmodels/base/model.py:607: ConvergenceWarning: Maximum Likelihood optimization failed to converge. Check mle_retvals\n",
      "  warnings.warn(\"Maximum Likelihood optimization failed to \"\n"
     ]
    }
   ],
   "source": [
    "#===========================================================================\n",
    "# estimate ARMA \n",
    "#===========================================================================\n",
    "ar_order = [0, 1, 2, 3, 4, 5]\n",
    "d_order = [0]\n",
    "ma_order = [0, 1, 2, 3, 4]\n",
    "arma_res = [list(orders) for orders in product(ar_order, d_order, ma_order)]\n",
    "#     pprint.pprint(arma_res)\n",
    "\n",
    "# sm.tsa.arima.model.ARIMA\n",
    "for order in arma_res:\n",
    "    print('fitting: ar:{} -d:{} - ma:{}'.format(*order)) \n",
    "    try:\n",
    "        arma_model = sm.tsa.arima.ARIMA(True_price_diff, order=order).fit()\n",
    "        order.extend([arma_model.aic / 1e3, arma_model.bic / 1e3])\n",
    "    except Exception as exception:\n",
    "        print(exception.__str__())\n",
    "        order.extend([np.NaN, np.NaN])\n",
    "    \n",
    "res = pd.DataFrame(arma_res, columns = ['ar_order', 'd_order', 'ma_order', 'aic', 'bic'])\n",
    "print('criterion\\n', res)"
   ]
  },
  {
   "cell_type": "code",
   "execution_count": 52,
   "metadata": {},
   "outputs": [
    {
     "name": "stdout",
     "output_type": "stream",
     "text": [
      "                               SARIMAX Results                                \n",
      "==============================================================================\n",
      "Dep. Variable:                  Close   No. Observations:                  898\n",
      "Model:                 ARIMA(3, 0, 4)   Log Likelihood               -4957.605\n",
      "Date:                Tue, 31 Dec 2024   AIC                           9933.211\n",
      "Time:                        18:40:52   BIC                           9976.412\n",
      "Sample:                    02-01-1950   HQIC                          9949.716\n",
      "                         - 11-01-2024                                         \n",
      "Covariance Type:                  opg                                         \n",
      "==============================================================================\n",
      "                 coef    std err          z      P>|z|      [0.025      0.975]\n",
      "------------------------------------------------------------------------------\n",
      "const          6.7480     64.808      0.104      0.917    -120.273     133.769\n",
      "ar.L1          0.9938      0.009    109.059      0.000       0.976       1.012\n",
      "ar.L2         -0.9618      0.009   -104.404      0.000      -0.980      -0.944\n",
      "ar.L3          0.9660      0.009    108.599      0.000       0.949       0.983\n",
      "ma.L1         -1.1077      0.017    -66.196      0.000      -1.141      -1.075\n",
      "ma.L2          1.0887      0.019     56.668      0.000       1.051       1.126\n",
      "ma.L3         -0.9968      0.020    -50.346      0.000      -1.036      -0.958\n",
      "ma.L4          0.0564      0.015      3.708      0.000       0.027       0.086\n",
      "sigma2      3888.3701     74.071     52.495      0.000    3743.194    4033.547\n",
      "===================================================================================\n",
      "Ljung-Box (L1) (Q):                   0.00   Jarque-Bera (JB):              6999.98\n",
      "Prob(Q):                              0.95   Prob(JB):                         0.00\n",
      "Heteroskedasticity (H):            1155.03   Skew:                            -0.94\n",
      "Prob(H) (two-sided):                  0.00   Kurtosis:                        16.55\n",
      "===================================================================================\n",
      "\n",
      "Warnings:\n",
      "[1] Covariance matrix calculated using the outer product of gradients (complex-step).\n"
     ]
    },
    {
     "name": "stderr",
     "output_type": "stream",
     "text": [
      "/opt/anaconda3/lib/python3.11/site-packages/statsmodels/base/model.py:607: ConvergenceWarning: Maximum Likelihood optimization failed to converge. Check mle_retvals\n",
      "  warnings.warn(\"Maximum Likelihood optimization failed to \"\n"
     ]
    },
    {
     "data": {
      "text/plain": [
       "9933.210796329997"
      ]
     },
     "execution_count": 52,
     "metadata": {},
     "output_type": "execute_result"
    }
   ],
   "source": [
    "# best is ARMA(3, 4)\n",
    "res = sm.tsa.arima.ARIMA(True_price_diff, order=(3,0,4)).fit()\n",
    "res\n",
    "print(res.summary())\n",
    "res.aic"
   ]
  },
  {
   "cell_type": "markdown",
   "metadata": {},
   "source": [
    "### We then run a ARCH test on the residuals to make sure that we have homoskedacity - we don't btw"
   ]
  },
  {
   "cell_type": "code",
   "execution_count": 56,
   "metadata": {},
   "outputs": [],
   "source": [
    "residus = res.resid"
   ]
  },
  {
   "cell_type": "code",
   "execution_count": 58,
   "metadata": {},
   "outputs": [
    {
     "data": {
      "text/html": [
       "<div>\n",
       "<style scoped>\n",
       "    .dataframe tbody tr th:only-of-type {\n",
       "        vertical-align: middle;\n",
       "    }\n",
       "\n",
       "    .dataframe tbody tr th {\n",
       "        vertical-align: top;\n",
       "    }\n",
       "\n",
       "    .dataframe thead th {\n",
       "        text-align: right;\n",
       "    }\n",
       "</style>\n",
       "<table border=\"1\" class=\"dataframe\">\n",
       "  <thead>\n",
       "    <tr style=\"text-align: right;\">\n",
       "      <th></th>\n",
       "      <th>lb_stat</th>\n",
       "      <th>lb_pvalue</th>\n",
       "    </tr>\n",
       "  </thead>\n",
       "  <tbody>\n",
       "    <tr>\n",
       "      <th>5</th>\n",
       "      <td>738.624275</td>\n",
       "      <td>2.182697e-157</td>\n",
       "    </tr>\n",
       "  </tbody>\n",
       "</table>\n",
       "</div>"
      ],
      "text/plain": [
       "      lb_stat      lb_pvalue\n",
       "5  738.624275  2.182697e-157"
      ]
     },
     "execution_count": 58,
     "metadata": {},
     "output_type": "execute_result"
    }
   ],
   "source": [
    "#===========================================================================\n",
    "# ARCH tests \n",
    "#===========================================================================\n",
    "\n",
    "n_autocor = 5\n",
    "sm.stats.diagnostic.acorr_ljungbox(residus**2, lags=[n_autocor])\n",
    "#We have heteroskedacity"
   ]
  },
  {
   "cell_type": "markdown",
   "metadata": {},
   "source": [
    "# We run a GARCH model on the residuals"
   ]
  },
  {
   "cell_type": "code",
   "execution_count": 65,
   "metadata": {},
   "outputs": [
    {
     "name": "stdout",
     "output_type": "stream",
     "text": [
      "Iteration:      1,   Func. Count:      6,   Neg. LLF: 6342.434202517588\n",
      "Iteration:      2,   Func. Count:     12,   Neg. LLF: 6476.052626000197\n",
      "Iteration:      3,   Func. Count:     20,   Neg. LLF: 4012.9919558515357\n",
      "Iteration:      4,   Func. Count:     25,   Neg. LLF: 3991.599307997743\n",
      "Iteration:      5,   Func. Count:     30,   Neg. LLF: 3980.2083167399983\n",
      "Iteration:      6,   Func. Count:     35,   Neg. LLF: 3944.838929512364\n",
      "Iteration:      7,   Func. Count:     40,   Neg. LLF: 4070.688025747365\n",
      "Iteration:      8,   Func. Count:     46,   Neg. LLF: 3918.5739621832317\n",
      "Iteration:      9,   Func. Count:     52,   Neg. LLF: 3865.2768618953987\n",
      "Iteration:     10,   Func. Count:     58,   Neg. LLF: 3701.2119224874214\n",
      "Iteration:     11,   Func. Count:     63,   Neg. LLF: 4888.75752316497\n",
      "Iteration:     12,   Func. Count:     71,   Neg. LLF: 11280.353859984903\n",
      "Iteration:     13,   Func. Count:     77,   Neg. LLF: 568450472.0905794\n",
      "Iteration:     14,   Func. Count:     84,   Neg. LLF: 58834.38362267897\n",
      "Iteration:     15,   Func. Count:     90,   Neg. LLF: 3603.0972559735023\n",
      "Iteration:     16,   Func. Count:     95,   Neg. LLF: 3608.2547125876163\n",
      "Iteration:     17,   Func. Count:    101,   Neg. LLF: 3602.199527616216\n",
      "Iteration:     18,   Func. Count:    107,   Neg. LLF: 3599.4854670786513\n",
      "Iteration:     19,   Func. Count:    112,   Neg. LLF: 3599.3987908340373\n",
      "Iteration:     20,   Func. Count:    118,   Neg. LLF: 3599.1118475348067\n",
      "Iteration:     21,   Func. Count:    123,   Neg. LLF: 3599.111844790895\n",
      "Iteration:     22,   Func. Count:    128,   Neg. LLF: 3599.1116450207364\n",
      "Iteration:     23,   Func. Count:    132,   Neg. LLF: 3599.1116356197804\n",
      "Optimization terminated successfully    (Exit mode 0)\n",
      "            Current function value: 3599.1116450207364\n",
      "            Iterations: 27\n",
      "            Function evaluations: 132\n",
      "            Gradient evaluations: 23\n",
      "                     Constant Mean - GARCH Model Results                      \n",
      "==============================================================================\n",
      "Dep. Variable:                   None   R-squared:                       0.000\n",
      "Mean Model:             Constant Mean   Adj. R-squared:                  0.000\n",
      "Vol Model:                      GARCH   Log-Likelihood:               -3599.11\n",
      "Distribution:                  Normal   AIC:                           7206.22\n",
      "Method:            Maximum Likelihood   BIC:                           7225.42\n",
      "                                        No. Observations:                  898\n",
      "Date:                Tue, Dec 31 2024   Df Residuals:                      897\n",
      "Time:                        18:42:03   Df Model:                            1\n",
      "                               Mean Model                               \n",
      "========================================================================\n",
      "                 coef    std err          t      P>|t|  95.0% Conf. Int.\n",
      "------------------------------------------------------------------------\n",
      "mu            -0.5515      0.138     -3.998  6.380e-05 [ -0.822, -0.281]\n",
      "                              Volatility Model                             \n",
      "===========================================================================\n",
      "                 coef    std err          t      P>|t|     95.0% Conf. Int.\n",
      "---------------------------------------------------------------------------\n",
      "omega          0.0874  5.984e-02      1.460      0.144 [-2.993e-02,  0.205]\n",
      "alpha[1]       0.1407  1.507e-02      9.341  9.555e-21    [  0.111,  0.170]\n",
      "beta[1]        0.8593  2.041e-02     42.099      0.000    [  0.819,  0.899]\n",
      "===========================================================================\n",
      "\n",
      "Covariance estimator: robust\n"
     ]
    },
    {
     "data": {
      "image/png": "[encoded data removed]",
      "text/plain": [
       "<Figure size 640x480 with 2 Axes>"
      ]
     },
     "metadata": {},
     "output_type": "display_data"
    }
   ],
   "source": [
    "garch_res = arch_model(residus, p=1, o=0, q=1, dist='normal').fit()\n",
    "print(garch_res.summary())\n",
    "fig = garch_res.plot(annualize='D')"
   ]
  },
  {
   "cell_type": "markdown",
   "metadata": {},
   "source": [
    "# Forecast"
   ]
  },
  {
   "cell_type": "code",
   "execution_count": 76,
   "metadata": {},
   "outputs": [],
   "source": [
    "# Fit HMM with 6 regimes\n",
    "log_returns = log_returns.reshape(-1, 1)\n",
    "\n",
    "hmm_model = GaussianHMM(n_components=2, covariance_type=\"diag\", init_params=\"c\")\n",
    "hmm_model.fit(log_returns)\n",
    "\n",
    "hidden_states = hmm_model.decode(log_returns)[1]"
   ]
  },
  {
   "cell_type": "raw",
   "metadata": {},
   "source": [
    "#### Step 3: Fit Separate GARCH Models for Each Regime\n",
    "#Segment the data based on the identified regimes.\n",
    "# Fit a **GARCH model** (e.g., GARCH(1,1)) to the returns in each regime.\n",
    "\n",
    "# Separate data by regimes\n",
    "regime_1 = log_returns[hidden_states == 0]\n",
    "regime_2 = log_returns[hidden_states == 1]\n",
    "regime_3 = log_returns[hidden_states == 2]\n",
    "regime_4 = log_returns[hidden_states == 3]\n",
    "regime_5 = log_returns[hidden_states == 4]\n",
    "regime_6 = log_returns[hidden_states == 5]\n",
    "\n",
    "# Fit GARCH(1,1) models for each regime\n",
    "garch_1 = arch_model(regime_1, vol='Garch', p=1, q=1).fit(disp=\"off\")\n",
    "garch_2 = arch_model(regime_2, vol='Garch', p=1, q=1).fit(disp=\"off\")\n",
    "garch_3 = arch_model(regime_3, vol='Garch', p=1, q=1).fit(disp=\"off\")\n",
    "garch_4 = arch_model(regime_4, vol='Garch', p=1, q=1).fit(disp=\"off\")\n",
    "garch_5 = arch_model(regime_5, vol='Garch', p=1, q=1).fit(disp=\"off\")\n",
    "garch_6 = arch_model(regime_6, vol='Garch', p=1, q=1).fit(disp=\"off\")"
   ]
  },
  {
   "cell_type": "code",
   "execution_count": 86,
   "metadata": {},
   "outputs": [
    {
     "name": "stdout",
     "output_type": "stream",
     "text": [
      "Fitting GARCH(1,1) for Regime 0...\n",
      "\n",
      "Regime 0 GARCH Summary:\n",
      "                     Constant Mean - GARCH Model Results                      \n",
      "==============================================================================\n",
      "Dep. Variable:                      y   R-squared:                       0.000\n",
      "Mean Model:             Constant Mean   Adj. R-squared:                  0.000\n",
      "Vol Model:                      GARCH   Log-Likelihood:               -1271.00\n",
      "Distribution:                  Normal   AIC:                           2550.00\n",
      "Method:            Maximum Likelihood   BIC:                           2566.22\n",
      "                                        No. Observations:                  426\n",
      "Date:                Tue, Dec 31 2024   Df Residuals:                      425\n",
      "Time:                        18:48:07   Df Model:                            1\n",
      "                               Mean Model                               \n",
      "========================================================================\n",
      "                 coef    std err          t      P>|t|  95.0% Conf. Int.\n",
      "------------------------------------------------------------------------\n",
      "mu            -0.2637      0.219     -1.202      0.229 [ -0.694,  0.166]\n",
      "                              Volatility Model                             \n",
      "===========================================================================\n",
      "                 coef    std err          t      P>|t|     95.0% Conf. Int.\n",
      "---------------------------------------------------------------------------\n",
      "omega          2.4209      1.277      1.896  5.797e-02 [-8.176e-02,  4.924]\n",
      "alpha[1]       0.2567  7.493e-02      3.426  6.129e-04    [  0.110,  0.404]\n",
      "beta[1]        0.6707  7.542e-02      8.892  5.976e-19    [  0.523,  0.819]\n",
      "===========================================================================\n",
      "\n",
      "Covariance estimator: robust\n",
      "Fitting GARCH(1,1) for Regime 1...\n",
      "\n",
      "Regime 1 GARCH Summary:\n",
      "                     Constant Mean - GARCH Model Results                      \n",
      "==============================================================================\n",
      "Dep. Variable:                      y   R-squared:                       0.000\n",
      "Mean Model:             Constant Mean   Adj. R-squared:                  0.000\n",
      "Vol Model:                      GARCH   Log-Likelihood:               -1187.36\n",
      "Distribution:                  Normal   AIC:                           2382.71\n",
      "Method:            Maximum Likelihood   BIC:                           2399.34\n",
      "                                        No. Observations:                  472\n",
      "Date:                Tue, Dec 31 2024   Df Residuals:                      471\n",
      "Time:                        18:48:07   Df Model:                            1\n",
      "                               Mean Model                               \n",
      "========================================================================\n",
      "                 coef    std err          t      P>|t|  95.0% Conf. Int.\n",
      "------------------------------------------------------------------------\n",
      "mu             1.6662      0.137     12.162  4.923e-34 [  1.398,  1.935]\n",
      "                              Volatility Model                             \n",
      "===========================================================================\n",
      "                 coef    std err          t      P>|t|     95.0% Conf. Int.\n",
      "---------------------------------------------------------------------------\n",
      "omega          7.2861      1.928      3.779  1.573e-04    [  3.507, 11.065]\n",
      "alpha[1]       0.1135  5.865e-02      1.935  5.304e-02 [-1.488e-03,  0.228]\n",
      "beta[1]        0.0854      0.202      0.423      0.672    [ -0.311,  0.481]\n",
      "===========================================================================\n",
      "\n",
      "Covariance estimator: robust\n"
     ]
    }
   ],
   "source": [
    "# Rescale the data\n",
    "log_returns_rescaled = log_returns * 100\n",
    "\n",
    "# Use rescaled data for GARCH fitting\n",
    "garch_models[i] = arch_model(log_returns_rescaled, vol='Garch', p=1, q=1).fit(disp=\"off\")\n",
    "\n",
    "regimes = {}\n",
    "garch_models = {}\n",
    "\n",
    "# Loop through each hidden state (regime)\n",
    "for i in range(hmm_model.n_components):  # Replace `hmm.n_components` with `hmm_model.n_components` if needed\n",
    "    # Extract regime data\n",
    "    regimes[i] = log_returns_rescaled[hidden_states == i]\n",
    "    \n",
    "    if len(regimes[i]) > 0:  # Check if the regime has data\n",
    "        print(f\"Fitting GARCH(1,1) for Regime {i}...\")\n",
    "        garch_models[i] = arch_model(regimes[i], vol='Garch', p=1, q=1).fit(disp=\"off\")\n",
    "        print(f\"\\nRegime {i} GARCH Summary:\")\n",
    "        print(garch_models[i].summary())\n",
    "    else:\n",
    "        print(f\"\\nRegime {i} has no data.\")"
   ]
  },
  {
   "cell_type": "code",
   "execution_count": 88,
   "metadata": {},
   "outputs": [
    {
     "name": "stdout",
     "output_type": "stream",
     "text": [
      "Regime 1 Volatility Forecast: 0.0017567145617945008\n",
      "Regime 2 Volatility Forecast: 0.0009698663080924378\n"
     ]
    }
   ],
   "source": [
    "# Forecast volatility for each regime\n",
    "forecast_1 = garch_1.forecast(horizon=1).variance.iloc[-1, 0]\n",
    "forecast_2 = garch_2.forecast(horizon=1).variance.iloc[-1, 0]\n",
    "\n",
    "print(f\"Regime 1 Volatility Forecast: {forecast_1}\")\n",
    "print(f\"Regime 2 Volatility Forecast: {forecast_2}\")\n"
   ]
  },
  {
   "cell_type": "code",
   "execution_count": 94,
   "metadata": {},
   "outputs": [
    {
     "name": "stdout",
     "output_type": "stream",
     "text": [
      "Combined Volatility Forecast: 0.0017567145617945008\n"
     ]
    }
   ],
   "source": [
    "# Predict regime probabilities for the next time step\n",
    "next_probs = hmm_model.predict_proba(log_returns_rescaled.reshape(-1, 1))[-1]\n",
    "regime_1_prob = next_probs[0]\n",
    "regime_2_prob = next_probs[1]\n",
    "\n",
    "# Combine forecasts\n",
    "combined_forecast = regime_1_prob * forecast_1 + regime_2_prob * forecast_2\n",
    "print(f\"Combined Volatility Forecast: {combined_forecast}\")\n"
   ]
  },
  {
   "cell_type": "code",
   "execution_count": 96,
   "metadata": {},
   "outputs": [
    {
     "name": "stdout",
     "output_type": "stream",
     "text": [
      "Predicted Next Price: 6201.519711290832\n"
     ]
    }
   ],
   "source": [
    "# Simulate next price\n",
    "current_price = monthly_with_dates['Close'].iloc[-1]\n",
    "next_return = np.random.normal(0, np.sqrt(combined_forecast))\n",
    "next_price = current_price * np.exp(next_return)\n",
    "\n",
    "print(f\"Predicted Next Price: {next_price}\")\n"
   ]
  },
  {
   "cell_type": "raw",
   "metadata": {
    "vscode": {
     "languageId": "raw"
    }
   },
   "source": [
    "start = dt.datetime(1997,1,1)\n",
    "end = dt.datetime(2009,6,30)\n",
    "am = arch_model(log_returns, p=1, o=1, q=1, dist='t')\n",
    "\n",
    "split_date = dt.datetime(2007,7,2)  \n",
    "res = am.fit(last_obs=split_date)   #I estimate the model from the 1st obs to the split date\n",
    "\n",
    "forecasts = res.forecast(horizon=1, start=split_date, reindex=True)\n",
    "forecasts.variance[split_date:].plot()"
   ]
  },
  {
   "cell_type": "code",
   "execution_count": null,
   "metadata": {},
   "outputs": [],
   "source": []
  }
 ],
 "metadata": {
  "kernelspec": {
   "display_name": "Python 3 (ipykernel)",
   "language": "python",
   "name": "python3"
  },
  "language_info": {
   "codemirror_mode": {
    "name": "ipython",
    "version": 3
   },
   "file_extension": ".py",
   "mimetype": "text/x-python",
   "name": "python",
   "nbconvert_exporter": "python",
   "pygments_lexer": "ipython3",
   "version": "3.11.7"
  }
 },
 "nbformat": 4,
 "nbformat_minor": 4
}
