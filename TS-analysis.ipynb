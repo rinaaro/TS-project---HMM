{
 "cells": [
  {
   "cell_type": "code",
   "execution_count": 54,
   "metadata": {},
   "outputs": [],
   "source": [
    "#!pip install yfinance\n",
    "#!pip install hmmlearn\n",
    "#pip install arch\n",
    "#pip install scipy\n",
    "#pip install --upgrade --user hmmlearn\n",
    "#pip install --user git+https://github.com/hmmlearn/hmmlearn\n",
    "from sklearn.mixture import GaussianMixture\n",
    "import yfinance as yf\n",
    "import numpy as np\n",
    "from numpy import random\n",
    "import pandas as pd\n",
    "from sklearn.metrics import mean_squared_error, root_mean_squared_error, r2_score \n",
    "from hmmlearn import hmm\n",
    "from hmmlearn.hmm import GaussianHMM \n",
    "import matplotlib.pyplot as plt\n",
    "import statsmodels.api as sm\n",
    "from scipy.stats import chi2, t, norm\n",
    "import datetime as dt\n",
    "from datetime import datetime\n",
    "from itertools import product\n",
    "from arch import arch_model"
   ]
  },
  {
   "cell_type": "markdown",
   "metadata": {},
   "source": [
    "# Data collection"
   ]
  },
  {
   "cell_type": "code",
   "execution_count": 55,
   "metadata": {},
   "outputs": [
    {
     "name": "stdout",
     "output_type": "stream",
     "text": [
      "[*********************100%%**********************]  1 of 1 completed\n"
     ]
    },
    {
     "name": "stderr",
     "output_type": "stream",
     "text": [
      "c:\\Users\\graci\\anaconda3\\Lib\\site-packages\\yfinance\\utils.py:771: FutureWarning: The 'unit' keyword in TimedeltaIndex construction is deprecated and will be removed in a future version. Use pd.to_timedelta instead.\n",
      "  df.index += _pd.TimedeltaIndex(dst_error_hours, 'h')\n"
     ]
    }
   ],
   "source": [
    "ticker = \"^GSPC\"  #S&P 500 index symbol\n",
    "daily = yf.download(ticker, start=\"1950-01-01\", end=\"2024-11-30\", interval=\"1d\")\n",
    "#daily.loc[(daily['Open'] == 0) & (daily.index >= '1961-12-29') & (daily.index <= '1982-04-20'), 'Open'] = np.nan\n",
    "#Before 29th Dec 1961, same values in the row\n",
    "#Between 29th Dec 1961 and 20th April 1982, \"Open\" set to 0\n",
    "\n",
    "daily = daily[daily.columns[0:4]]"
   ]
  },
  {
   "cell_type": "code",
   "execution_count": 56,
   "metadata": {},
   "outputs": [],
   "source": [
    "# Resample the data to monthly frequency\n",
    "monthly = daily.resample('MS').agg({'Open': 'first','High': 'max','Low': 'min','Close': 'last'})\n",
    "monthly = monthly.dropna()\n",
    "monthly_with_dates = monthly\n",
    "\n",
    "# Reset the index to have 'Date' as a column\n",
    "monthly = monthly.reset_index()\n",
    "\n",
    "#calculate log returns\n",
    "log_returns = np.log(monthly_with_dates['Close'] / monthly_with_dates['Close'].shift(1)).dropna()\n"
   ]
  },
  {
   "cell_type": "code",
   "execution_count": 57,
   "metadata": {},
   "outputs": [
    {
     "data": {
      "text/plain": [
       "<Axes: >"
      ]
     },
     "execution_count": 57,
     "metadata": {},
     "output_type": "execute_result"
    },
    {
     "data": {
      "image/png": "[encoded data removed]",
      "text/plain": [
       "<Figure size 640x480 with 1 Axes>"
      ]
     },
     "metadata": {},
     "output_type": "display_data"
    }
   ],
   "source": [
    "monthly['Close'].plot()"
   ]
  },
  {
   "cell_type": "markdown",
   "metadata": {},
   "source": [
    "# Test for stationarity "
   ]
  },
  {
   "cell_type": "code",
   "execution_count": 58,
   "metadata": {},
   "outputs": [
    {
     "name": "stdout",
     "output_type": "stream",
     "text": [
      "(899,)\n"
     ]
    }
   ],
   "source": [
    "True_price = monthly_with_dates['Close']\n",
    "print(True_price.shape)"
   ]
  },
  {
   "cell_type": "code",
   "execution_count": 59,
   "metadata": {},
   "outputs": [
    {
     "data": {
      "text/plain": [
       "Date\n",
       "1950-01-01      17.049999\n",
       "1950-02-01      17.219999\n",
       "1950-03-01      17.290001\n",
       "1950-04-01      17.959999\n",
       "1950-05-01      18.780001\n",
       "                 ...     \n",
       "2024-07-01    5522.299805\n",
       "2024-08-01    5648.399902\n",
       "2024-09-01    5762.479980\n",
       "2024-10-01    5705.450195\n",
       "2024-11-01    6032.379883\n",
       "Freq: MS, Name: Close, Length: 899, dtype: float64"
      ]
     },
     "execution_count": 59,
     "metadata": {},
     "output_type": "execute_result"
    }
   ],
   "source": [
    "True_price"
   ]
  },
  {
   "cell_type": "code",
   "execution_count": 60,
   "metadata": {},
   "outputs": [
    {
     "data": {
      "text/plain": [
       "(5.530603168749355,\n",
       " 1.0,\n",
       " {'1%': -2.5682738268565344,\n",
       "  '5%': -1.941308107020567,\n",
       "  '10%': -1.616522983799078},\n",
       " <statsmodels.stats.diagnostic.ResultsStore at 0x2a4f8e12c90>)"
      ]
     },
     "execution_count": 60,
     "metadata": {},
     "output_type": "execute_result"
    }
   ],
   "source": [
    "sm.tsa.stattools.adfuller(True_price, regression='n', autolag='BIC', store=False, regresults=True)"
   ]
  },
  {
   "cell_type": "code",
   "execution_count": 61,
   "metadata": {},
   "outputs": [
    {
     "data": {
      "text/plain": [
       "(4.977697371218509,\n",
       " 1.0,\n",
       " {'1%': -3.4377689935918783,\n",
       "  '5%': -2.864815046188292,\n",
       "  '10%': -2.5685138660653957},\n",
       " <statsmodels.stats.diagnostic.ResultsStore at 0x2a4f83da930>)"
      ]
     },
     "execution_count": 61,
     "metadata": {},
     "output_type": "execute_result"
    }
   ],
   "source": [
    "sm.tsa.stattools.adfuller(True_price, regression='c', autolag='BIC', store=False, regresults=True)"
   ]
  },
  {
   "cell_type": "code",
   "execution_count": 62,
   "metadata": {},
   "outputs": [
    {
     "data": {
      "text/plain": [
       "(3.531259545130856,\n",
       " 1.0,\n",
       " {'1%': -3.969047635796577,\n",
       "  '5%': -3.415468144550754,\n",
       "  '10%': -3.1299799419503365},\n",
       " <statsmodels.stats.diagnostic.ResultsStore at 0x2a4f85ce090>)"
      ]
     },
     "execution_count": 62,
     "metadata": {},
     "output_type": "execute_result"
    }
   ],
   "source": [
    "sm.tsa.stattools.adfuller(True_price, regression='ct', autolag='BIC', store=False, regresults=True)\n",
    "#we cannot reject H0 which means that the TS is non- stationary"
   ]
  },
  {
   "cell_type": "code",
   "execution_count": 63,
   "metadata": {},
   "outputs": [],
   "source": [
    "True_price_diff = True_price.diff().dropna()  #we differenciate the TS to make it stationnary\n"
   ]
  },
  {
   "cell_type": "code",
   "execution_count": 64,
   "metadata": {},
   "outputs": [
    {
     "data": {
      "text/plain": [
       "(-5.718159037552288,\n",
       " 3.7035690751270905e-08,\n",
       " {'1%': -2.5682567137987626,\n",
       "  '5%': -1.941306001663903,\n",
       "  '10%': -1.6165249633898795},\n",
       " <statsmodels.stats.diagnostic.ResultsStore at 0x2a4f83db4d0>)"
      ]
     },
     "execution_count": 64,
     "metadata": {},
     "output_type": "execute_result"
    }
   ],
   "source": [
    "sm.tsa.stattools.adfuller(True_price_diff, regression='n', autolag='BIC', store=False, regresults=True)\n",
    "#now it is stationary"
   ]
  },
  {
   "cell_type": "code",
   "execution_count": 65,
   "metadata": {},
   "outputs": [
    {
     "data": {
      "text/plain": [
       "(-6.048662561267602,\n",
       " 1.293361527372057e-07,\n",
       " {'1%': -3.43771883253448,\n",
       "  '5%': -2.8647929301713977,\n",
       "  '10%': -2.568502085595253},\n",
       " <statsmodels.stats.diagnostic.ResultsStore at 0x2a4ff041c10>)"
      ]
     },
     "execution_count": 65,
     "metadata": {},
     "output_type": "execute_result"
    }
   ],
   "source": [
    "sm.tsa.stattools.adfuller(True_price_diff, regression='c', autolag='BIC', store=False, regresults=True)"
   ]
  },
  {
   "cell_type": "code",
   "execution_count": 66,
   "metadata": {},
   "outputs": [
    {
     "data": {
      "text/plain": [
       "(-6.667193399524685,\n",
       " 7.882817558709957e-08,\n",
       " {'1%': -3.9689781021789607,\n",
       "  '5%': -3.415434505721528,\n",
       "  '10%': -3.1299601554678294},\n",
       " <statsmodels.stats.diagnostic.ResultsStore at 0x2a4fcc85670>)"
      ]
     },
     "execution_count": 66,
     "metadata": {},
     "output_type": "execute_result"
    }
   ],
   "source": [
    "sm.tsa.stattools.adfuller(True_price_diff, regression='ct', autolag='BIC', store=False, regresults=True)"
   ]
  },
  {
   "cell_type": "markdown",
   "metadata": {},
   "source": [
    "# Check for serial dependance in the white noise"
   ]
  },
  {
   "cell_type": "code",
   "execution_count": 67,
   "metadata": {},
   "outputs": [
    {
     "data": {
      "text/html": [
       "<div>\n",
       "<style scoped>\n",
       "    .dataframe tbody tr th:only-of-type {\n",
       "        vertical-align: middle;\n",
       "    }\n",
       "\n",
       "    .dataframe tbody tr th {\n",
       "        vertical-align: top;\n",
       "    }\n",
       "\n",
       "    .dataframe thead th {\n",
       "        text-align: right;\n",
       "    }\n",
       "</style>\n",
       "<table border=\"1\" class=\"dataframe\">\n",
       "  <thead>\n",
       "    <tr style=\"text-align: right;\">\n",
       "      <th></th>\n",
       "      <th>lb_stat</th>\n",
       "      <th>lb_pvalue</th>\n",
       "    </tr>\n",
       "  </thead>\n",
       "  <tbody>\n",
       "    <tr>\n",
       "      <th>5</th>\n",
       "      <td>25.889188</td>\n",
       "      <td>0.000094</td>\n",
       "    </tr>\n",
       "  </tbody>\n",
       "</table>\n",
       "</div>"
      ],
      "text/plain": [
       "     lb_stat  lb_pvalue\n",
       "5  25.889188   0.000094"
      ]
     },
     "execution_count": 67,
     "metadata": {},
     "output_type": "execute_result"
    }
   ],
   "source": [
    "#===========================================================================\n",
    "# Ljung-Box test to check whether my time series is a White Noise\n",
    "#===========================================================================\n",
    "#so there is autocorrelations in the residuals\n",
    "\n",
    "n_autocor = 5\n",
    "sm.stats.diagnostic.acorr_ljungbox(True_price_diff, lags=[n_autocor])"
   ]
  },
  {
   "cell_type": "code",
   "execution_count": 68,
   "metadata": {},
   "outputs": [
    {
     "data": {
      "image/png": "[encoded data removed]",
      "text/plain": [
       "<Figure size 640x480 with 1 Axes>"
      ]
     },
     "metadata": {},
     "output_type": "display_data"
    },
    {
     "data": {
      "image/png": "[encoded data removed]",
      "text/plain": [
       "<Figure size 1200x800 with 2 Axes>"
      ]
     },
     "metadata": {},
     "output_type": "display_data"
    }
   ],
   "source": [
    "True_price_diff.plot()\n",
    "fig = plt.figure(figsize=(12,8))\n",
    "ax1 = fig.add_subplot(211)\n",
    "fig = sm.graphics.tsa.plot_acf(True_price_diff, lags=30, ax=ax1)\n",
    "ax2 = fig.add_subplot(212)\n",
    "fig = sm.graphics.tsa.plot_pacf(True_price_diff, lags=30, ax=ax2, method='ywm')"
   ]
  },
  {
   "cell_type": "markdown",
   "metadata": {},
   "source": [
    "### Now that we have seen that there is autocorrelation in the white noise, we apply a ARMA model on the TS"
   ]
  },
  {
   "cell_type": "code",
   "execution_count": 69,
   "metadata": {},
   "outputs": [
    {
     "name": "stdout",
     "output_type": "stream",
     "text": [
      "fitting: ar:0 -d:0 - ma:0\n",
      "fitting: ar:0 -d:0 - ma:1\n",
      "fitting: ar:0 -d:0 - ma:2\n",
      "fitting: ar:0 -d:0 - ma:3\n",
      "fitting: ar:0 -d:0 - ma:4\n",
      "fitting: ar:1 -d:0 - ma:0\n",
      "fitting: ar:1 -d:0 - ma:1\n",
      "fitting: ar:1 -d:0 - ma:2\n",
      "fitting: ar:1 -d:0 - ma:3\n",
      "fitting: ar:1 -d:0 - ma:4\n",
      "fitting: ar:2 -d:0 - ma:0\n",
      "fitting: ar:2 -d:0 - ma:1\n"
     ]
    },
    {
     "name": "stderr",
     "output_type": "stream",
     "text": [
      "c:\\Users\\graci\\anaconda3\\Lib\\site-packages\\statsmodels\\tsa\\statespace\\sarimax.py:966: UserWarning: Non-stationary starting autoregressive parameters found. Using zeros as starting parameters.\n",
      "  warn('Non-stationary starting autoregressive parameters'\n",
      "c:\\Users\\graci\\anaconda3\\Lib\\site-packages\\statsmodels\\tsa\\statespace\\sarimax.py:978: UserWarning: Non-invertible starting MA parameters found. Using zeros as starting parameters.\n",
      "  warn('Non-invertible starting MA parameters found.'\n"
     ]
    },
    {
     "name": "stdout",
     "output_type": "stream",
     "text": [
      "fitting: ar:2 -d:0 - ma:2\n",
      "fitting: ar:2 -d:0 - ma:3\n",
      "fitting: ar:2 -d:0 - ma:4\n"
     ]
    },
    {
     "name": "stderr",
     "output_type": "stream",
     "text": [
      "c:\\Users\\graci\\anaconda3\\Lib\\site-packages\\statsmodels\\base\\model.py:607: ConvergenceWarning: Maximum Likelihood optimization failed to converge. Check mle_retvals\n",
      "  warnings.warn(\"Maximum Likelihood optimization failed to \"\n"
     ]
    },
    {
     "name": "stdout",
     "output_type": "stream",
     "text": [
      "fitting: ar:3 -d:0 - ma:0\n",
      "fitting: ar:3 -d:0 - ma:1\n",
      "fitting: ar:3 -d:0 - ma:2\n"
     ]
    },
    {
     "name": "stderr",
     "output_type": "stream",
     "text": [
      "c:\\Users\\graci\\anaconda3\\Lib\\site-packages\\statsmodels\\tsa\\statespace\\sarimax.py:966: UserWarning: Non-stationary starting autoregressive parameters found. Using zeros as starting parameters.\n",
      "  warn('Non-stationary starting autoregressive parameters'\n"
     ]
    },
    {
     "name": "stdout",
     "output_type": "stream",
     "text": [
      "fitting: ar:3 -d:0 - ma:3\n"
     ]
    },
    {
     "name": "stderr",
     "output_type": "stream",
     "text": [
      "c:\\Users\\graci\\anaconda3\\Lib\\site-packages\\statsmodels\\tsa\\statespace\\sarimax.py:966: UserWarning: Non-stationary starting autoregressive parameters found. Using zeros as starting parameters.\n",
      "  warn('Non-stationary starting autoregressive parameters'\n",
      "c:\\Users\\graci\\anaconda3\\Lib\\site-packages\\statsmodels\\tsa\\statespace\\sarimax.py:978: UserWarning: Non-invertible starting MA parameters found. Using zeros as starting parameters.\n",
      "  warn('Non-invertible starting MA parameters found.'\n"
     ]
    },
    {
     "name": "stdout",
     "output_type": "stream",
     "text": [
      "fitting: ar:3 -d:0 - ma:4\n"
     ]
    },
    {
     "name": "stderr",
     "output_type": "stream",
     "text": [
      "c:\\Users\\graci\\anaconda3\\Lib\\site-packages\\statsmodels\\base\\model.py:607: ConvergenceWarning: Maximum Likelihood optimization failed to converge. Check mle_retvals\n",
      "  warnings.warn(\"Maximum Likelihood optimization failed to \"\n"
     ]
    },
    {
     "name": "stdout",
     "output_type": "stream",
     "text": [
      "fitting: ar:4 -d:0 - ma:0\n",
      "fitting: ar:4 -d:0 - ma:1\n",
      "fitting: ar:4 -d:0 - ma:2\n"
     ]
    },
    {
     "name": "stderr",
     "output_type": "stream",
     "text": [
      "c:\\Users\\graci\\anaconda3\\Lib\\site-packages\\statsmodels\\tsa\\statespace\\sarimax.py:966: UserWarning: Non-stationary starting autoregressive parameters found. Using zeros as starting parameters.\n",
      "  warn('Non-stationary starting autoregressive parameters'\n",
      "c:\\Users\\graci\\anaconda3\\Lib\\site-packages\\statsmodels\\tsa\\statespace\\sarimax.py:978: UserWarning: Non-invertible starting MA parameters found. Using zeros as starting parameters.\n",
      "  warn('Non-invertible starting MA parameters found.'\n",
      "c:\\Users\\graci\\anaconda3\\Lib\\site-packages\\statsmodels\\base\\model.py:607: ConvergenceWarning: Maximum Likelihood optimization failed to converge. Check mle_retvals\n",
      "  warnings.warn(\"Maximum Likelihood optimization failed to \"\n",
      "c:\\Users\\graci\\anaconda3\\Lib\\site-packages\\statsmodels\\tsa\\statespace\\sarimax.py:966: UserWarning: Non-stationary starting autoregressive parameters found. Using zeros as starting parameters.\n",
      "  warn('Non-stationary starting autoregressive parameters'\n",
      "c:\\Users\\graci\\anaconda3\\Lib\\site-packages\\statsmodels\\tsa\\statespace\\sarimax.py:978: UserWarning: Non-invertible starting MA parameters found. Using zeros as starting parameters.\n",
      "  warn('Non-invertible starting MA parameters found.'\n"
     ]
    },
    {
     "name": "stdout",
     "output_type": "stream",
     "text": [
      "fitting: ar:4 -d:0 - ma:3\n"
     ]
    },
    {
     "name": "stderr",
     "output_type": "stream",
     "text": [
      "c:\\Users\\graci\\anaconda3\\Lib\\site-packages\\statsmodels\\base\\model.py:607: ConvergenceWarning: Maximum Likelihood optimization failed to converge. Check mle_retvals\n",
      "  warnings.warn(\"Maximum Likelihood optimization failed to \"\n"
     ]
    },
    {
     "name": "stdout",
     "output_type": "stream",
     "text": [
      "fitting: ar:4 -d:0 - ma:4\n"
     ]
    },
    {
     "name": "stderr",
     "output_type": "stream",
     "text": [
      "c:\\Users\\graci\\anaconda3\\Lib\\site-packages\\statsmodels\\base\\model.py:607: ConvergenceWarning: Maximum Likelihood optimization failed to converge. Check mle_retvals\n",
      "  warnings.warn(\"Maximum Likelihood optimization failed to \"\n"
     ]
    },
    {
     "name": "stdout",
     "output_type": "stream",
     "text": [
      "fitting: ar:5 -d:0 - ma:0\n",
      "fitting: ar:5 -d:0 - ma:1\n",
      "fitting: ar:5 -d:0 - ma:2\n",
      "fitting: ar:5 -d:0 - ma:3\n"
     ]
    },
    {
     "name": "stderr",
     "output_type": "stream",
     "text": [
      "c:\\Users\\graci\\anaconda3\\Lib\\site-packages\\statsmodels\\tsa\\statespace\\sarimax.py:966: UserWarning: Non-stationary starting autoregressive parameters found. Using zeros as starting parameters.\n",
      "  warn('Non-stationary starting autoregressive parameters'\n",
      "c:\\Users\\graci\\anaconda3\\Lib\\site-packages\\statsmodels\\tsa\\statespace\\sarimax.py:978: UserWarning: Non-invertible starting MA parameters found. Using zeros as starting parameters.\n",
      "  warn('Non-invertible starting MA parameters found.'\n",
      "c:\\Users\\graci\\anaconda3\\Lib\\site-packages\\statsmodels\\base\\model.py:607: ConvergenceWarning: Maximum Likelihood optimization failed to converge. Check mle_retvals\n",
      "  warnings.warn(\"Maximum Likelihood optimization failed to \"\n"
     ]
    },
    {
     "name": "stdout",
     "output_type": "stream",
     "text": [
      "fitting: ar:5 -d:0 - ma:4\n",
      "criterion\n",
      "     ar_order  d_order  ma_order        aic        bic\n",
      "0          0        0         0  10.002979  10.012579\n",
      "1          0        0         1   9.998455  10.012855\n",
      "2          0        0         2  10.000230  10.019431\n",
      "3          0        0         3   9.988172  10.012173\n",
      "4          0        0         4   9.989449  10.018250\n",
      "5          1        0         0   9.998863  10.013263\n",
      "6          1        0         1  10.000396  10.019597\n",
      "7          1        0         2   9.981856  10.005857\n",
      "8          1        0         3   9.967564   9.996365\n",
      "9          1        0         4   9.969468  10.003069\n",
      "10         2        0         0   9.999075  10.018275\n",
      "11         2        0         1   9.996041  10.020042\n",
      "12         2        0         2   9.968600   9.997401\n",
      "13         2        0         3   9.968384  10.001986\n",
      "14         2        0         4   9.967232  10.005633\n",
      "15         3        0         0   9.990926  10.014926\n",
      "16         3        0         1   9.971609  10.000410\n",
      "17         3        0         2   9.999372  10.032973\n",
      "18         3        0         3   9.964221  10.002623\n",
      "19         3        0         4   9.932763   9.975964\n",
      "20         4        0         0   9.987524  10.016325\n",
      "21         4        0         1   9.973242  10.006843\n",
      "22         4        0         2   9.971165  10.009567\n",
      "23         4        0         3   9.966133  10.009334\n",
      "24         4        0         4   9.936146   9.984147\n",
      "25         5        0         0   9.981786  10.015387\n",
      "26         5        0         1   9.981884  10.020285\n",
      "27         5        0         2   9.974179  10.017380\n",
      "28         5        0         3   9.954792  10.002794\n",
      "29         5        0         4   9.932883   9.985685\n"
     ]
    },
    {
     "name": "stderr",
     "output_type": "stream",
     "text": [
      "c:\\Users\\graci\\anaconda3\\Lib\\site-packages\\statsmodels\\base\\model.py:607: ConvergenceWarning: Maximum Likelihood optimization failed to converge. Check mle_retvals\n",
      "  warnings.warn(\"Maximum Likelihood optimization failed to \"\n"
     ]
    }
   ],
   "source": [
    "#===========================================================================\n",
    "# estimate ARMA \n",
    "#===========================================================================\n",
    "ar_order = [0, 1, 2, 3, 4, 5]\n",
    "d_order = [0]\n",
    "ma_order = [0, 1, 2, 3, 4]\n",
    "arma_res = [list(orders) for orders in product(ar_order, d_order, ma_order)]\n",
    "#     pprint.pprint(arma_res)\n",
    "\n",
    "# sm.tsa.arima.model.ARIMA\n",
    "for order in arma_res:\n",
    "    print('fitting: ar:{} -d:{} - ma:{}'.format(*order)) \n",
    "    try:\n",
    "        arma_model = sm.tsa.arima.ARIMA(True_price_diff, order=order).fit()\n",
    "        order.extend([arma_model.aic / 1e3, arma_model.bic / 1e3])\n",
    "    except Exception as exception:\n",
    "        print(exception.__str__())\n",
    "        order.extend([np.NaN, np.NaN])\n",
    "    \n",
    "res = pd.DataFrame(arma_res, columns = ['ar_order', 'd_order', 'ma_order', 'aic', 'bic'])\n",
    "print('criterion\\n', res)"
   ]
  },
  {
   "cell_type": "code",
   "execution_count": 70,
   "metadata": {},
   "outputs": [
    {
     "name": "stdout",
     "output_type": "stream",
     "text": [
      "                               SARIMAX Results                                \n",
      "==============================================================================\n",
      "Dep. Variable:                  Close   No. Observations:                  898\n",
      "Model:                 ARIMA(3, 0, 4)   Log Likelihood               -4957.381\n",
      "Date:                Wed, 01 Jan 2025   AIC                           9932.763\n",
      "Time:                        02:37:10   BIC                           9975.964\n",
      "Sample:                    02-01-1950   HQIC                          9949.268\n",
      "                         - 11-01-2024                                         \n",
      "Covariance Type:                  opg                                         \n",
      "==============================================================================\n",
      "                 coef    std err          z      P>|z|      [0.025      0.975]\n",
      "------------------------------------------------------------------------------\n",
      "const          6.7512     71.555      0.094      0.925    -133.495     146.997\n",
      "ar.L1          0.9897      0.009    108.412      0.000       0.972       1.008\n",
      "ar.L2         -0.9604      0.010    -97.766      0.000      -0.980      -0.941\n",
      "ar.L3          0.9688      0.009    107.996      0.000       0.951       0.986\n",
      "ma.L1         -1.1017      0.017    -65.710      0.000      -1.135      -1.069\n",
      "ma.L2          1.0784      0.020     54.028      0.000       1.039       1.118\n",
      "ma.L3         -0.9898      0.020    -48.709      0.000      -1.030      -0.950\n",
      "ma.L4          0.0542      0.015      3.564      0.000       0.024       0.084\n",
      "sigma2      3884.3432     74.144     52.389      0.000    3739.024    4029.663\n",
      "===================================================================================\n",
      "Ljung-Box (L1) (Q):                   0.01   Jarque-Bera (JB):              7055.36\n",
      "Prob(Q):                              0.90   Prob(JB):                         0.00\n",
      "Heteroskedasticity (H):            1171.54   Skew:                            -0.95\n",
      "Prob(H) (two-sided):                  0.00   Kurtosis:                        16.60\n",
      "===================================================================================\n",
      "\n",
      "Warnings:\n",
      "[1] Covariance matrix calculated using the outer product of gradients (complex-step).\n"
     ]
    },
    {
     "name": "stderr",
     "output_type": "stream",
     "text": [
      "c:\\Users\\graci\\anaconda3\\Lib\\site-packages\\statsmodels\\base\\model.py:607: ConvergenceWarning: Maximum Likelihood optimization failed to converge. Check mle_retvals\n",
      "  warnings.warn(\"Maximum Likelihood optimization failed to \"\n"
     ]
    },
    {
     "data": {
      "text/plain": [
       "9932.762966552897"
      ]
     },
     "execution_count": 70,
     "metadata": {},
     "output_type": "execute_result"
    }
   ],
   "source": [
    "# best is ARMA(3, 4)\n",
    "res = sm.tsa.arima.ARIMA(True_price_diff, order=(3,0,4)).fit()\n",
    "res\n",
    "print(res.summary())\n",
    "res.aic"
   ]
  },
  {
   "cell_type": "markdown",
   "metadata": {},
   "source": [
    "### We then run a ARCH test on the residuals to make sure that we have homoskedacity - we don't btw"
   ]
  },
  {
   "cell_type": "code",
   "execution_count": 71,
   "metadata": {},
   "outputs": [],
   "source": [
    "residus = res.resid"
   ]
  },
  {
   "cell_type": "code",
   "execution_count": 72,
   "metadata": {},
   "outputs": [
    {
     "data": {
      "text/html": [
       "<div>\n",
       "<style scoped>\n",
       "    .dataframe tbody tr th:only-of-type {\n",
       "        vertical-align: middle;\n",
       "    }\n",
       "\n",
       "    .dataframe tbody tr th {\n",
       "        vertical-align: top;\n",
       "    }\n",
       "\n",
       "    .dataframe thead th {\n",
       "        text-align: right;\n",
       "    }\n",
       "</style>\n",
       "<table border=\"1\" class=\"dataframe\">\n",
       "  <thead>\n",
       "    <tr style=\"text-align: right;\">\n",
       "      <th></th>\n",
       "      <th>lb_stat</th>\n",
       "      <th>lb_pvalue</th>\n",
       "    </tr>\n",
       "  </thead>\n",
       "  <tbody>\n",
       "    <tr>\n",
       "      <th>5</th>\n",
       "      <td>735.103968</td>\n",
       "      <td>1.259838e-156</td>\n",
       "    </tr>\n",
       "  </tbody>\n",
       "</table>\n",
       "</div>"
      ],
      "text/plain": [
       "      lb_stat      lb_pvalue\n",
       "5  735.103968  1.259838e-156"
      ]
     },
     "execution_count": 72,
     "metadata": {},
     "output_type": "execute_result"
    }
   ],
   "source": [
    "#===========================================================================\n",
    "# ARCH tests \n",
    "#===========================================================================\n",
    "\n",
    "n_autocor = 5\n",
    "sm.stats.diagnostic.acorr_ljungbox(residus**2, lags=[n_autocor])\n",
    "#We have heteroskedacity"
   ]
  },
  {
   "cell_type": "markdown",
   "metadata": {},
   "source": [
    "# We run a GARCH model on the residuals"
   ]
  },
  {
   "cell_type": "code",
   "execution_count": 73,
   "metadata": {},
   "outputs": [
    {
     "name": "stdout",
     "output_type": "stream",
     "text": [
      "Iteration:      1,   Func. Count:      6,   Neg. LLF: 6207.94484444074\n",
      "Iteration:      2,   Func. Count:     12,   Neg. LLF: 6455.436482509011\n",
      "Iteration:      3,   Func. Count:     20,   Neg. LLF: 4011.848561598202\n",
      "Iteration:      4,   Func. Count:     25,   Neg. LLF: 3990.726819374558\n",
      "Iteration:      5,   Func. Count:     30,   Neg. LLF: 3979.1596378966797\n",
      "Iteration:      6,   Func. Count:     35,   Neg. LLF: 3940.6414822295033\n",
      "Iteration:      7,   Func. Count:     40,   Neg. LLF: 4068.20913130059\n",
      "Iteration:      8,   Func. Count:     46,   Neg. LLF: 3912.276247406519\n",
      "Iteration:      9,   Func. Count:     51,   Neg. LLF: 4968.098748938582\n",
      "Iteration:     10,   Func. Count:     59,   Neg. LLF: 4802.175849725851\n",
      "Iteration:     11,   Func. Count:     65,   Neg. LLF: 3757.3012273486875\n",
      "Iteration:     12,   Func. Count:     71,   Neg. LLF: 3683.1991030999598\n",
      "Iteration:     13,   Func. Count:     76,   Neg. LLF: 3657.4669700063714\n",
      "Iteration:     14,   Func. Count:     81,   Neg. LLF: 3649.6405529866847\n",
      "Iteration:     15,   Func. Count:     86,   Neg. LLF: 3618.767186547937\n",
      "Iteration:     16,   Func. Count:     91,   Neg. LLF: 3611.24547699794\n",
      "Iteration:     17,   Func. Count:     96,   Neg. LLF: 22644.017692616195\n",
      "Iteration:     18,   Func. Count:    103,   Neg. LLF: 3687.5694343193904\n",
      "Iteration:     19,   Func. Count:    109,   Neg. LLF: 3600.2267661509914\n",
      "Iteration:     20,   Func. Count:    114,   Neg. LLF: 3597.3070393514563\n",
      "Iteration:     21,   Func. Count:    119,   Neg. LLF: 3596.7548768003353\n",
      "Iteration:     22,   Func. Count:    124,   Neg. LLF: 3596.582713349614\n",
      "Iteration:     23,   Func. Count:    129,   Neg. LLF: 3596.5526097390907\n",
      "Iteration:     24,   Func. Count:    134,   Neg. LLF: 3596.551264687677\n",
      "Iteration:     25,   Func. Count:    139,   Neg. LLF: 3596.5512521802293\n",
      "Iteration:     26,   Func. Count:    143,   Neg. LLF: 3596.551242681914\n",
      "Optimization terminated successfully    (Exit mode 0)\n",
      "            Current function value: 3596.5512521802293\n",
      "            Iterations: 26\n",
      "            Function evaluations: 143\n",
      "            Gradient evaluations: 26\n",
      "                     Constant Mean - GARCH Model Results                      \n",
      "==============================================================================\n",
      "Dep. Variable:                   None   R-squared:                       0.000\n",
      "Mean Model:             Constant Mean   Adj. R-squared:                  0.000\n",
      "Vol Model:                      GARCH   Log-Likelihood:               -3596.55\n",
      "Distribution:                  Normal   AIC:                           7201.10\n",
      "Method:            Maximum Likelihood   BIC:                           7220.30\n",
      "                                        No. Observations:                  898\n",
      "Date:                Wed, Jan 01 2025   Df Residuals:                      897\n",
      "Time:                        02:37:10   Df Model:                            1\n",
      "                               Mean Model                               \n",
      "========================================================================\n",
      "                 coef    std err          t      P>|t|  95.0% Conf. Int.\n",
      "------------------------------------------------------------------------\n",
      "mu            -0.5005      0.135     -3.708  2.089e-04 [ -0.765, -0.236]\n",
      "                              Volatility Model                             \n",
      "===========================================================================\n",
      "                 coef    std err          t      P>|t|     95.0% Conf. Int.\n",
      "---------------------------------------------------------------------------\n",
      "omega          0.0851  5.858e-02      1.453      0.146 [-2.968e-02,  0.200]\n",
      "alpha[1]       0.1405  1.511e-02      9.297  1.447e-20    [  0.111,  0.170]\n",
      "beta[1]        0.8595  2.051e-02     41.912      0.000    [  0.819,  0.900]\n",
      "===========================================================================\n",
      "\n",
      "Covariance estimator: robust\n"
     ]
    },
    {
     "data": {
      "image/png": "[encoded data removed]",
      "text/plain": [
       "<Figure size 640x480 with 2 Axes>"
      ]
     },
     "metadata": {},
     "output_type": "display_data"
    }
   ],
   "source": [
    "garch_res = arch_model(residus, p=1, o=0, q=1, dist='normal').fit()\n",
    "print(garch_res.summary())\n",
    "fig = garch_res.plot(annualize='D')"
   ]
  },
  {
   "cell_type": "markdown",
   "metadata": {},
   "source": [
    "# Forecast"
   ]
  },
  {
   "cell_type": "code",
   "execution_count": 74,
   "metadata": {},
   "outputs": [
    {
     "name": "stderr",
     "output_type": "stream",
     "text": [
      "c:\\Users\\graci\\anaconda3\\Lib\\site-packages\\sklearn\\cluster\\_kmeans.py:1446: UserWarning: KMeans is known to have a memory leak on Windows with MKL, when there are less chunks than available threads. You can avoid it by setting the environment variable OMP_NUM_THREADS=4.\n",
      "  warnings.warn(\n"
     ]
    }
   ],
   "source": [
    "# Fit HMM with 6 regimes\n",
    "log_returns = log_returns.values.reshape(-1, 1)\n",
    "\n",
    "hmm_model = GaussianHMM(n_components=6, covariance_type=\"diag\", init_params=\"c\")\n",
    "hmm_model.fit(log_returns)\n",
    "\n",
    "hidden_states = hmm_model.decode(log_returns)[1]"
   ]
  },
  {
   "cell_type": "raw",
   "metadata": {},
   "source": [
    "#### Step 3: Fit Separate GARCH Models for Each Regime\n",
    "#Segment the data based on the identified regimes.\n",
    "# Fit a **GARCH model** (e.g., GARCH(1,1)) to the returns in each regime.\n",
    "\n",
    "# Separate data by regimes\n",
    "regime_1 = log_returns[hidden_states == 0]\n",
    "regime_2 = log_returns[hidden_states == 1]\n",
    "regime_3 = log_returns[hidden_states == 2]\n",
    "regime_4 = log_returns[hidden_states == 3]\n",
    "regime_5 = log_returns[hidden_states == 4]\n",
    "regime_6 = log_returns[hidden_states == 5]\n",
    "\n",
    "# Fit GARCH(1,1) models for each regime\n",
    "garch_1 = arch_model(regime_1, vol='Garch', p=1, q=1).fit(disp=\"off\")\n",
    "garch_2 = arch_model(regime_2, vol='Garch', p=1, q=1).fit(disp=\"off\")\n",
    "garch_3 = arch_model(regime_3, vol='Garch', p=1, q=1).fit(disp=\"off\")\n",
    "garch_4 = arch_model(regime_4, vol='Garch', p=1, q=1).fit(disp=\"off\")\n",
    "garch_5 = arch_model(regime_5, vol='Garch', p=1, q=1).fit(disp=\"off\")\n",
    "garch_6 = arch_model(regime_6, vol='Garch', p=1, q=1).fit(disp=\"off\")"
   ]
  },
  {
   "cell_type": "code",
   "execution_count": 75,
   "metadata": {},
   "outputs": [
    {
     "name": "stdout",
     "output_type": "stream",
     "text": [
      "Fitting GARCH(1,1) for Regime 0...\n",
      "\n",
      "Regime 0 GARCH Summary:\n",
      "                     Constant Mean - GARCH Model Results                      \n",
      "==============================================================================\n",
      "Dep. Variable:                      y   R-squared:                       0.000\n",
      "Mean Model:             Constant Mean   Adj. R-squared:                  0.000\n",
      "Vol Model:                      GARCH   Log-Likelihood:               -499.103\n",
      "Distribution:                  Normal   AIC:                           1006.21\n",
      "Method:            Maximum Likelihood   BIC:                           1019.67\n",
      "                                        No. Observations:                  214\n",
      "Date:                Wed, Jan 01 2025   Df Residuals:                      213\n",
      "Time:                        02:37:13   Df Model:                            1\n",
      "                               Mean Model                               \n",
      "========================================================================\n",
      "                 coef    std err          t      P>|t|  95.0% Conf. Int.\n",
      "------------------------------------------------------------------------\n",
      "mu             4.2684      0.173     24.715 7.431e-135 [  3.930,  4.607]\n",
      "                            Volatility Model                            \n",
      "========================================================================\n",
      "                 coef    std err          t      P>|t|  95.0% Conf. Int.\n",
      "------------------------------------------------------------------------\n",
      "omega          0.2197      0.336      0.653      0.514 [ -0.440,  0.879]\n",
      "alpha[1]   1.1950e-08  9.074e-02  1.317e-07      1.000 [ -0.178,  0.178]\n",
      "beta[1]        0.9678      0.141      6.881  5.926e-12 [  0.692,  1.243]\n",
      "========================================================================\n",
      "\n",
      "Covariance estimator: robust\n",
      "Fitting GARCH(1,1) for Regime 1...\n",
      "\n",
      "Regime 1 GARCH Summary:\n",
      "                     Constant Mean - GARCH Model Results                      \n",
      "==============================================================================\n",
      "Dep. Variable:                      y   R-squared:                       0.000\n",
      "Mean Model:             Constant Mean   Adj. R-squared:                  0.000\n",
      "Vol Model:                      GARCH   Log-Likelihood:               -1211.90\n",
      "Distribution:                  Normal   AIC:                           2431.80\n",
      "Method:            Maximum Likelihood   BIC:                           2448.17\n",
      "                                        No. Observations:                  442\n",
      "Date:                Wed, Jan 01 2025   Df Residuals:                      441\n",
      "Time:                        02:37:13   Df Model:                            1\n",
      "                               Mean Model                               \n",
      "========================================================================\n",
      "                 coef    std err          t      P>|t|  95.0% Conf. Int.\n",
      "------------------------------------------------------------------------\n",
      "mu            -0.8899      0.189     -4.697  2.641e-06 [ -1.261, -0.519]\n",
      "                              Volatility Model                             \n",
      "===========================================================================\n",
      "                 coef    std err          t      P>|t|     95.0% Conf. Int.\n",
      "---------------------------------------------------------------------------\n",
      "omega          3.0822      0.981      3.143  1.673e-03    [  1.160,  5.004]\n",
      "alpha[1]       0.0756  4.850e-02      1.560      0.119 [-1.941e-02,  0.171]\n",
      "beta[1]        0.7092  6.206e-02     11.428  3.024e-30    [  0.588,  0.831]\n",
      "===========================================================================\n",
      "\n",
      "Covariance estimator: robust\n",
      "Fitting GARCH(1,1) for Regime 2...\n",
      "\n",
      "Regime 2 GARCH Summary:\n",
      "                     Constant Mean - GARCH Model Results                      \n",
      "==============================================================================\n",
      "Dep. Variable:                      y   R-squared:                       0.000\n",
      "Mean Model:             Constant Mean   Adj. R-squared:                  0.000\n",
      "Vol Model:                      GARCH   Log-Likelihood:               -451.178\n",
      "Distribution:                  Normal   AIC:                           910.355\n",
      "Method:            Maximum Likelihood   BIC:                           923.838\n",
      "                                        No. Observations:                  215\n",
      "Date:                Wed, Jan 01 2025   Df Residuals:                      214\n",
      "Time:                        02:37:13   Df Model:                            1\n",
      "                               Mean Model                               \n",
      "========================================================================\n",
      "                 coef    std err          t      P>|t|  95.0% Conf. Int.\n",
      "------------------------------------------------------------------------\n",
      "mu             1.2752      0.141      9.017  1.929e-19 [  0.998,  1.552]\n",
      "                              Volatility Model                             \n",
      "===========================================================================\n",
      "                 coef    std err          t      P>|t|     95.0% Conf. Int.\n",
      "---------------------------------------------------------------------------\n",
      "omega          0.8505      0.456      1.866  6.198e-02 [-4.261e-02,  1.744]\n",
      "alpha[1]       0.0301  4.087e-02      0.736      0.462 [-5.004e-02,  0.110]\n",
      "beta[1]        0.7529      0.120      6.278  3.434e-10    [  0.518,  0.988]\n",
      "===========================================================================\n",
      "\n",
      "Covariance estimator: robust\n",
      "Fitting GARCH(1,1) for Regime 3...\n",
      "\n",
      "Regime 3 GARCH Summary:\n",
      "                     Constant Mean - GARCH Model Results                      \n",
      "==============================================================================\n",
      "Dep. Variable:                      y   R-squared:                       0.000\n",
      "Mean Model:             Constant Mean   Adj. R-squared:                  0.000\n",
      "Vol Model:                      GARCH   Log-Likelihood:               -48.1615\n",
      "Distribution:                  Normal   AIC:                           104.323\n",
      "Method:            Maximum Likelihood   BIC:                           106.583\n",
      "                                        No. Observations:                   13\n",
      "Date:                Wed, Jan 01 2025   Df Residuals:                       12\n",
      "Time:                        02:37:13   Df Model:                            1\n",
      "                               Mean Model                               \n",
      "========================================================================\n",
      "                 coef    std err          t      P>|t|  95.0% Conf. Int.\n",
      "------------------------------------------------------------------------\n",
      "mu            -3.2761      2.807     -1.167      0.243 [ -8.778,  2.225]\n",
      "                               Volatility Model                              \n",
      "=============================================================================\n",
      "                 coef    std err          t      P>|t|       95.0% Conf. Int.\n",
      "-----------------------------------------------------------------------------\n",
      "omega         48.3623    139.447      0.347      0.729 [-2.249e+02,3.217e+02]\n",
      "alpha[1]   2.4718e-15  6.727e-02  3.674e-14      1.000      [ -0.132,  0.132]\n",
      "beta[1]        0.4927      1.510      0.326      0.744      [ -2.467,  3.453]\n",
      "=============================================================================\n",
      "\n",
      "Covariance estimator: robust\n",
      "Fitting GARCH(1,1) for Regime 4...\n",
      "\n",
      "Regime 4 GARCH Summary:\n"
     ]
    },
    {
     "name": "stderr",
     "output_type": "stream",
     "text": [
      "c:\\Users\\graci\\anaconda3\\Lib\\site-packages\\arch\\univariate\\volatility.py:1215: RuntimeWarning: invalid value encountered in scalar divide\n",
      "  scale = np.mean(resids**2) / (target ** (2.0 / power))\n",
      "c:\\Users\\graci\\anaconda3\\Lib\\site-packages\\arch\\univariate\\distribution.py:449: RuntimeWarning: divide by zero encountered in log\n",
      "  lls = -0.5 * (log(2 * pi) + log(sigma2) + resids ** 2.0 / sigma2)\n",
      "c:\\Users\\graci\\anaconda3\\Lib\\site-packages\\arch\\univariate\\distribution.py:449: RuntimeWarning: invalid value encountered in divide\n",
      "  lls = -0.5 * (log(2 * pi) + log(sigma2) + resids ** 2.0 / sigma2)\n",
      "c:\\Users\\graci\\anaconda3\\Lib\\site-packages\\arch\\univariate\\distribution.py:449: RuntimeWarning: divide by zero encountered in divide\n",
      "  lls = -0.5 * (log(2 * pi) + log(sigma2) + resids ** 2.0 / sigma2)\n",
      "c:\\Users\\graci\\anaconda3\\Lib\\site-packages\\arch\\univariate\\distribution.py:449: RuntimeWarning: invalid value encountered in add\n",
      "  lls = -0.5 * (log(2 * pi) + log(sigma2) + resids ** 2.0 / sigma2)\n",
      "c:\\Users\\graci\\anaconda3\\Lib\\site-packages\\arch\\univariate\\base.py:768: ConvergenceWarning: The optimizer returned code 4. The message is:\n",
      "Inequality constraints incompatible\n",
      "See scipy.optimize.fmin_slsqp for code meaning.\n",
      "\n",
      "  warnings.warn(\n"
     ]
    },
    {
     "ename": "ZeroDivisionError",
     "evalue": "float division by zero",
     "output_type": "error",
     "traceback": [
      "\u001b[1;31m---------------------------------------------------------------------------\u001b[0m",
      "\u001b[1;31mZeroDivisionError\u001b[0m                         Traceback (most recent call last)",
      "Cell \u001b[1;32mIn[75], line 16\u001b[0m\n\u001b[0;32m     14\u001b[0m     garch_models[i] \u001b[38;5;241m=\u001b[39m arch_model(regimes[i], vol\u001b[38;5;241m=\u001b[39m\u001b[38;5;124m'\u001b[39m\u001b[38;5;124mGarch\u001b[39m\u001b[38;5;124m'\u001b[39m, p\u001b[38;5;241m=\u001b[39m\u001b[38;5;241m1\u001b[39m, q\u001b[38;5;241m=\u001b[39m\u001b[38;5;241m1\u001b[39m)\u001b[38;5;241m.\u001b[39mfit(disp\u001b[38;5;241m=\u001b[39m\u001b[38;5;124m\"\u001b[39m\u001b[38;5;124moff\u001b[39m\u001b[38;5;124m\"\u001b[39m)\n\u001b[0;32m     15\u001b[0m     \u001b[38;5;28mprint\u001b[39m(\u001b[38;5;124mf\u001b[39m\u001b[38;5;124m\"\u001b[39m\u001b[38;5;130;01m\\n\u001b[39;00m\u001b[38;5;124mRegime \u001b[39m\u001b[38;5;132;01m{\u001b[39;00mi\u001b[38;5;132;01m}\u001b[39;00m\u001b[38;5;124m GARCH Summary:\u001b[39m\u001b[38;5;124m\"\u001b[39m)\n\u001b[1;32m---> 16\u001b[0m     \u001b[38;5;28mprint\u001b[39m(garch_models[i]\u001b[38;5;241m.\u001b[39msummary())\n\u001b[0;32m     17\u001b[0m \u001b[38;5;28;01melse\u001b[39;00m:\n\u001b[0;32m     18\u001b[0m     \u001b[38;5;28mprint\u001b[39m(\u001b[38;5;124mf\u001b[39m\u001b[38;5;124m\"\u001b[39m\u001b[38;5;130;01m\\n\u001b[39;00m\u001b[38;5;124mRegime \u001b[39m\u001b[38;5;132;01m{\u001b[39;00mi\u001b[38;5;132;01m}\u001b[39;00m\u001b[38;5;124m has no data.\u001b[39m\u001b[38;5;124m\"\u001b[39m)\n",
      "File \u001b[1;32mc:\\Users\\graci\\anaconda3\\Lib\\site-packages\\arch\\univariate\\base.py:1828\u001b[0m, in \u001b[0;36mARCHModelResult.summary\u001b[1;34m(self)\u001b[0m\n\u001b[0;32m   1814\u001b[0m \u001b[38;5;66;03m# Summary Header\u001b[39;00m\n\u001b[0;32m   1815\u001b[0m top_left \u001b[38;5;241m=\u001b[39m [\n\u001b[0;32m   1816\u001b[0m     (\u001b[38;5;124m\"\u001b[39m\u001b[38;5;124mDep. Variable:\u001b[39m\u001b[38;5;124m\"\u001b[39m, \u001b[38;5;28mself\u001b[39m\u001b[38;5;241m.\u001b[39m_dep_name),\n\u001b[0;32m   1817\u001b[0m     (\u001b[38;5;124m\"\u001b[39m\u001b[38;5;124mMean Model:\u001b[39m\u001b[38;5;124m\"\u001b[39m, model\u001b[38;5;241m.\u001b[39mname),\n\u001b[1;32m   (...)\u001b[0m\n\u001b[0;32m   1823\u001b[0m     (\u001b[38;5;124m\"\u001b[39m\u001b[38;5;124mTime:\u001b[39m\u001b[38;5;124m\"\u001b[39m, \u001b[38;5;28mself\u001b[39m\u001b[38;5;241m.\u001b[39m_datetime\u001b[38;5;241m.\u001b[39mstrftime(\u001b[38;5;124m\"\u001b[39m\u001b[38;5;124m%\u001b[39m\u001b[38;5;124mH:\u001b[39m\u001b[38;5;124m%\u001b[39m\u001b[38;5;124mM:\u001b[39m\u001b[38;5;124m%\u001b[39m\u001b[38;5;124mS\u001b[39m\u001b[38;5;124m\"\u001b[39m)),\n\u001b[0;32m   1824\u001b[0m ]\n\u001b[0;32m   1826\u001b[0m top_right \u001b[38;5;241m=\u001b[39m [\n\u001b[0;32m   1827\u001b[0m     (\u001b[38;5;124m\"\u001b[39m\u001b[38;5;124mR-squared:\u001b[39m\u001b[38;5;124m\"\u001b[39m, \u001b[38;5;124mf\u001b[39m\u001b[38;5;124m\"\u001b[39m\u001b[38;5;132;01m{\u001b[39;00m\u001b[38;5;28mself\u001b[39m\u001b[38;5;241m.\u001b[39mrsquared\u001b[38;5;132;01m:\u001b[39;00m\u001b[38;5;124m#8.3f\u001b[39m\u001b[38;5;132;01m}\u001b[39;00m\u001b[38;5;124m\"\u001b[39m),\n\u001b[1;32m-> 1828\u001b[0m     (\u001b[38;5;124m\"\u001b[39m\u001b[38;5;124mAdj. R-squared:\u001b[39m\u001b[38;5;124m\"\u001b[39m, \u001b[38;5;124mf\u001b[39m\u001b[38;5;124m\"\u001b[39m\u001b[38;5;132;01m{\u001b[39;00m\u001b[38;5;28mself\u001b[39m\u001b[38;5;241m.\u001b[39mrsquared_adj\u001b[38;5;132;01m:\u001b[39;00m\u001b[38;5;124m#8.3f\u001b[39m\u001b[38;5;132;01m}\u001b[39;00m\u001b[38;5;124m\"\u001b[39m),\n\u001b[0;32m   1829\u001b[0m     (\u001b[38;5;124m\"\u001b[39m\u001b[38;5;124mLog-Likelihood:\u001b[39m\u001b[38;5;124m\"\u001b[39m, \u001b[38;5;124mf\u001b[39m\u001b[38;5;124m\"\u001b[39m\u001b[38;5;132;01m{\u001b[39;00m\u001b[38;5;28mself\u001b[39m\u001b[38;5;241m.\u001b[39mloglikelihood\u001b[38;5;132;01m:\u001b[39;00m\u001b[38;5;124m#10.6g\u001b[39m\u001b[38;5;132;01m}\u001b[39;00m\u001b[38;5;124m\"\u001b[39m),\n\u001b[0;32m   1830\u001b[0m     (\u001b[38;5;124m\"\u001b[39m\u001b[38;5;124mAIC:\u001b[39m\u001b[38;5;124m\"\u001b[39m, \u001b[38;5;124mf\u001b[39m\u001b[38;5;124m\"\u001b[39m\u001b[38;5;132;01m{\u001b[39;00m\u001b[38;5;28mself\u001b[39m\u001b[38;5;241m.\u001b[39maic\u001b[38;5;132;01m:\u001b[39;00m\u001b[38;5;124m#10.6g\u001b[39m\u001b[38;5;132;01m}\u001b[39;00m\u001b[38;5;124m\"\u001b[39m),\n\u001b[0;32m   1831\u001b[0m     (\u001b[38;5;124m\"\u001b[39m\u001b[38;5;124mBIC:\u001b[39m\u001b[38;5;124m\"\u001b[39m, \u001b[38;5;124mf\u001b[39m\u001b[38;5;124m\"\u001b[39m\u001b[38;5;132;01m{\u001b[39;00m\u001b[38;5;28mself\u001b[39m\u001b[38;5;241m.\u001b[39mbic\u001b[38;5;132;01m:\u001b[39;00m\u001b[38;5;124m#10.6g\u001b[39m\u001b[38;5;132;01m}\u001b[39;00m\u001b[38;5;124m\"\u001b[39m),\n\u001b[0;32m   1832\u001b[0m     (\u001b[38;5;124m\"\u001b[39m\u001b[38;5;124mNo. Observations:\u001b[39m\u001b[38;5;124m\"\u001b[39m, \u001b[38;5;124mf\u001b[39m\u001b[38;5;124m\"\u001b[39m\u001b[38;5;132;01m{\u001b[39;00m\u001b[38;5;28mself\u001b[39m\u001b[38;5;241m.\u001b[39m_nobs\u001b[38;5;132;01m}\u001b[39;00m\u001b[38;5;124m\"\u001b[39m),\n\u001b[0;32m   1833\u001b[0m     (\u001b[38;5;124m\"\u001b[39m\u001b[38;5;124mDf Residuals:\u001b[39m\u001b[38;5;124m\"\u001b[39m, \u001b[38;5;124mf\u001b[39m\u001b[38;5;124m\"\u001b[39m\u001b[38;5;132;01m{\u001b[39;00m\u001b[38;5;28mself\u001b[39m\u001b[38;5;241m.\u001b[39mnobs\u001b[38;5;250m \u001b[39m\u001b[38;5;241m-\u001b[39m\u001b[38;5;250m \u001b[39m\u001b[38;5;28mself\u001b[39m\u001b[38;5;241m.\u001b[39mmodel\u001b[38;5;241m.\u001b[39mnum_params\u001b[38;5;132;01m}\u001b[39;00m\u001b[38;5;124m\"\u001b[39m),\n\u001b[0;32m   1834\u001b[0m     (\u001b[38;5;124m\"\u001b[39m\u001b[38;5;124mDf Model:\u001b[39m\u001b[38;5;124m\"\u001b[39m, \u001b[38;5;124mf\u001b[39m\u001b[38;5;124m\"\u001b[39m\u001b[38;5;132;01m{\u001b[39;00m\u001b[38;5;28mself\u001b[39m\u001b[38;5;241m.\u001b[39mmodel\u001b[38;5;241m.\u001b[39mnum_params\u001b[38;5;132;01m}\u001b[39;00m\u001b[38;5;124m\"\u001b[39m),\n\u001b[0;32m   1835\u001b[0m ]\n\u001b[0;32m   1837\u001b[0m title \u001b[38;5;241m=\u001b[39m model_name \u001b[38;5;241m+\u001b[39m \u001b[38;5;124m\"\u001b[39m\u001b[38;5;124m Model Results\u001b[39m\u001b[38;5;124m\"\u001b[39m\n\u001b[0;32m   1838\u001b[0m stubs \u001b[38;5;241m=\u001b[39m []\n",
      "File \u001b[1;32mc:\\Users\\graci\\anaconda3\\Lib\\functools.py:995\u001b[0m, in \u001b[0;36mcached_property.__get__\u001b[1;34m(self, instance, owner)\u001b[0m\n\u001b[0;32m    993\u001b[0m val \u001b[38;5;241m=\u001b[39m cache\u001b[38;5;241m.\u001b[39mget(\u001b[38;5;28mself\u001b[39m\u001b[38;5;241m.\u001b[39mattrname, _NOT_FOUND)\n\u001b[0;32m    994\u001b[0m \u001b[38;5;28;01mif\u001b[39;00m val \u001b[38;5;129;01mis\u001b[39;00m _NOT_FOUND:\n\u001b[1;32m--> 995\u001b[0m     val \u001b[38;5;241m=\u001b[39m \u001b[38;5;28mself\u001b[39m\u001b[38;5;241m.\u001b[39mfunc(instance)\n\u001b[0;32m    996\u001b[0m     \u001b[38;5;28;01mtry\u001b[39;00m:\n\u001b[0;32m    997\u001b[0m         cache[\u001b[38;5;28mself\u001b[39m\u001b[38;5;241m.\u001b[39mattrname] \u001b[38;5;241m=\u001b[39m val\n",
      "File \u001b[1;32mc:\\Users\\graci\\anaconda3\\Lib\\site-packages\\arch\\univariate\\base.py:1962\u001b[0m, in \u001b[0;36mARCHModelResult.rsquared_adj\u001b[1;34m(self)\u001b[0m\n\u001b[0;32m   1956\u001b[0m \u001b[38;5;129m@cached_property\u001b[39m\n\u001b[0;32m   1957\u001b[0m \u001b[38;5;28;01mdef\u001b[39;00m \u001b[38;5;21mrsquared_adj\u001b[39m(\u001b[38;5;28mself\u001b[39m) \u001b[38;5;241m-\u001b[39m\u001b[38;5;241m>\u001b[39m \u001b[38;5;28mfloat\u001b[39m:\n\u001b[0;32m   1958\u001b[0m \u001b[38;5;250m    \u001b[39m\u001b[38;5;124;03m\"\"\"\u001b[39;00m\n\u001b[0;32m   1959\u001b[0m \u001b[38;5;124;03m    Degree of freedom adjusted R-squared\u001b[39;00m\n\u001b[0;32m   1960\u001b[0m \u001b[38;5;124;03m    \"\"\"\u001b[39;00m\n\u001b[0;32m   1961\u001b[0m     \u001b[38;5;28;01mreturn\u001b[39;00m \u001b[38;5;241m1\u001b[39m \u001b[38;5;241m-\u001b[39m (\n\u001b[1;32m-> 1962\u001b[0m         (\u001b[38;5;241m1\u001b[39m \u001b[38;5;241m-\u001b[39m \u001b[38;5;28mself\u001b[39m\u001b[38;5;241m.\u001b[39mrsquared) \u001b[38;5;241m*\u001b[39m (\u001b[38;5;28mself\u001b[39m\u001b[38;5;241m.\u001b[39mnobs \u001b[38;5;241m-\u001b[39m \u001b[38;5;241m1\u001b[39m) \u001b[38;5;241m/\u001b[39m (\u001b[38;5;28mself\u001b[39m\u001b[38;5;241m.\u001b[39mnobs \u001b[38;5;241m-\u001b[39m \u001b[38;5;28mself\u001b[39m\u001b[38;5;241m.\u001b[39mmodel\u001b[38;5;241m.\u001b[39mnum_params)\n\u001b[0;32m   1963\u001b[0m     )\n",
      "\u001b[1;31mZeroDivisionError\u001b[0m: float division by zero"
     ]
    }
   ],
   "source": [
    "# Rescale the data\n",
    "log_returns_rescaled = log_returns * 100\n",
    "\n",
    "regimes = {}\n",
    "garch_models = {}\n",
    "\n",
    "# Loop through each hidden state (regime)\n",
    "for i in range(hmm_model.n_components):  # Replace `hmm.n_components` with `hmm_model.n_components` if needed\n",
    "    # Extract regime data\n",
    "    regimes[i] = log_returns_rescaled[hidden_states == i]\n",
    "    \n",
    "    if len(regimes[i]) > 0:  # Check if the regime has data\n",
    "        print(f\"Fitting GARCH(1,1) for Regime {i}...\")\n",
    "        garch_models[i] = arch_model(regimes[i], vol='Garch', p=1, q=1).fit(disp=\"off\")\n",
    "        print(f\"\\nRegime {i} GARCH Summary:\")\n",
    "        print(garch_models[i].summary())\n",
    "    else:\n",
    "        print(f\"\\nRegime {i} has no data.\")"
   ]
  },
  {
   "cell_type": "code",
   "execution_count": null,
   "metadata": {},
   "outputs": [
    {
     "name": "stdout",
     "output_type": "stream",
     "text": [
      "Regime 1 Volatility Forecast: 7.276259683657763\n",
      "Regime 2 Volatility Forecast: 10.481125674327131\n",
      "Regime 3 Volatility Forecast: 13.086390645899835\n",
      "Regime 4 Volatility Forecast: 6.654264580745384\n",
      "Regime 5 Volatility Forecast: 46.81378927829157\n",
      "Regime 6 Volatility Forecast: 15.17758440337542\n"
     ]
    },
    {
     "data": {
      "text/plain": [
       "[7.276259683657763,\n",
       " 10.481125674327131,\n",
       " 13.086390645899835,\n",
       " 6.654264580745384,\n",
       " 46.81378927829157,\n",
       " 15.17758440337542]"
      ]
     },
     "execution_count": 53,
     "metadata": {},
     "output_type": "execute_result"
    }
   ],
   "source": [
    "# Forecast volatility for each regime\n",
    "\n",
    "#start = dt.datetime(2006,11,1)\n",
    "# end = dt.datetime(2016,11,1, start=split_date, reindex=True)\n",
    "split_date = dt.datetime(2007,7,2)  \n",
    "#I estimate the model from the 1st obs to the split date\n",
    "\n",
    "def forecast_volatility(garch_models):\n",
    "    forecasts = []\n",
    "    \n",
    "    for i, garch_model in enumerate(garch_models, 1):\n",
    "        forecast = garch_model.forecast(horizon=1)\n",
    "        forecast_value = forecast.variance.iloc[-1, 0]\n",
    "        forecasts.append(forecast_value)\n",
    "        print(f\"Regime {i} Volatility Forecast: {forecast_value}\")\n",
    "    \n",
    "    return forecasts\n",
    "\n",
    "garch_models_list = [garch_models[i] for i in range(hmm_model.n_components)]\n",
    "forecast_volatility(garch_models_list)\n",
    "\n",
    "#garch_models = [garch_models[0], garch_models[1], garch_models[2], garch_models[3], garch_models[4], garch_models[5]]\n",
    "#forecast_volatility(garch_models)"
   ]
  },
  {
   "cell_type": "code",
   "execution_count": 94,
   "metadata": {},
   "outputs": [
    {
     "name": "stdout",
     "output_type": "stream",
     "text": [
      "Combined Volatility Forecast: 0.0017567145617945008\n"
     ]
    }
   ],
   "source": [
    "# Predict regime probabilities for the next time step\n",
    "next_probs = hmm_model.predict_proba(log_returns_rescaled.reshape(-1, 1))[-1]\n",
    "\n",
    "regime_1_prob = next_probs[0]\n",
    "regime_2_prob = next_probs[1]\n",
    "regime_3_prob = next_probs[2]\n",
    "regime_4_prob = next_probs[3]\n",
    "regime_5_prob = next_probs[4]\n",
    "regime_6_prob = next_probs[5]\n",
    "\n",
    "forecasts = forecast_volatility(garch_models_list)\n",
    "\n",
    "# Combine forecasts based on regime probabilities\n",
    "combined_forecast = sum(next_probs[i] * forecasts[i] for i in range(len(forecasts)))\n",
    "\n",
    "print(f\"Combined Volatility Forecast: {combined_forecast}\")\n",
    "\n",
    "# Combine forecasts\n",
    "# combined_forecast = regime_1_prob * forecast_1 + regime_2_prob * forecast_2 + regime_3_prob * forecast_3 + regime_4_prob * forecast_2 + regime_2_prob * forecast_2\n",
    "# print(f\"Combined Volatility Forecast: {combined_forecast}\")\n"
   ]
  },
  {
   "cell_type": "code",
   "execution_count": 96,
   "metadata": {},
   "outputs": [
    {
     "name": "stdout",
     "output_type": "stream",
     "text": [
      "Predicted Next Price: 6201.519711290832\n"
     ]
    }
   ],
   "source": [
    "# Simulate next price\n",
    "current_price = monthly_with_dates['Close'].iloc[-1]\n",
    "next_return = np.random.normal(0, np.sqrt(combined_forecast))\n",
    "next_price = current_price * np.exp(next_return)\n",
    "\n",
    "print(f\"Predicted Next Price: {next_price}\")\n"
   ]
  },
  {
   "cell_type": "code",
   "execution_count": null,
   "metadata": {},
   "outputs": [],
   "source": []
  }
 ],
 "metadata": {
  "kernelspec": {
   "display_name": "base",
   "language": "python",
   "name": "python3"
  },
  "language_info": {
   "codemirror_mode": {
    "name": "ipython",
    "version": 3
   },
   "file_extension": ".py",
   "mimetype": "text/x-python",
   "name": "python",
   "nbconvert_exporter": "python",
   "pygments_lexer": "ipython3",
   "version": "3.12.4"
  }
 },
 "nbformat": 4,
 "nbformat_minor": 4
}
