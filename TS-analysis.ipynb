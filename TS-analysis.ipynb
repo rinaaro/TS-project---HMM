{
 "cells": [
  {
   "cell_type": "code",
   "execution_count": 1,
   "metadata": {},
   "outputs": [],
   "source": [
    "#!pip install yfinance\n",
    "#!pip install hmmlearn\n",
    "#pip install arch\n",
    "#pip install scipy\n",
    "#pip install --upgrade --user hmmlearn\n",
    "#pip install --user git+https://github.com/hmmlearn/hmmlearn"
   ]
  },
  {
   "cell_type": "code",
   "execution_count": 2,
   "metadata": {},
   "outputs": [],
   "source": [
    "import yfinance as yf\n",
    "import numpy as np\n",
    "from numpy import random\n",
    "import pandas as pd\n",
    "import datetime as dt\n",
    "from datetime import datetime\n",
    "from scipy.stats import chi2, t, norm\n",
    "from sklearn.metrics import mean_squared_error, root_mean_squared_error, r2_score \n",
    "from sklearn.mixture import GaussianMixture\n",
    "from hmmlearn import hmm\n",
    "from hmmlearn.hmm import GaussianHMM \n",
    "import statsmodels.api as sm\n",
    "from itertools import product\n",
    "from arch import arch_model\n",
    "import matplotlib.pyplot as plt"
   ]
  },
  {
   "cell_type": "markdown",
   "metadata": {},
   "source": [
    "# Data collection"
   ]
  },
  {
   "cell_type": "code",
   "execution_count": 4,
   "metadata": {},
   "outputs": [
    {
     "name": "stdout",
     "output_type": "stream",
     "text": [
      "[*********************100%%**********************]  1 of 1 completed\n"
     ]
    }
   ],
   "source": [
    "ticker = \"^GSPC\"  #S&P 500 index symbol\n",
    "daily = yf.download(ticker, start=\"1950-01-01\", end=\"2024-11-30\", interval=\"1d\")\n",
    "#daily.loc[(daily['Open'] == 0) & (daily.index >= '1961-12-29') & (daily.index <= '1982-04-20'), 'Open'] = np.nan\n",
    "#Before 29th Dec 1961, same values in the row\n",
    "#Between 29th Dec 1961 and 20th April 1982, \"Open\" set to 0\n",
    "\n",
    "daily = daily[daily.columns[0:4]]"
   ]
  },
  {
   "cell_type": "code",
   "execution_count": 5,
   "metadata": {},
   "outputs": [],
   "source": [
    "# Resample the data to monthly frequency\n",
    "monthly = daily.resample('MS').agg({'Open': 'first','High': 'max','Low': 'min','Close': 'last'})\n",
    "monthly = monthly.dropna()\n",
    "monthly_with_dates = monthly\n",
    "\n",
    "# Reset the index to have 'Date' as a column\n",
    "monthly = monthly.reset_index()\n",
    "\n",
    "# Calculate log returns\n",
    "log_returns = np.log(monthly_with_dates['Close'] / monthly_with_dates['Close'].shift(1)).dropna()\n"
   ]
  },
  {
   "cell_type": "code",
   "execution_count": 6,
   "metadata": {},
   "outputs": [
    {
     "data": {
      "text/plain": [
       "<Axes: >"
      ]
     },
     "execution_count": 6,
     "metadata": {},
     "output_type": "execute_result"
    },
    {
     "data": {
      "image/png": "[encoded data removed]",
      "text/plain": [
       "<Figure size 640x480 with 1 Axes>"
      ]
     },
     "metadata": {},
     "output_type": "display_data"
    }
   ],
   "source": [
    "monthly['Close'].plot()"
   ]
  },
  {
   "cell_type": "markdown",
   "metadata": {},
   "source": [
    "# ADF Test"
   ]
  },
  {
   "cell_type": "markdown",
   "metadata": {},
   "source": [
    "We run a Dickey-Fuller test to test for the stationnarity of our time series. Our result shows that the time series is not stationary which means that the stastiscal properties are not constant over time. This non stationarity leads to several issues such as"
   ]
  },
  {
   "cell_type": "code",
   "execution_count": 9,
   "metadata": {},
   "outputs": [
    {
     "name": "stdout",
     "output_type": "stream",
     "text": [
      "(899,)\n"
     ]
    }
   ],
   "source": [
    "True_price = monthly_with_dates['Close']\n",
    "print(True_price.shape)"
   ]
  },
  {
   "cell_type": "code",
   "execution_count": 10,
   "metadata": {},
   "outputs": [
    {
     "data": {
      "text/plain": [
       "Date\n",
       "1950-01-01      17.049999\n",
       "1950-02-01      17.219999\n",
       "1950-03-01      17.290001\n",
       "1950-04-01      17.959999\n",
       "1950-05-01      18.780001\n",
       "                 ...     \n",
       "2024-07-01    5522.299805\n",
       "2024-08-01    5648.399902\n",
       "2024-09-01    5762.479980\n",
       "2024-10-01    5705.450195\n",
       "2024-11-01    6032.379883\n",
       "Freq: MS, Name: Close, Length: 899, dtype: float64"
      ]
     },
     "execution_count": 10,
     "metadata": {},
     "output_type": "execute_result"
    }
   ],
   "source": [
    "True_price"
   ]
  },
  {
   "cell_type": "code",
   "execution_count": 11,
   "metadata": {},
   "outputs": [
    {
     "data": {
      "text/plain": [
       "(5.530603168749355,\n",
       " 1.0,\n",
       " {'1%': -2.5682738268565344,\n",
       "  '5%': -1.941308107020567,\n",
       "  '10%': -1.616522983799078},\n",
       " <statsmodels.stats.diagnostic.ResultsStore at 0x16820b790>)"
      ]
     },
     "execution_count": 11,
     "metadata": {},
     "output_type": "execute_result"
    }
   ],
   "source": [
    "sm.tsa.stattools.adfuller(True_price, regression='n', autolag='BIC', store=False, regresults=True)"
   ]
  },
  {
   "cell_type": "code",
   "execution_count": 12,
   "metadata": {},
   "outputs": [
    {
     "data": {
      "text/plain": [
       "(4.977697371218509,\n",
       " 1.0,\n",
       " {'1%': -3.4377689935918783,\n",
       "  '5%': -2.864815046188292,\n",
       "  '10%': -2.5685138660653957},\n",
       " <statsmodels.stats.diagnostic.ResultsStore at 0x16823c190>)"
      ]
     },
     "execution_count": 12,
     "metadata": {},
     "output_type": "execute_result"
    }
   ],
   "source": [
    "sm.tsa.stattools.adfuller(True_price, regression='c', autolag='BIC', store=False, regresults=True)"
   ]
  },
  {
   "cell_type": "code",
   "execution_count": 13,
   "metadata": {},
   "outputs": [
    {
     "data": {
      "text/plain": [
       "(3.5312595451308604,\n",
       " 1.0,\n",
       " {'1%': -3.969047635796577,\n",
       "  '5%': -3.415468144550754,\n",
       "  '10%': -3.1299799419503365},\n",
       " <statsmodels.stats.diagnostic.ResultsStore at 0x1683742d0>)"
      ]
     },
     "execution_count": 13,
     "metadata": {},
     "output_type": "execute_result"
    }
   ],
   "source": [
    "sm.tsa.stattools.adfuller(True_price, regression='ct', autolag='BIC', store=False, regresults=True)\n",
    "#we cannot reject H0 which means that the TS is non-stationary"
   ]
  },
  {
   "cell_type": "markdown",
   "metadata": {},
   "source": [
    "To overcome this issues, we transform the time series into a stationary one by differenciating each price by one lag. Now, when we run the ADF test, the null hypothesis is rejected i.e the time series is stationary."
   ]
  },
  {
   "cell_type": "code",
   "execution_count": 15,
   "metadata": {},
   "outputs": [],
   "source": [
    "True_price_diff = True_price.diff().dropna()  # We differenciate the TS to make it stationnary\n"
   ]
  },
  {
   "cell_type": "code",
   "execution_count": 16,
   "metadata": {},
   "outputs": [
    {
     "data": {
      "text/plain": [
       "(-5.718159037552278,\n",
       " 3.703569075127272e-08,\n",
       " {'1%': -2.5682567137987626,\n",
       "  '5%': -1.941306001663903,\n",
       "  '10%': -1.6165249633898795},\n",
       " <statsmodels.stats.diagnostic.ResultsStore at 0x168374850>)"
      ]
     },
     "execution_count": 16,
     "metadata": {},
     "output_type": "execute_result"
    }
   ],
   "source": [
    "sm.tsa.stattools.adfuller(True_price_diff, regression='n', autolag='BIC', store=False, regresults=True)\n",
    "# Now it is stationary"
   ]
  },
  {
   "cell_type": "code",
   "execution_count": 17,
   "metadata": {},
   "outputs": [
    {
     "data": {
      "text/plain": [
       "(-6.048662561267591,\n",
       " 1.2933615273721426e-07,\n",
       " {'1%': -3.43771883253448,\n",
       "  '5%': -2.8647929301713977,\n",
       "  '10%': -2.568502085595253},\n",
       " <statsmodels.stats.diagnostic.ResultsStore at 0x168377290>)"
      ]
     },
     "execution_count": 17,
     "metadata": {},
     "output_type": "execute_result"
    }
   ],
   "source": [
    "sm.tsa.stattools.adfuller(True_price_diff, regression='c', autolag='BIC', store=False, regresults=True)"
   ]
  },
  {
   "cell_type": "code",
   "execution_count": 18,
   "metadata": {},
   "outputs": [
    {
     "data": {
      "text/plain": [
       "(-6.667193399524683,\n",
       " 7.882817558710029e-08,\n",
       " {'1%': -3.9689781021789607,\n",
       "  '5%': -3.415434505721528,\n",
       "  '10%': -3.1299601554678294},\n",
       " <statsmodels.stats.diagnostic.ResultsStore at 0x16833b890>)"
      ]
     },
     "execution_count": 18,
     "metadata": {},
     "output_type": "execute_result"
    }
   ],
   "source": [
    "sm.tsa.stattools.adfuller(True_price_diff, regression='ct', autolag='BIC', store=False, regresults=True)"
   ]
  },
  {
   "cell_type": "markdown",
   "metadata": {},
   "source": [
    "# Ljung box test"
   ]
  },
  {
   "cell_type": "markdown",
   "metadata": {},
   "source": [
    "Now that we have a stationary time series, we want to check for autocorrelation in the white noise. In other words, we want to see if the white have serial dependance. By looking at the result of the Ljung-Box test we see that indeed there is autocorelation in the white noise."
   ]
  },
  {
   "cell_type": "code",
   "execution_count": 21,
   "metadata": {},
   "outputs": [
    {
     "data": {
      "text/html": [
       "<div>\n",
       "<style scoped>\n",
       "    .dataframe tbody tr th:only-of-type {\n",
       "        vertical-align: middle;\n",
       "    }\n",
       "\n",
       "    .dataframe tbody tr th {\n",
       "        vertical-align: top;\n",
       "    }\n",
       "\n",
       "    .dataframe thead th {\n",
       "        text-align: right;\n",
       "    }\n",
       "</style>\n",
       "<table border=\"1\" class=\"dataframe\">\n",
       "  <thead>\n",
       "    <tr style=\"text-align: right;\">\n",
       "      <th></th>\n",
       "      <th>lb_stat</th>\n",
       "      <th>lb_pvalue</th>\n",
       "    </tr>\n",
       "  </thead>\n",
       "  <tbody>\n",
       "    <tr>\n",
       "      <th>5</th>\n",
       "      <td>25.889188</td>\n",
       "      <td>0.000094</td>\n",
       "    </tr>\n",
       "  </tbody>\n",
       "</table>\n",
       "</div>"
      ],
      "text/plain": [
       "     lb_stat  lb_pvalue\n",
       "5  25.889188   0.000094"
      ]
     },
     "execution_count": 21,
     "metadata": {},
     "output_type": "execute_result"
    }
   ],
   "source": [
    "n_autocor = 5\n",
    "sm.stats.diagnostic.acorr_ljungbox(True_price_diff, lags=[n_autocor])\n",
    "#so there is autocorrelations in the residuals"
   ]
  },
  {
   "cell_type": "markdown",
   "metadata": {},
   "source": [
    "# ARMA model"
   ]
  },
  {
   "cell_type": "markdown",
   "metadata": {},
   "source": [
    "Now, we try to apply a ARMA process on the time series to account for the serial dependance in our series. "
   ]
  },
  {
   "cell_type": "code",
   "execution_count": 24,
   "metadata": {},
   "outputs": [
    {
     "name": "stdout",
     "output_type": "stream",
     "text": [
      "fitting: ar:0 -d:0 - ma:0\n",
      "fitting: ar:0 -d:0 - ma:1\n",
      "fitting: ar:0 -d:0 - ma:2\n",
      "fitting: ar:0 -d:0 - ma:3\n",
      "fitting: ar:0 -d:0 - ma:4\n",
      "fitting: ar:1 -d:0 - ma:0\n",
      "fitting: ar:1 -d:0 - ma:1\n",
      "fitting: ar:1 -d:0 - ma:2\n",
      "fitting: ar:1 -d:0 - ma:3\n",
      "fitting: ar:1 -d:0 - ma:4\n",
      "fitting: ar:2 -d:0 - ma:0\n",
      "fitting: ar:2 -d:0 - ma:1\n",
      "fitting: ar:2 -d:0 - ma:2\n"
     ]
    },
    {
     "name": "stderr",
     "output_type": "stream",
     "text": [
      "/opt/anaconda3/lib/python3.11/site-packages/statsmodels/tsa/statespace/sarimax.py:966: UserWarning: Non-stationary starting autoregressive parameters found. Using zeros as starting parameters.\n",
      "  warn('Non-stationary starting autoregressive parameters'\n",
      "/opt/anaconda3/lib/python3.11/site-packages/statsmodels/tsa/statespace/sarimax.py:978: UserWarning: Non-invertible starting MA parameters found. Using zeros as starting parameters.\n",
      "  warn('Non-invertible starting MA parameters found.'\n"
     ]
    },
    {
     "name": "stdout",
     "output_type": "stream",
     "text": [
      "fitting: ar:2 -d:0 - ma:3\n",
      "fitting: ar:2 -d:0 - ma:4\n"
     ]
    },
    {
     "name": "stderr",
     "output_type": "stream",
     "text": [
      "/opt/anaconda3/lib/python3.11/site-packages/statsmodels/base/model.py:607: ConvergenceWarning: Maximum Likelihood optimization failed to converge. Check mle_retvals\n",
      "  warnings.warn(\"Maximum Likelihood optimization failed to \"\n"
     ]
    },
    {
     "name": "stdout",
     "output_type": "stream",
     "text": [
      "fitting: ar:3 -d:0 - ma:0\n",
      "fitting: ar:3 -d:0 - ma:1\n",
      "fitting: ar:3 -d:0 - ma:2\n"
     ]
    },
    {
     "name": "stderr",
     "output_type": "stream",
     "text": [
      "/opt/anaconda3/lib/python3.11/site-packages/statsmodels/tsa/statespace/sarimax.py:966: UserWarning: Non-stationary starting autoregressive parameters found. Using zeros as starting parameters.\n",
      "  warn('Non-stationary starting autoregressive parameters'\n",
      "/opt/anaconda3/lib/python3.11/site-packages/statsmodels/base/model.py:607: ConvergenceWarning: Maximum Likelihood optimization failed to converge. Check mle_retvals\n",
      "  warnings.warn(\"Maximum Likelihood optimization failed to \"\n",
      "/opt/anaconda3/lib/python3.11/site-packages/statsmodels/tsa/statespace/sarimax.py:966: UserWarning: Non-stationary starting autoregressive parameters found. Using zeros as starting parameters.\n",
      "  warn('Non-stationary starting autoregressive parameters'\n",
      "/opt/anaconda3/lib/python3.11/site-packages/statsmodels/tsa/statespace/sarimax.py:978: UserWarning: Non-invertible starting MA parameters found. Using zeros as starting parameters.\n",
      "  warn('Non-invertible starting MA parameters found.'\n"
     ]
    },
    {
     "name": "stdout",
     "output_type": "stream",
     "text": [
      "fitting: ar:3 -d:0 - ma:3\n"
     ]
    },
    {
     "name": "stderr",
     "output_type": "stream",
     "text": [
      "/opt/anaconda3/lib/python3.11/site-packages/statsmodels/base/model.py:607: ConvergenceWarning: Maximum Likelihood optimization failed to converge. Check mle_retvals\n",
      "  warnings.warn(\"Maximum Likelihood optimization failed to \"\n"
     ]
    },
    {
     "name": "stdout",
     "output_type": "stream",
     "text": [
      "fitting: ar:3 -d:0 - ma:4\n"
     ]
    },
    {
     "name": "stderr",
     "output_type": "stream",
     "text": [
      "/opt/anaconda3/lib/python3.11/site-packages/statsmodels/base/model.py:607: ConvergenceWarning: Maximum Likelihood optimization failed to converge. Check mle_retvals\n",
      "  warnings.warn(\"Maximum Likelihood optimization failed to \"\n"
     ]
    },
    {
     "name": "stdout",
     "output_type": "stream",
     "text": [
      "fitting: ar:4 -d:0 - ma:0\n",
      "fitting: ar:4 -d:0 - ma:1\n",
      "fitting: ar:4 -d:0 - ma:2\n"
     ]
    },
    {
     "name": "stderr",
     "output_type": "stream",
     "text": [
      "/opt/anaconda3/lib/python3.11/site-packages/statsmodels/tsa/statespace/sarimax.py:966: UserWarning: Non-stationary starting autoregressive parameters found. Using zeros as starting parameters.\n",
      "  warn('Non-stationary starting autoregressive parameters'\n",
      "/opt/anaconda3/lib/python3.11/site-packages/statsmodels/tsa/statespace/sarimax.py:978: UserWarning: Non-invertible starting MA parameters found. Using zeros as starting parameters.\n",
      "  warn('Non-invertible starting MA parameters found.'\n",
      "/opt/anaconda3/lib/python3.11/site-packages/statsmodels/base/model.py:607: ConvergenceWarning: Maximum Likelihood optimization failed to converge. Check mle_retvals\n",
      "  warnings.warn(\"Maximum Likelihood optimization failed to \"\n",
      "/opt/anaconda3/lib/python3.11/site-packages/statsmodels/tsa/statespace/sarimax.py:966: UserWarning: Non-stationary starting autoregressive parameters found. Using zeros as starting parameters.\n",
      "  warn('Non-stationary starting autoregressive parameters'\n",
      "/opt/anaconda3/lib/python3.11/site-packages/statsmodels/tsa/statespace/sarimax.py:978: UserWarning: Non-invertible starting MA parameters found. Using zeros as starting parameters.\n",
      "  warn('Non-invertible starting MA parameters found.'\n"
     ]
    },
    {
     "name": "stdout",
     "output_type": "stream",
     "text": [
      "fitting: ar:4 -d:0 - ma:3\n"
     ]
    },
    {
     "name": "stderr",
     "output_type": "stream",
     "text": [
      "/opt/anaconda3/lib/python3.11/site-packages/statsmodels/base/model.py:607: ConvergenceWarning: Maximum Likelihood optimization failed to converge. Check mle_retvals\n",
      "  warnings.warn(\"Maximum Likelihood optimization failed to \"\n"
     ]
    },
    {
     "name": "stdout",
     "output_type": "stream",
     "text": [
      "fitting: ar:4 -d:0 - ma:4\n"
     ]
    },
    {
     "name": "stderr",
     "output_type": "stream",
     "text": [
      "/opt/anaconda3/lib/python3.11/site-packages/statsmodels/base/model.py:607: ConvergenceWarning: Maximum Likelihood optimization failed to converge. Check mle_retvals\n",
      "  warnings.warn(\"Maximum Likelihood optimization failed to \"\n"
     ]
    },
    {
     "name": "stdout",
     "output_type": "stream",
     "text": [
      "fitting: ar:5 -d:0 - ma:0\n",
      "fitting: ar:5 -d:0 - ma:1\n",
      "fitting: ar:5 -d:0 - ma:2\n",
      "fitting: ar:5 -d:0 - ma:3\n"
     ]
    },
    {
     "name": "stderr",
     "output_type": "stream",
     "text": [
      "/opt/anaconda3/lib/python3.11/site-packages/statsmodels/tsa/statespace/sarimax.py:966: UserWarning: Non-stationary starting autoregressive parameters found. Using zeros as starting parameters.\n",
      "  warn('Non-stationary starting autoregressive parameters'\n",
      "/opt/anaconda3/lib/python3.11/site-packages/statsmodels/tsa/statespace/sarimax.py:978: UserWarning: Non-invertible starting MA parameters found. Using zeros as starting parameters.\n",
      "  warn('Non-invertible starting MA parameters found.'\n",
      "/opt/anaconda3/lib/python3.11/site-packages/statsmodels/base/model.py:607: ConvergenceWarning: Maximum Likelihood optimization failed to converge. Check mle_retvals\n",
      "  warnings.warn(\"Maximum Likelihood optimization failed to \"\n"
     ]
    },
    {
     "name": "stdout",
     "output_type": "stream",
     "text": [
      "fitting: ar:5 -d:0 - ma:4\n",
      "criterion\n",
      "     ar_order  d_order  ma_order        aic        bic\n",
      "0          0        0         0  10.002979  10.012579\n",
      "1          0        0         1   9.998455  10.012855\n",
      "2          0        0         2  10.000230  10.019431\n",
      "3          0        0         3   9.988172  10.012173\n",
      "4          0        0         4   9.989449  10.018250\n",
      "5          1        0         0   9.998863  10.013263\n",
      "6          1        0         1  10.000396  10.019597\n",
      "7          1        0         2   9.981856  10.005857\n",
      "8          1        0         3   9.967564   9.996365\n",
      "9          1        0         4   9.969468  10.003069\n",
      "10         2        0         0   9.999075  10.018275\n",
      "11         2        0         1   9.996041  10.020042\n",
      "12         2        0         2   9.968600   9.997401\n",
      "13         2        0         3   9.968384  10.001986\n",
      "14         2        0         4   9.967225  10.005627\n",
      "15         3        0         0   9.990926  10.014926\n",
      "16         3        0         1   9.971609  10.000410\n",
      "17         3        0         2   9.999372  10.032973\n",
      "18         3        0         3   9.964221  10.002623\n",
      "19         3        0         4   9.933211   9.976412\n",
      "20         4        0         0   9.987524  10.016325\n",
      "21         4        0         1   9.973242  10.006843\n",
      "22         4        0         2   9.971164  10.009565\n",
      "23         4        0         3   9.966133  10.009334\n",
      "24         4        0         4   9.936366   9.984367\n",
      "25         5        0         0   9.981786  10.015387\n",
      "26         5        0         1   9.981884  10.020285\n",
      "27         5        0         2   9.974179  10.017380\n",
      "28         5        0         3   9.954792  10.002794\n",
      "29         5        0         4   9.932907   9.985709\n"
     ]
    },
    {
     "name": "stderr",
     "output_type": "stream",
     "text": [
      "/opt/anaconda3/lib/python3.11/site-packages/statsmodels/base/model.py:607: ConvergenceWarning: Maximum Likelihood optimization failed to converge. Check mle_retvals\n",
      "  warnings.warn(\"Maximum Likelihood optimization failed to \"\n"
     ]
    }
   ],
   "source": [
    "ar_order = [0, 1, 2, 3, 4, 5]\n",
    "d_order = [0]\n",
    "ma_order = [0, 1, 2, 3, 4]\n",
    "arma_res = [list(orders) for orders in product(ar_order, d_order, ma_order)]\n",
    "\n",
    "for order in arma_res:\n",
    "    print('fitting: ar:{} -d:{} - ma:{}'.format(*order)) \n",
    "    try:\n",
    "        arma_model = sm.tsa.arima.ARIMA(True_price_diff, order=order).fit()\n",
    "        order.extend([arma_model.aic / 1e3, arma_model.bic / 1e3])\n",
    "    except Exception as exception:\n",
    "        print(exception.__str__())\n",
    "        order.extend([np.NaN, np.NaN])\n",
    "    \n",
    "res = pd.DataFrame(arma_res, columns = ['ar_order', 'd_order', 'ma_order', 'aic', 'bic'])\n",
    "print('criterion\\n', res)"
   ]
  },
  {
   "cell_type": "markdown",
   "metadata": {},
   "source": [
    "By looking at the result, we see that the model that minimzes the BIC is a ARMA(3,4)"
   ]
  },
  {
   "cell_type": "code",
   "execution_count": 26,
   "metadata": {},
   "outputs": [
    {
     "name": "stdout",
     "output_type": "stream",
     "text": [
      "                               SARIMAX Results                                \n",
      "==============================================================================\n",
      "Dep. Variable:                  Close   No. Observations:                  898\n",
      "Model:                 ARIMA(3, 0, 4)   Log Likelihood               -4957.605\n",
      "Date:                Wed, 01 Jan 2025   AIC                           9933.211\n",
      "Time:                        22:27:30   BIC                           9976.412\n",
      "Sample:                    02-01-1950   HQIC                          9949.716\n",
      "                         - 11-01-2024                                         \n",
      "Covariance Type:                  opg                                         \n",
      "==============================================================================\n",
      "                 coef    std err          z      P>|z|      [0.025      0.975]\n",
      "------------------------------------------------------------------------------\n",
      "const          6.7480     64.808      0.104      0.917    -120.273     133.769\n",
      "ar.L1          0.9938      0.009    109.059      0.000       0.976       1.012\n",
      "ar.L2         -0.9618      0.009   -104.404      0.000      -0.980      -0.944\n",
      "ar.L3          0.9660      0.009    108.599      0.000       0.949       0.983\n",
      "ma.L1         -1.1077      0.017    -66.196      0.000      -1.141      -1.075\n",
      "ma.L2          1.0887      0.019     56.668      0.000       1.051       1.126\n",
      "ma.L3         -0.9968      0.020    -50.346      0.000      -1.036      -0.958\n",
      "ma.L4          0.0564      0.015      3.708      0.000       0.027       0.086\n",
      "sigma2      3888.3701     74.071     52.495      0.000    3743.194    4033.547\n",
      "===================================================================================\n",
      "Ljung-Box (L1) (Q):                   0.00   Jarque-Bera (JB):              6999.98\n",
      "Prob(Q):                              0.95   Prob(JB):                         0.00\n",
      "Heteroskedasticity (H):            1155.03   Skew:                            -0.94\n",
      "Prob(H) (two-sided):                  0.00   Kurtosis:                        16.55\n",
      "===================================================================================\n",
      "\n",
      "Warnings:\n",
      "[1] Covariance matrix calculated using the outer product of gradients (complex-step).\n"
     ]
    },
    {
     "name": "stderr",
     "output_type": "stream",
     "text": [
      "/opt/anaconda3/lib/python3.11/site-packages/statsmodels/base/model.py:607: ConvergenceWarning: Maximum Likelihood optimization failed to converge. Check mle_retvals\n",
      "  warnings.warn(\"Maximum Likelihood optimization failed to \"\n"
     ]
    },
    {
     "data": {
      "text/plain": [
       "9933.210796329997"
      ]
     },
     "execution_count": 26,
     "metadata": {},
     "output_type": "execute_result"
    }
   ],
   "source": [
    "res = sm.tsa.arima.ARIMA(True_price_diff, order=(3,0,4)).fit()\n",
    "res\n",
    "print(res.summary())\n",
    "res.aic"
   ]
  },
  {
   "cell_type": "markdown",
   "metadata": {},
   "source": [
    "# ARCH test"
   ]
  },
  {
   "cell_type": "markdown",
   "metadata": {},
   "source": [
    "We then run a ARCH test on the squared residuals to check for homoskedacity. The goal here is to make sure that the ARMA model captured all the volatility. However by looking at the result, we see that the residuals are heteroskedastic. "
   ]
  },
  {
   "cell_type": "code",
   "execution_count": 29,
   "metadata": {},
   "outputs": [],
   "source": [
    "residus = res.resid"
   ]
  },
  {
   "cell_type": "code",
   "execution_count": 30,
   "metadata": {},
   "outputs": [
    {
     "data": {
      "text/html": [
       "<div>\n",
       "<style scoped>\n",
       "    .dataframe tbody tr th:only-of-type {\n",
       "        vertical-align: middle;\n",
       "    }\n",
       "\n",
       "    .dataframe tbody tr th {\n",
       "        vertical-align: top;\n",
       "    }\n",
       "\n",
       "    .dataframe thead th {\n",
       "        text-align: right;\n",
       "    }\n",
       "</style>\n",
       "<table border=\"1\" class=\"dataframe\">\n",
       "  <thead>\n",
       "    <tr style=\"text-align: right;\">\n",
       "      <th></th>\n",
       "      <th>lb_stat</th>\n",
       "      <th>lb_pvalue</th>\n",
       "    </tr>\n",
       "  </thead>\n",
       "  <tbody>\n",
       "    <tr>\n",
       "      <th>5</th>\n",
       "      <td>738.624275</td>\n",
       "      <td>2.182697e-157</td>\n",
       "    </tr>\n",
       "  </tbody>\n",
       "</table>\n",
       "</div>"
      ],
      "text/plain": [
       "      lb_stat      lb_pvalue\n",
       "5  738.624275  2.182697e-157"
      ]
     },
     "execution_count": 30,
     "metadata": {},
     "output_type": "execute_result"
    }
   ],
   "source": [
    "n_autocor = 5\n",
    "sm.stats.diagnostic.acorr_ljungbox(residus**2, lags=[n_autocor])\n",
    "#We have heteroskedacity"
   ]
  },
  {
   "cell_type": "markdown",
   "metadata": {},
   "source": [
    "# GARCH model"
   ]
  },
  {
   "cell_type": "markdown",
   "metadata": {},
   "source": [
    "Because of that heteroskedacity, we are going to model a GARCH model to account for the volatility. "
   ]
  },
  {
   "cell_type": "code",
   "execution_count": 33,
   "metadata": {},
   "outputs": [
    {
     "name": "stdout",
     "output_type": "stream",
     "text": [
      "Iteration:      1,   Func. Count:      6,   Neg. LLF: 6342.434202517588\n",
      "Iteration:      2,   Func. Count:     12,   Neg. LLF: 6476.052626000197\n",
      "Iteration:      3,   Func. Count:     20,   Neg. LLF: 4012.9919558515357\n",
      "Iteration:      4,   Func. Count:     25,   Neg. LLF: 3991.599307997743\n",
      "Iteration:      5,   Func. Count:     30,   Neg. LLF: 3980.2083167399983\n",
      "Iteration:      6,   Func. Count:     35,   Neg. LLF: 3944.838929512364\n",
      "Iteration:      7,   Func. Count:     40,   Neg. LLF: 4070.688025747365\n",
      "Iteration:      8,   Func. Count:     46,   Neg. LLF: 3918.5739621832317\n",
      "Iteration:      9,   Func. Count:     52,   Neg. LLF: 3865.2768618953987\n",
      "Iteration:     10,   Func. Count:     58,   Neg. LLF: 3701.2119224874214\n",
      "Iteration:     11,   Func. Count:     63,   Neg. LLF: 4888.75752316497\n",
      "Iteration:     12,   Func. Count:     71,   Neg. LLF: 11280.353859984903\n",
      "Iteration:     13,   Func. Count:     77,   Neg. LLF: 568450472.0905794\n",
      "Iteration:     14,   Func. Count:     84,   Neg. LLF: 58834.38362267897\n",
      "Iteration:     15,   Func. Count:     90,   Neg. LLF: 3603.0972559735023\n",
      "Iteration:     16,   Func. Count:     95,   Neg. LLF: 3608.2547125876163\n",
      "Iteration:     17,   Func. Count:    101,   Neg. LLF: 3602.199527616216\n",
      "Iteration:     18,   Func. Count:    107,   Neg. LLF: 3599.4854670786513\n",
      "Iteration:     19,   Func. Count:    112,   Neg. LLF: 3599.3987908340373\n",
      "Iteration:     20,   Func. Count:    118,   Neg. LLF: 3599.1118475348067\n",
      "Iteration:     21,   Func. Count:    123,   Neg. LLF: 3599.111844790895\n",
      "Iteration:     22,   Func. Count:    128,   Neg. LLF: 3599.1116450207364\n",
      "Iteration:     23,   Func. Count:    132,   Neg. LLF: 3599.1116356197804\n",
      "Optimization terminated successfully    (Exit mode 0)\n",
      "            Current function value: 3599.1116450207364\n",
      "            Iterations: 27\n",
      "            Function evaluations: 132\n",
      "            Gradient evaluations: 23\n",
      "                     Constant Mean - GARCH Model Results                      \n",
      "==============================================================================\n",
      "Dep. Variable:                   None   R-squared:                       0.000\n",
      "Mean Model:             Constant Mean   Adj. R-squared:                  0.000\n",
      "Vol Model:                      GARCH   Log-Likelihood:               -3599.11\n",
      "Distribution:                  Normal   AIC:                           7206.22\n",
      "Method:            Maximum Likelihood   BIC:                           7225.42\n",
      "                                        No. Observations:                  898\n",
      "Date:                Wed, Jan 01 2025   Df Residuals:                      897\n",
      "Time:                        22:27:30   Df Model:                            1\n",
      "                               Mean Model                               \n",
      "========================================================================\n",
      "                 coef    std err          t      P>|t|  95.0% Conf. Int.\n",
      "------------------------------------------------------------------------\n",
      "mu            -0.5515      0.138     -3.998  6.380e-05 [ -0.822, -0.281]\n",
      "                              Volatility Model                             \n",
      "===========================================================================\n",
      "                 coef    std err          t      P>|t|     95.0% Conf. Int.\n",
      "---------------------------------------------------------------------------\n",
      "omega          0.0874  5.984e-02      1.460      0.144 [-2.993e-02,  0.205]\n",
      "alpha[1]       0.1407  1.507e-02      9.341  9.555e-21    [  0.111,  0.170]\n",
      "beta[1]        0.8593  2.041e-02     42.099      0.000    [  0.819,  0.899]\n",
      "===========================================================================\n",
      "\n",
      "Covariance estimator: robust\n"
     ]
    },
    {
     "data": {
      "image/png": "[encoded data removed]",
      "text/plain": [
       "<Figure size 640x480 with 2 Axes>"
      ]
     },
     "metadata": {},
     "output_type": "display_data"
    }
   ],
   "source": [
    "garch_res = arch_model(residus, p=1, o=0, q=1, dist='normal').fit()\n",
    "print(garch_res.summary())\n",
    "fig = garch_res.plot(annualize='D')"
   ]
  },
  {
   "cell_type": "markdown",
   "metadata": {},
   "source": [
    "# Forecast"
   ]
  },
  {
   "cell_type": "markdown",
   "metadata": {},
   "source": [
    "Now, we are trying to model a HMM-GARCH model to forecast our time series. Indeed, here the goal is to predict stock returns while capturing the volatility. Here, we use stock return to have stationarity in our time series. "
   ]
  },
  {
   "cell_type": "code",
   "execution_count": 36,
   "metadata": {},
   "outputs": [],
   "source": [
    "# Fit HMM with 6 regimes\n",
    "log_returns = log_returns.values.reshape(-1, 1)\n",
    "\n",
    "hmm_model = GaussianHMM(n_components=6, covariance_type=\"diag\", init_params=\"c\")\n",
    "hmm_model.fit(log_returns)\n",
    "\n",
    "hidden_states = hmm_model.decode(log_returns)[1]"
   ]
  },
  {
   "cell_type": "markdown",
   "metadata": {},
   "source": [
    "When applying a GARCH(1,1) to each of the hidden states, we see that for most of the states the volatility comes from past volatility. This persistance of volatility make our addition of a GARCH component less useful because here the volatility is not due to new shock but past values. For that reason, HMM-GARCH model would be a overkill and not improve the overall performance. "
   ]
  },
  {
   "cell_type": "code",
   "execution_count": 38,
   "metadata": {},
   "outputs": [
    {
     "name": "stdout",
     "output_type": "stream",
     "text": [
      "Fitting GARCH(1,1) for Regime 0...\n",
      "\n",
      "Regime 0 GARCH Summary:\n",
      "                     Constant Mean - GARCH Model Results                      \n",
      "==============================================================================\n",
      "Dep. Variable:                      y   R-squared:                       0.000\n",
      "Mean Model:             Constant Mean   Adj. R-squared:                  0.000\n",
      "Vol Model:                      GARCH   Log-Likelihood:               -213.440\n",
      "Distribution:                  Normal   AIC:                           434.880\n",
      "Method:            Maximum Likelihood   BIC:                           444.149\n",
      "                                        No. Observations:                   75\n",
      "Date:                Wed, Jan 01 2025   Df Residuals:                       74\n",
      "Time:                        22:27:30   Df Model:                            1\n",
      "                               Mean Model                               \n",
      "========================================================================\n",
      "                 coef    std err          t      P>|t|  95.0% Conf. Int.\n",
      "------------------------------------------------------------------------\n",
      "mu             3.9608      0.506      7.825  5.068e-15 [  2.969,  4.953]\n",
      "                            Volatility Model                            \n",
      "========================================================================\n",
      "                 coef    std err          t      P>|t|  95.0% Conf. Int.\n",
      "------------------------------------------------------------------------\n",
      "omega         16.3784      5.915      2.769  5.622e-03 [  4.786, 27.971]\n",
      "alpha[1]       0.0578  9.969e-02      0.579      0.562 [ -0.138,  0.253]\n",
      "beta[1]    2.6734e-17      0.396  6.753e-17      1.000 [ -0.776,  0.776]\n",
      "========================================================================\n",
      "\n",
      "Covariance estimator: robust\n",
      "Fitting GARCH(1,1) for Regime 1...\n",
      "\n",
      "Regime 1 GARCH Summary:\n",
      "                     Constant Mean - GARCH Model Results                      \n",
      "==============================================================================\n",
      "Dep. Variable:                      y   R-squared:                       0.000\n",
      "Mean Model:             Constant Mean   Adj. R-squared:                  0.000\n",
      "Vol Model:                      GARCH   Log-Likelihood:               -195.218\n",
      "Distribution:                  Normal   AIC:                           398.436\n",
      "Method:            Maximum Likelihood   BIC:                           407.863\n",
      "                                        No. Observations:                   78\n",
      "Date:                Wed, Jan 01 2025   Df Residuals:                       77\n",
      "Time:                        22:27:30   Df Model:                            1\n",
      "                               Mean Model                               \n",
      "========================================================================\n",
      "                 coef    std err          t      P>|t|  95.0% Conf. Int.\n",
      "------------------------------------------------------------------------\n",
      "mu            -4.8324      0.339    -14.247  4.655e-46 [ -5.497, -4.168]\n",
      "                               Volatility Model                              \n",
      "=============================================================================\n",
      "                 coef    std err          t      P>|t|       95.0% Conf. Int.\n",
      "-----------------------------------------------------------------------------\n",
      "omega          0.8846      1.021      0.867      0.386      [ -1.116,  2.885]\n",
      "alpha[1]   2.3139e-12  2.358e-02  9.814e-11      1.000 [-4.621e-02,4.621e-02]\n",
      "beta[1]        0.9026      0.135      6.685  2.311e-11      [  0.638,  1.167]\n",
      "=============================================================================\n",
      "\n",
      "Covariance estimator: robust\n",
      "Fitting GARCH(1,1) for Regime 2...\n",
      "\n",
      "Regime 2 GARCH Summary:\n",
      "                     Constant Mean - GARCH Model Results                      \n",
      "==============================================================================\n",
      "Dep. Variable:                      y   R-squared:                       0.000\n",
      "Mean Model:             Constant Mean   Adj. R-squared:                  0.000\n",
      "Vol Model:                      GARCH   Log-Likelihood:               -869.340\n",
      "Distribution:                  Normal   AIC:                           1746.68\n",
      "Method:            Maximum Likelihood   BIC:                           1762.15\n",
      "                                        No. Observations:                  353\n",
      "Date:                Wed, Jan 01 2025   Df Residuals:                      352\n",
      "Time:                        22:27:30   Df Model:                            1\n",
      "                               Mean Model                               \n",
      "========================================================================\n",
      "                 coef    std err          t      P>|t|  95.0% Conf. Int.\n",
      "------------------------------------------------------------------------\n",
      "mu             1.9888      0.188     10.560  4.567e-26 [  1.620,  2.358]\n",
      "                              Volatility Model                             \n",
      "===========================================================================\n",
      "                 coef    std err          t      P>|t|     95.0% Conf. Int.\n",
      "---------------------------------------------------------------------------\n",
      "omega          0.6320      0.633      0.999      0.318    [ -0.608,  1.872]\n",
      "alpha[1]       0.0419  4.635e-02      0.905      0.366 [-4.891e-02,  0.133]\n",
      "beta[1]        0.8820      0.113      7.826  5.054e-15    [  0.661,  1.103]\n",
      "===========================================================================\n",
      "\n",
      "Covariance estimator: robust\n",
      "Fitting GARCH(1,1) for Regime 3...\n",
      "\n",
      "Regime 3 GARCH Summary:\n",
      "                     Constant Mean - GARCH Model Results                      \n",
      "==============================================================================\n",
      "Dep. Variable:                      y   R-squared:                       0.000\n",
      "Mean Model:             Constant Mean   Adj. R-squared:                  0.000\n",
      "Vol Model:                      GARCH   Log-Likelihood:               -73.2967\n",
      "Distribution:                  Normal   AIC:                           154.593\n",
      "Method:            Maximum Likelihood   BIC:                           159.306\n",
      "                                        No. Observations:                   24\n",
      "Date:                Wed, Jan 01 2025   Df Residuals:                       23\n",
      "Time:                        22:27:31   Df Model:                            1\n",
      "                               Mean Model                               \n",
      "========================================================================\n",
      "                 coef    std err          t      P>|t|  95.0% Conf. Int.\n",
      "------------------------------------------------------------------------\n",
      "mu            -9.7330      1.064     -9.144  6.003e-20 [-11.819, -7.647]\n",
      "                               Volatility Model                              \n",
      "=============================================================================\n",
      "                 coef    std err          t      P>|t|       95.0% Conf. Int.\n",
      "-----------------------------------------------------------------------------\n",
      "omega         13.1511     26.062      0.505      0.614      [-37.929, 64.232]\n",
      "alpha[1]       0.0000  4.307e-02      0.000      1.000 [-8.442e-02,8.442e-02]\n",
      "beta[1]        0.5134      1.143      0.449      0.653      [ -1.726,  2.753]\n",
      "=============================================================================\n",
      "\n",
      "Covariance estimator: robust\n",
      "Fitting GARCH(1,1) for Regime 4...\n",
      "\n",
      "Regime 4 GARCH Summary:\n",
      "                     Constant Mean - GARCH Model Results                      \n",
      "==============================================================================\n",
      "Dep. Variable:                      y   R-squared:                       0.000\n",
      "Mean Model:             Constant Mean   Adj. R-squared:                  0.000\n",
      "Vol Model:                      GARCH   Log-Likelihood:               -30.1423\n",
      "Distribution:                  Normal   AIC:                           68.2847\n",
      "Method:            Maximum Likelihood   BIC:                           70.2243\n",
      "                                        No. Observations:                   12\n",
      "Date:                Wed, Jan 01 2025   Df Residuals:                       11\n",
      "Time:                        22:27:31   Df Model:                            1\n",
      "                               Mean Model                               \n",
      "========================================================================\n",
      "                 coef    std err          t      P>|t|  95.0% Conf. Int.\n",
      "------------------------------------------------------------------------\n",
      "mu             7.9812      2.391      3.337  8.456e-04 [  3.294, 12.668]\n",
      "                               Volatility Model                              \n",
      "=============================================================================\n",
      "                 coef    std err          t      P>|t|       95.0% Conf. Int.\n",
      "-----------------------------------------------------------------------------\n",
      "omega      9.2631e-08     53.433  1.734e-09      1.000 [-1.047e+02,1.047e+02]\n",
      "alpha[1]   3.0493e-11      0.475  6.414e-11      1.000      [ -0.932,  0.932]\n",
      "beta[1]        0.9573      5.650      0.169      0.865      [-10.116, 12.031]\n",
      "=============================================================================\n",
      "\n",
      "Covariance estimator: robust\n",
      "Fitting GARCH(1,1) for Regime 5...\n",
      "\n",
      "Regime 5 GARCH Summary:\n",
      "                     Constant Mean - GARCH Model Results                      \n",
      "==============================================================================\n",
      "Dep. Variable:                      y   R-squared:                       0.000\n",
      "Mean Model:             Constant Mean   Adj. R-squared:                  0.000\n",
      "Vol Model:                      GARCH   Log-Likelihood:               -895.566\n",
      "Distribution:                  Normal   AIC:                           1799.13\n",
      "Method:            Maximum Likelihood   BIC:                           1814.63\n",
      "                                        No. Observations:                  356\n",
      "Date:                Wed, Jan 01 2025   Df Residuals:                      355\n",
      "Time:                        22:27:31   Df Model:                            1\n",
      "                                 Mean Model                                \n",
      "===========================================================================\n",
      "                 coef    std err          t      P>|t|     95.0% Conf. Int.\n",
      "---------------------------------------------------------------------------\n",
      "mu             0.2488      0.159      1.568      0.117 [-6.218e-02,  0.560]\n",
      "                               Volatility Model                              \n",
      "=============================================================================\n",
      "                 coef    std err          t      P>|t|       95.0% Conf. Int.\n",
      "-----------------------------------------------------------------------------\n",
      "omega          0.4572      0.365      1.253      0.210      [ -0.258,  1.172]\n",
      "alpha[1]   2.8285e-13  5.454e-03  5.186e-11      1.000 [-1.069e-02,1.069e-02]\n",
      "beta[1]        0.9483  4.424e-02     21.438 5.886e-102      [  0.862,  1.035]\n",
      "=============================================================================\n",
      "\n",
      "Covariance estimator: robust\n"
     ]
    }
   ],
   "source": [
    "# Rescale the data\n",
    "log_returns_rescaled = log_returns * 100\n",
    "\n",
    "regimes = {}\n",
    "garch_models = {}\n",
    "\n",
    "# Loop through each hidden state (regime)\n",
    "for i in range(hmm_model.n_components):\n",
    "    regimes[i] = log_returns_rescaled[hidden_states == i]\n",
    "    \n",
    "    if len(regimes[i]) > 0:\n",
    "        print(f\"Fitting GARCH(1,1) for Regime {i}...\")\n",
    "        garch_models[i] = arch_model(regimes[i], vol='Garch', p=1, q=1).fit(disp=\"off\")\n",
    "        print(f\"\\nRegime {i} GARCH Summary:\")\n",
    "        print(garch_models[i].summary())\n",
    "    else:\n",
    "        print(f\"\\nRegime {i} has no data.\")"
   ]
  },
  {
   "cell_type": "code",
   "execution_count": null,
   "metadata": {},
   "outputs": [],
   "source": []
  }
 ],
 "metadata": {
  "kernelspec": {
   "display_name": "Python 3 (ipykernel)",
   "language": "python",
   "name": "python3"
  },
  "language_info": {
   "codemirror_mode": {
    "name": "ipython",
    "version": 3
   },
   "file_extension": ".py",
   "mimetype": "text/x-python",
   "name": "python",
   "nbconvert_exporter": "python",
   "pygments_lexer": "ipython3",
   "version": "3.11.7"
  }
 },
 "nbformat": 4,
 "nbformat_minor": 4
}
