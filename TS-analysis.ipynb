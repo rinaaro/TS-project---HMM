{
 "cells": [
  {
   "cell_type": "code",
   "execution_count": 1,
   "metadata": {},
   "outputs": [],
   "source": [
    "#!pip install yfinance\n",
    "#!pip install hmmlearn\n",
    "#pip install arch\n",
    "#pip install scipy\n",
    "#pip install --upgrade --user hmmlearn\n",
    "#pip install --user git+https://github.com/hmmlearn/hmmlearn\n",
    "from sklearn.mixture import GaussianMixture\n",
    "import yfinance as yf\n",
    "import numpy as np\n",
    "from numpy import random\n",
    "import pandas as pd\n",
    "from sklearn.metrics import mean_squared_error, root_mean_squared_error, r2_score \n",
    "from hmmlearn import hmm\n",
    "from hmmlearn.hmm import GaussianHMM \n",
    "import matplotlib.pyplot as plt\n",
    "import statsmodels.api as sm\n",
    "from scipy.stats import chi2, t, norm\n",
    "import datetime as dt\n",
    "from datetime import datetime\n",
    "from itertools import product\n",
    "from arch import arch_model"
   ]
  },
  {
   "cell_type": "markdown",
   "metadata": {},
   "source": [
    "# Data collection"
   ]
  },
  {
   "cell_type": "code",
   "execution_count": 2,
   "metadata": {},
   "outputs": [
    {
     "name": "stdout",
     "output_type": "stream",
     "text": [
      "[*********************100%%**********************]  1 of 1 completed\n"
     ]
    },
    {
     "name": "stderr",
     "output_type": "stream",
     "text": [
      "c:\\Users\\graci\\anaconda3\\Lib\\site-packages\\yfinance\\utils.py:771: FutureWarning: The 'unit' keyword in TimedeltaIndex construction is deprecated and will be removed in a future version. Use pd.to_timedelta instead.\n",
      "  df.index += _pd.TimedeltaIndex(dst_error_hours, 'h')\n"
     ]
    }
   ],
   "source": [
    "ticker = \"^GSPC\"  #S&P 500 index symbol\n",
    "daily = yf.download(ticker, start=\"1950-01-01\", end=\"2024-11-30\", interval=\"1d\")\n",
    "#daily.loc[(daily['Open'] == 0) & (daily.index >= '1961-12-29') & (daily.index <= '1982-04-20'), 'Open'] = np.nan\n",
    "#Before 29th Dec 1961, same values in the row\n",
    "#Between 29th Dec 1961 and 20th April 1982, \"Open\" set to 0\n",
    "\n",
    "daily = daily[daily.columns[0:4]]"
   ]
  },
  {
   "cell_type": "code",
   "execution_count": 3,
   "metadata": {},
   "outputs": [],
   "source": [
    "# Resample the data to monthly frequency\n",
    "monthly = daily.resample('MS').agg({'Open': 'first','High': 'max','Low': 'min','Close': 'last'})\n",
    "monthly = monthly.dropna()\n",
    "monthly_with_dates = monthly\n",
    "\n",
    "# Reset the index to have 'Date' as a column\n",
    "monthly = monthly.reset_index()\n",
    "\n",
    "#calculate log returns\n",
    "log_returns = np.log(monthly_with_dates['Close'] / monthly_with_dates['Close'].shift(1)).dropna()\n"
   ]
  },
  {
   "cell_type": "code",
   "execution_count": 4,
   "metadata": {},
   "outputs": [
    {
     "data": {
      "text/plain": [
       "<Axes: >"
      ]
     },
     "execution_count": 4,
     "metadata": {},
     "output_type": "execute_result"
    },
    {
     "data": {
      "image/png": "[encoded data removed]",
      "text/plain": [
       "<Figure size 640x480 with 1 Axes>"
      ]
     },
     "metadata": {},
     "output_type": "display_data"
    }
   ],
   "source": [
    "monthly['Close'].plot()"
   ]
  },
  {
   "cell_type": "markdown",
   "metadata": {},
   "source": [
    "# ADF Test"
   ]
  },
  {
   "cell_type": "markdown",
   "metadata": {},
   "source": [
    "We run a Dickey-Fuller test to test for the stationnarity of our time series. Our result shows that the time series is not stationary which means that the stastiscal properties are not constant over time. This non stationarity leads to several issues such as"
   ]
  },
  {
   "cell_type": "code",
   "execution_count": 5,
   "metadata": {},
   "outputs": [
    {
     "name": "stdout",
     "output_type": "stream",
     "text": [
      "(899,)\n"
     ]
    }
   ],
   "source": [
    "True_price = monthly_with_dates['Close']\n",
    "print(True_price.shape)"
   ]
  },
  {
   "cell_type": "code",
   "execution_count": 6,
   "metadata": {},
   "outputs": [
    {
     "data": {
      "text/plain": [
       "Date\n",
       "1950-01-01      17.049999\n",
       "1950-02-01      17.219999\n",
       "1950-03-01      17.290001\n",
       "1950-04-01      17.959999\n",
       "1950-05-01      18.780001\n",
       "                 ...     \n",
       "2024-07-01    5522.299805\n",
       "2024-08-01    5648.399902\n",
       "2024-09-01    5762.479980\n",
       "2024-10-01    5705.450195\n",
       "2024-11-01    6032.379883\n",
       "Freq: MS, Name: Close, Length: 899, dtype: float64"
      ]
     },
     "execution_count": 6,
     "metadata": {},
     "output_type": "execute_result"
    }
   ],
   "source": [
    "True_price"
   ]
  },
  {
   "cell_type": "code",
   "execution_count": 7,
   "metadata": {},
   "outputs": [
    {
     "data": {
      "text/plain": [
       "(5.530603168749355,\n",
       " 1.0,\n",
       " {'1%': -2.5682738268565344,\n",
       "  '5%': -1.941308107020567,\n",
       "  '10%': -1.616522983799078},\n",
       " <statsmodels.stats.diagnostic.ResultsStore at 0x2817d0d3d70>)"
      ]
     },
     "execution_count": 7,
     "metadata": {},
     "output_type": "execute_result"
    }
   ],
   "source": [
    "sm.tsa.stattools.adfuller(True_price, regression='n', autolag='BIC', store=False, regresults=True)"
   ]
  },
  {
   "cell_type": "code",
   "execution_count": 8,
   "metadata": {},
   "outputs": [
    {
     "data": {
      "text/plain": [
       "(4.977697371218509,\n",
       " 1.0,\n",
       " {'1%': -3.4377689935918783,\n",
       "  '5%': -2.864815046188292,\n",
       "  '10%': -2.5685138660653957},\n",
       " <statsmodels.stats.diagnostic.ResultsStore at 0x2817d046750>)"
      ]
     },
     "execution_count": 8,
     "metadata": {},
     "output_type": "execute_result"
    }
   ],
   "source": [
    "sm.tsa.stattools.adfuller(True_price, regression='c', autolag='BIC', store=False, regresults=True)"
   ]
  },
  {
   "cell_type": "code",
   "execution_count": null,
   "metadata": {},
   "outputs": [
    {
     "data": {
      "text/plain": [
       "(3.531259545130856,\n",
       " 1.0,\n",
       " {'1%': -3.969047635796577,\n",
       "  '5%': -3.415468144550754,\n",
       "  '10%': -3.1299799419503365},\n",
       " <statsmodels.stats.diagnostic.ResultsStore at 0x2817d0bbc50>)"
      ]
     },
     "execution_count": 9,
     "metadata": {},
     "output_type": "execute_result"
    }
   ],
   "source": [
    "sm.tsa.stattools.adfuller(True_price, regression='ct', autolag='BIC', store=False, regresults=True)\n",
    "#we cannot reject H0 which means that the TS is non-stationary"
   ]
  },
  {
   "cell_type": "markdown",
   "metadata": {},
   "source": [
    "To overcome this issues, we transform the time series into a stationary one by differenciating each price by one lag. Now, when we run the ADF test, the null hypothesis is rejected i.e the time series is stationary."
   ]
  },
  {
   "cell_type": "code",
   "execution_count": 10,
   "metadata": {},
   "outputs": [],
   "source": [
    "True_price_diff = True_price.diff().dropna()  #we differenciate the TS to make it stationnary\n"
   ]
  },
  {
   "cell_type": "code",
   "execution_count": 11,
   "metadata": {},
   "outputs": [
    {
     "data": {
      "text/plain": [
       "(-5.718159037552288,\n",
       " 3.7035690751270905e-08,\n",
       " {'1%': -2.5682567137987626,\n",
       "  '5%': -1.941306001663903,\n",
       "  '10%': -1.6165249633898795},\n",
       " <statsmodels.stats.diagnostic.ResultsStore at 0x2817d0bb440>)"
      ]
     },
     "execution_count": 11,
     "metadata": {},
     "output_type": "execute_result"
    }
   ],
   "source": [
    "sm.tsa.stattools.adfuller(True_price_diff, regression='n', autolag='BIC', store=False, regresults=True)\n",
    "#now it is stationary"
   ]
  },
  {
   "cell_type": "code",
   "execution_count": 12,
   "metadata": {},
   "outputs": [
    {
     "data": {
      "text/plain": [
       "(-6.048662561267602,\n",
       " 1.293361527372057e-07,\n",
       " {'1%': -3.43771883253448,\n",
       "  '5%': -2.8647929301713977,\n",
       "  '10%': -2.568502085595253},\n",
       " <statsmodels.stats.diagnostic.ResultsStore at 0x2817ab669f0>)"
      ]
     },
     "execution_count": 12,
     "metadata": {},
     "output_type": "execute_result"
    }
   ],
   "source": [
    "sm.tsa.stattools.adfuller(True_price_diff, regression='c', autolag='BIC', store=False, regresults=True)"
   ]
  },
  {
   "cell_type": "code",
   "execution_count": 13,
   "metadata": {},
   "outputs": [
    {
     "data": {
      "text/plain": [
       "(-6.667193399524685,\n",
       " 7.882817558709957e-08,\n",
       " {'1%': -3.9689781021789607,\n",
       "  '5%': -3.415434505721528,\n",
       "  '10%': -3.1299601554678294},\n",
       " <statsmodels.stats.diagnostic.ResultsStore at 0x2817d0d06b0>)"
      ]
     },
     "execution_count": 13,
     "metadata": {},
     "output_type": "execute_result"
    }
   ],
   "source": [
    "sm.tsa.stattools.adfuller(True_price_diff, regression='ct', autolag='BIC', store=False, regresults=True)"
   ]
  },
  {
   "cell_type": "markdown",
   "metadata": {},
   "source": [
    "# Ljung box test"
   ]
  },
  {
   "cell_type": "markdown",
   "metadata": {},
   "source": [
    "Now that we have a stationnary time series, we want to check for autocorrelation in the white noise. In other words, we want to see if the white have serial dependance. By looking at the result of the Ljung-Box test we see that indeed there is autocorelation in the white noise."
   ]
  },
  {
   "cell_type": "code",
   "execution_count": 14,
   "metadata": {},
   "outputs": [
    {
     "data": {
      "text/html": [
       "<div>\n",
       "<style scoped>\n",
       "    .dataframe tbody tr th:only-of-type {\n",
       "        vertical-align: middle;\n",
       "    }\n",
       "\n",
       "    .dataframe tbody tr th {\n",
       "        vertical-align: top;\n",
       "    }\n",
       "\n",
       "    .dataframe thead th {\n",
       "        text-align: right;\n",
       "    }\n",
       "</style>\n",
       "<table border=\"1\" class=\"dataframe\">\n",
       "  <thead>\n",
       "    <tr style=\"text-align: right;\">\n",
       "      <th></th>\n",
       "      <th>lb_stat</th>\n",
       "      <th>lb_pvalue</th>\n",
       "    </tr>\n",
       "  </thead>\n",
       "  <tbody>\n",
       "    <tr>\n",
       "      <th>5</th>\n",
       "      <td>25.889188</td>\n",
       "      <td>0.000094</td>\n",
       "    </tr>\n",
       "  </tbody>\n",
       "</table>\n",
       "</div>"
      ],
      "text/plain": [
       "     lb_stat  lb_pvalue\n",
       "5  25.889188   0.000094"
      ]
     },
     "execution_count": 14,
     "metadata": {},
     "output_type": "execute_result"
    }
   ],
   "source": [
    "#===========================================================================\n",
    "# Ljung-Box test to check whether my time series is a White Noise\n",
    "#===========================================================================\n",
    "#so there is autocorrelations in the residuals\n",
    "\n",
    "n_autocor = 5\n",
    "sm.stats.diagnostic.acorr_ljungbox(True_price_diff, lags=[n_autocor])"
   ]
  },
  {
   "cell_type": "markdown",
   "metadata": {},
   "source": [
    "# ARMA model"
   ]
  },
  {
   "cell_type": "markdown",
   "metadata": {},
   "source": [
    "Now, we try to apply a ARMA process on the time series to account for the serial dependance in our series. "
   ]
  },
  {
   "cell_type": "code",
   "execution_count": 16,
   "metadata": {},
   "outputs": [
    {
     "name": "stdout",
     "output_type": "stream",
     "text": [
      "fitting: ar:0 -d:0 - ma:0\n",
      "fitting: ar:0 -d:0 - ma:1\n",
      "fitting: ar:0 -d:0 - ma:2\n",
      "fitting: ar:0 -d:0 - ma:3\n",
      "fitting: ar:0 -d:0 - ma:4\n",
      "fitting: ar:1 -d:0 - ma:0\n",
      "fitting: ar:1 -d:0 - ma:1\n",
      "fitting: ar:1 -d:0 - ma:2\n",
      "fitting: ar:1 -d:0 - ma:3\n",
      "fitting: ar:1 -d:0 - ma:4\n",
      "fitting: ar:2 -d:0 - ma:0\n",
      "fitting: ar:2 -d:0 - ma:1\n"
     ]
    },
    {
     "name": "stderr",
     "output_type": "stream",
     "text": [
      "c:\\Users\\graci\\anaconda3\\Lib\\site-packages\\statsmodels\\tsa\\statespace\\sarimax.py:966: UserWarning: Non-stationary starting autoregressive parameters found. Using zeros as starting parameters.\n",
      "  warn('Non-stationary starting autoregressive parameters'\n",
      "c:\\Users\\graci\\anaconda3\\Lib\\site-packages\\statsmodels\\tsa\\statespace\\sarimax.py:978: UserWarning: Non-invertible starting MA parameters found. Using zeros as starting parameters.\n",
      "  warn('Non-invertible starting MA parameters found.'\n"
     ]
    },
    {
     "name": "stdout",
     "output_type": "stream",
     "text": [
      "fitting: ar:2 -d:0 - ma:2\n",
      "fitting: ar:2 -d:0 - ma:3\n",
      "fitting: ar:2 -d:0 - ma:4\n"
     ]
    },
    {
     "name": "stderr",
     "output_type": "stream",
     "text": [
      "c:\\Users\\graci\\anaconda3\\Lib\\site-packages\\statsmodels\\base\\model.py:607: ConvergenceWarning: Maximum Likelihood optimization failed to converge. Check mle_retvals\n",
      "  warnings.warn(\"Maximum Likelihood optimization failed to \"\n"
     ]
    },
    {
     "name": "stdout",
     "output_type": "stream",
     "text": [
      "fitting: ar:3 -d:0 - ma:0\n",
      "fitting: ar:3 -d:0 - ma:1\n",
      "fitting: ar:3 -d:0 - ma:2\n"
     ]
    },
    {
     "name": "stderr",
     "output_type": "stream",
     "text": [
      "c:\\Users\\graci\\anaconda3\\Lib\\site-packages\\statsmodels\\tsa\\statespace\\sarimax.py:966: UserWarning: Non-stationary starting autoregressive parameters found. Using zeros as starting parameters.\n",
      "  warn('Non-stationary starting autoregressive parameters'\n"
     ]
    },
    {
     "name": "stdout",
     "output_type": "stream",
     "text": [
      "fitting: ar:3 -d:0 - ma:3\n"
     ]
    },
    {
     "name": "stderr",
     "output_type": "stream",
     "text": [
      "c:\\Users\\graci\\anaconda3\\Lib\\site-packages\\statsmodels\\tsa\\statespace\\sarimax.py:966: UserWarning: Non-stationary starting autoregressive parameters found. Using zeros as starting parameters.\n",
      "  warn('Non-stationary starting autoregressive parameters'\n",
      "c:\\Users\\graci\\anaconda3\\Lib\\site-packages\\statsmodels\\tsa\\statespace\\sarimax.py:978: UserWarning: Non-invertible starting MA parameters found. Using zeros as starting parameters.\n",
      "  warn('Non-invertible starting MA parameters found.'\n"
     ]
    },
    {
     "name": "stdout",
     "output_type": "stream",
     "text": [
      "fitting: ar:3 -d:0 - ma:4\n"
     ]
    },
    {
     "name": "stderr",
     "output_type": "stream",
     "text": [
      "c:\\Users\\graci\\anaconda3\\Lib\\site-packages\\statsmodels\\base\\model.py:607: ConvergenceWarning: Maximum Likelihood optimization failed to converge. Check mle_retvals\n",
      "  warnings.warn(\"Maximum Likelihood optimization failed to \"\n"
     ]
    },
    {
     "name": "stdout",
     "output_type": "stream",
     "text": [
      "fitting: ar:4 -d:0 - ma:0\n",
      "fitting: ar:4 -d:0 - ma:1\n",
      "fitting: ar:4 -d:0 - ma:2\n"
     ]
    },
    {
     "name": "stderr",
     "output_type": "stream",
     "text": [
      "c:\\Users\\graci\\anaconda3\\Lib\\site-packages\\statsmodels\\tsa\\statespace\\sarimax.py:966: UserWarning: Non-stationary starting autoregressive parameters found. Using zeros as starting parameters.\n",
      "  warn('Non-stationary starting autoregressive parameters'\n",
      "c:\\Users\\graci\\anaconda3\\Lib\\site-packages\\statsmodels\\tsa\\statespace\\sarimax.py:978: UserWarning: Non-invertible starting MA parameters found. Using zeros as starting parameters.\n",
      "  warn('Non-invertible starting MA parameters found.'\n",
      "c:\\Users\\graci\\anaconda3\\Lib\\site-packages\\statsmodels\\base\\model.py:607: ConvergenceWarning: Maximum Likelihood optimization failed to converge. Check mle_retvals\n",
      "  warnings.warn(\"Maximum Likelihood optimization failed to \"\n"
     ]
    },
    {
     "name": "stdout",
     "output_type": "stream",
     "text": [
      "fitting: ar:4 -d:0 - ma:3\n"
     ]
    },
    {
     "name": "stderr",
     "output_type": "stream",
     "text": [
      "c:\\Users\\graci\\anaconda3\\Lib\\site-packages\\statsmodels\\tsa\\statespace\\sarimax.py:966: UserWarning: Non-stationary starting autoregressive parameters found. Using zeros as starting parameters.\n",
      "  warn('Non-stationary starting autoregressive parameters'\n",
      "c:\\Users\\graci\\anaconda3\\Lib\\site-packages\\statsmodels\\tsa\\statespace\\sarimax.py:978: UserWarning: Non-invertible starting MA parameters found. Using zeros as starting parameters.\n",
      "  warn('Non-invertible starting MA parameters found.'\n",
      "c:\\Users\\graci\\anaconda3\\Lib\\site-packages\\statsmodels\\base\\model.py:607: ConvergenceWarning: Maximum Likelihood optimization failed to converge. Check mle_retvals\n",
      "  warnings.warn(\"Maximum Likelihood optimization failed to \"\n"
     ]
    },
    {
     "name": "stdout",
     "output_type": "stream",
     "text": [
      "fitting: ar:4 -d:0 - ma:4\n"
     ]
    },
    {
     "name": "stderr",
     "output_type": "stream",
     "text": [
      "c:\\Users\\graci\\anaconda3\\Lib\\site-packages\\statsmodels\\base\\model.py:607: ConvergenceWarning: Maximum Likelihood optimization failed to converge. Check mle_retvals\n",
      "  warnings.warn(\"Maximum Likelihood optimization failed to \"\n"
     ]
    },
    {
     "name": "stdout",
     "output_type": "stream",
     "text": [
      "fitting: ar:5 -d:0 - ma:0\n",
      "fitting: ar:5 -d:0 - ma:1\n",
      "fitting: ar:5 -d:0 - ma:2\n",
      "fitting: ar:5 -d:0 - ma:3\n"
     ]
    },
    {
     "name": "stderr",
     "output_type": "stream",
     "text": [
      "c:\\Users\\graci\\anaconda3\\Lib\\site-packages\\statsmodels\\tsa\\statespace\\sarimax.py:966: UserWarning: Non-stationary starting autoregressive parameters found. Using zeros as starting parameters.\n",
      "  warn('Non-stationary starting autoregressive parameters'\n",
      "c:\\Users\\graci\\anaconda3\\Lib\\site-packages\\statsmodels\\tsa\\statespace\\sarimax.py:978: UserWarning: Non-invertible starting MA parameters found. Using zeros as starting parameters.\n",
      "  warn('Non-invertible starting MA parameters found.'\n",
      "c:\\Users\\graci\\anaconda3\\Lib\\site-packages\\statsmodels\\base\\model.py:607: ConvergenceWarning: Maximum Likelihood optimization failed to converge. Check mle_retvals\n",
      "  warnings.warn(\"Maximum Likelihood optimization failed to \"\n"
     ]
    },
    {
     "name": "stdout",
     "output_type": "stream",
     "text": [
      "fitting: ar:5 -d:0 - ma:4\n"
     ]
    },
    {
     "name": "stderr",
     "output_type": "stream",
     "text": [
      "c:\\Users\\graci\\anaconda3\\Lib\\site-packages\\statsmodels\\base\\model.py:607: ConvergenceWarning: Maximum Likelihood optimization failed to converge. Check mle_retvals\n",
      "  warnings.warn(\"Maximum Likelihood optimization failed to \"\n"
     ]
    },
    {
     "name": "stdout",
     "output_type": "stream",
     "text": [
      "criterion\n",
      "     ar_order  d_order  ma_order        aic        bic\n",
      "0          0        0         0  10.002979  10.012579\n",
      "1          0        0         1   9.998455  10.012855\n",
      "2          0        0         2  10.000230  10.019431\n",
      "3          0        0         3   9.988172  10.012173\n",
      "4          0        0         4   9.989449  10.018250\n",
      "5          1        0         0   9.998863  10.013263\n",
      "6          1        0         1  10.000396  10.019597\n",
      "7          1        0         2   9.981856  10.005857\n",
      "8          1        0         3   9.967564   9.996365\n",
      "9          1        0         4   9.969468  10.003069\n",
      "10         2        0         0   9.999075  10.018275\n",
      "11         2        0         1   9.996041  10.020042\n",
      "12         2        0         2   9.968600   9.997401\n",
      "13         2        0         3   9.968384  10.001986\n",
      "14         2        0         4   9.967232  10.005633\n",
      "15         3        0         0   9.990926  10.014926\n",
      "16         3        0         1   9.971609  10.000410\n",
      "17         3        0         2   9.999372  10.032973\n",
      "18         3        0         3   9.964221  10.002623\n",
      "19         3        0         4   9.932763   9.975964\n",
      "20         4        0         0   9.987524  10.016325\n",
      "21         4        0         1   9.973242  10.006843\n",
      "22         4        0         2   9.971165  10.009567\n",
      "23         4        0         3   9.966133  10.009334\n",
      "24         4        0         4   9.936146   9.984147\n",
      "25         5        0         0   9.981786  10.015387\n",
      "26         5        0         1   9.981884  10.020285\n",
      "27         5        0         2   9.974179  10.017380\n",
      "28         5        0         3   9.954792  10.002794\n",
      "29         5        0         4   9.932883   9.985685\n"
     ]
    }
   ],
   "source": [
    "#===========================================================================\n",
    "# estimate ARMA \n",
    "#===========================================================================\n",
    "ar_order = [0, 1, 2, 3, 4, 5]\n",
    "d_order = [0]\n",
    "ma_order = [0, 1, 2, 3, 4]\n",
    "arma_res = [list(orders) for orders in product(ar_order, d_order, ma_order)]\n",
    "#     pprint.pprint(arma_res)\n",
    "\n",
    "# sm.tsa.arima.model.ARIMA\n",
    "for order in arma_res:\n",
    "    print('fitting: ar:{} -d:{} - ma:{}'.format(*order)) \n",
    "    try:\n",
    "        arma_model = sm.tsa.arima.ARIMA(True_price_diff, order=order).fit()\n",
    "        order.extend([arma_model.aic / 1e3, arma_model.bic / 1e3])\n",
    "    except Exception as exception:\n",
    "        print(exception.__str__())\n",
    "        order.extend([np.NaN, np.NaN])\n",
    "    \n",
    "res = pd.DataFrame(arma_res, columns = ['ar_order', 'd_order', 'ma_order', 'aic', 'bic'])\n",
    "print('criterion\\n', res)"
   ]
  },
  {
   "cell_type": "markdown",
   "metadata": {},
   "source": [
    "By looking at the result, we see that the model that minimzes the BIC is a ARMA(3,4)"
   ]
  },
  {
   "cell_type": "code",
   "execution_count": null,
   "metadata": {},
   "outputs": [
    {
     "name": "stderr",
     "output_type": "stream",
     "text": [
      "c:\\Users\\graci\\anaconda3\\Lib\\site-packages\\statsmodels\\base\\model.py:607: ConvergenceWarning: Maximum Likelihood optimization failed to converge. Check mle_retvals\n",
      "  warnings.warn(\"Maximum Likelihood optimization failed to \"\n"
     ]
    },
    {
     "name": "stdout",
     "output_type": "stream",
     "text": [
      "                               SARIMAX Results                                \n",
      "==============================================================================\n",
      "Dep. Variable:                  Close   No. Observations:                  898\n",
      "Model:                 ARIMA(3, 0, 4)   Log Likelihood               -4957.381\n",
      "Date:                Wed, 01 Jan 2025   AIC                           9932.763\n",
      "Time:                        16:12:34   BIC                           9975.964\n",
      "Sample:                    02-01-1950   HQIC                          9949.268\n",
      "                         - 11-01-2024                                         \n",
      "Covariance Type:                  opg                                         \n",
      "==============================================================================\n",
      "                 coef    std err          z      P>|z|      [0.025      0.975]\n",
      "------------------------------------------------------------------------------\n",
      "const          6.7512     71.555      0.094      0.925    -133.495     146.997\n",
      "ar.L1          0.9897      0.009    108.412      0.000       0.972       1.008\n",
      "ar.L2         -0.9604      0.010    -97.766      0.000      -0.980      -0.941\n",
      "ar.L3          0.9688      0.009    107.996      0.000       0.951       0.986\n",
      "ma.L1         -1.1017      0.017    -65.710      0.000      -1.135      -1.069\n",
      "ma.L2          1.0784      0.020     54.028      0.000       1.039       1.118\n",
      "ma.L3         -0.9898      0.020    -48.709      0.000      -1.030      -0.950\n",
      "ma.L4          0.0542      0.015      3.564      0.000       0.024       0.084\n",
      "sigma2      3884.3432     74.144     52.389      0.000    3739.024    4029.663\n",
      "===================================================================================\n",
      "Ljung-Box (L1) (Q):                   0.01   Jarque-Bera (JB):              7055.36\n",
      "Prob(Q):                              0.90   Prob(JB):                         0.00\n",
      "Heteroskedasticity (H):            1171.54   Skew:                            -0.95\n",
      "Prob(H) (two-sided):                  0.00   Kurtosis:                        16.60\n",
      "===================================================================================\n",
      "\n",
      "Warnings:\n",
      "[1] Covariance matrix calculated using the outer product of gradients (complex-step).\n"
     ]
    },
    {
     "data": {
      "text/plain": [
       "9932.762966552897"
      ]
     },
     "execution_count": 17,
     "metadata": {},
     "output_type": "execute_result"
    }
   ],
   "source": [
    "res = sm.tsa.arima.ARIMA(True_price_diff, order=(3,0,4)).fit()\n",
    "res\n",
    "print(res.summary())\n",
    "res.aic"
   ]
  },
  {
   "cell_type": "markdown",
   "metadata": {},
   "source": [
    "# ARCH test"
   ]
  },
  {
   "cell_type": "markdown",
   "metadata": {},
   "source": [
    "We then run a ARCH test on the squared residuals to check for homoskedacity. The goal here is to make sure that the ARMA model captured all the volatility. However by looking at the result, we see that the residuals are heteroskedastic. "
   ]
  },
  {
   "cell_type": "code",
   "execution_count": 18,
   "metadata": {},
   "outputs": [],
   "source": [
    "residus = res.resid"
   ]
  },
  {
   "cell_type": "code",
   "execution_count": 19,
   "metadata": {},
   "outputs": [
    {
     "data": {
      "text/html": [
       "<div>\n",
       "<style scoped>\n",
       "    .dataframe tbody tr th:only-of-type {\n",
       "        vertical-align: middle;\n",
       "    }\n",
       "\n",
       "    .dataframe tbody tr th {\n",
       "        vertical-align: top;\n",
       "    }\n",
       "\n",
       "    .dataframe thead th {\n",
       "        text-align: right;\n",
       "    }\n",
       "</style>\n",
       "<table border=\"1\" class=\"dataframe\">\n",
       "  <thead>\n",
       "    <tr style=\"text-align: right;\">\n",
       "      <th></th>\n",
       "      <th>lb_stat</th>\n",
       "      <th>lb_pvalue</th>\n",
       "    </tr>\n",
       "  </thead>\n",
       "  <tbody>\n",
       "    <tr>\n",
       "      <th>5</th>\n",
       "      <td>735.103968</td>\n",
       "      <td>1.259838e-156</td>\n",
       "    </tr>\n",
       "  </tbody>\n",
       "</table>\n",
       "</div>"
      ],
      "text/plain": [
       "      lb_stat      lb_pvalue\n",
       "5  735.103968  1.259838e-156"
      ]
     },
     "execution_count": 19,
     "metadata": {},
     "output_type": "execute_result"
    }
   ],
   "source": [
    "#===========================================================================\n",
    "# ARCH tests \n",
    "#===========================================================================\n",
    "\n",
    "n_autocor = 5\n",
    "sm.stats.diagnostic.acorr_ljungbox(residus**2, lags=[n_autocor])\n",
    "#We have heteroskedacity"
   ]
  },
  {
   "cell_type": "markdown",
   "metadata": {},
   "source": [
    "# GARCH model"
   ]
  },
  {
   "cell_type": "markdown",
   "metadata": {},
   "source": [
    "Because of that heteroskedacity, we are going to model a GARCH model to account for the volatility. "
   ]
  },
  {
   "cell_type": "code",
   "execution_count": 20,
   "metadata": {},
   "outputs": [
    {
     "name": "stdout",
     "output_type": "stream",
     "text": [
      "Iteration:      1,   Func. Count:      6,   Neg. LLF: 6207.94484444074\n",
      "Iteration:      2,   Func. Count:     12,   Neg. LLF: 6455.436482509011\n",
      "Iteration:      3,   Func. Count:     20,   Neg. LLF: 4011.848561598202\n",
      "Iteration:      4,   Func. Count:     25,   Neg. LLF: 3990.726819374558\n",
      "Iteration:      5,   Func. Count:     30,   Neg. LLF: 3979.1596378966797\n",
      "Iteration:      6,   Func. Count:     35,   Neg. LLF: 3940.6414822295033\n"
     ]
    },
    {
     "name": "stdout",
     "output_type": "stream",
     "text": [
      "Iteration:      7,   Func. Count:     40,   Neg. LLF: 4068.20913130059\n",
      "Iteration:      8,   Func. Count:     46,   Neg. LLF: 3912.276247406519\n",
      "Iteration:      9,   Func. Count:     51,   Neg. LLF: 4968.098748938582\n",
      "Iteration:     10,   Func. Count:     59,   Neg. LLF: 4802.175849725851\n",
      "Iteration:     11,   Func. Count:     65,   Neg. LLF: 3757.3012273486875\n",
      "Iteration:     12,   Func. Count:     71,   Neg. LLF: 3683.1991030999598\n",
      "Iteration:     13,   Func. Count:     76,   Neg. LLF: 3657.4669700063714\n",
      "Iteration:     14,   Func. Count:     81,   Neg. LLF: 3649.6405529866847\n",
      "Iteration:     15,   Func. Count:     86,   Neg. LLF: 3618.767186547937\n",
      "Iteration:     16,   Func. Count:     91,   Neg. LLF: 3611.24547699794\n",
      "Iteration:     17,   Func. Count:     96,   Neg. LLF: 22644.017692616195\n",
      "Iteration:     18,   Func. Count:    103,   Neg. LLF: 3687.5694343193904\n",
      "Iteration:     19,   Func. Count:    109,   Neg. LLF: 3600.2267661509914\n",
      "Iteration:     20,   Func. Count:    114,   Neg. LLF: 3597.3070393514563\n",
      "Iteration:     21,   Func. Count:    119,   Neg. LLF: 3596.7548768003353\n",
      "Iteration:     22,   Func. Count:    124,   Neg. LLF: 3596.582713349614\n",
      "Iteration:     23,   Func. Count:    129,   Neg. LLF: 3596.5526097390907\n",
      "Iteration:     24,   Func. Count:    134,   Neg. LLF: 3596.551264687677\n",
      "Iteration:     25,   Func. Count:    139,   Neg. LLF: 3596.5512521802293\n",
      "Iteration:     26,   Func. Count:    143,   Neg. LLF: 3596.551242681914\n",
      "Optimization terminated successfully    (Exit mode 0)\n",
      "            Current function value: 3596.5512521802293\n",
      "            Iterations: 26\n",
      "            Function evaluations: 143\n",
      "            Gradient evaluations: 26\n",
      "                     Constant Mean - GARCH Model Results                      \n",
      "==============================================================================\n",
      "Dep. Variable:                   None   R-squared:                       0.000\n",
      "Mean Model:             Constant Mean   Adj. R-squared:                  0.000\n",
      "Vol Model:                      GARCH   Log-Likelihood:               -3596.55\n",
      "Distribution:                  Normal   AIC:                           7201.10\n",
      "Method:            Maximum Likelihood   BIC:                           7220.30\n",
      "                                        No. Observations:                  898\n",
      "Date:                Wed, Jan 01 2025   Df Residuals:                      897\n",
      "Time:                        16:12:34   Df Model:                            1\n",
      "                               Mean Model                               \n",
      "========================================================================\n",
      "                 coef    std err          t      P>|t|  95.0% Conf. Int.\n",
      "------------------------------------------------------------------------\n",
      "mu            -0.5005      0.135     -3.708  2.089e-04 [ -0.765, -0.236]\n",
      "                              Volatility Model                             \n",
      "===========================================================================\n",
      "                 coef    std err          t      P>|t|     95.0% Conf. Int.\n",
      "---------------------------------------------------------------------------\n",
      "omega          0.0851  5.858e-02      1.453      0.146 [-2.968e-02,  0.200]\n",
      "alpha[1]       0.1405  1.511e-02      9.297  1.447e-20    [  0.111,  0.170]\n",
      "beta[1]        0.8595  2.051e-02     41.912      0.000    [  0.819,  0.900]\n",
      "===========================================================================\n",
      "\n",
      "Covariance estimator: robust\n"
     ]
    },
    {
     "data": {
      "image/png": "[encoded data removed]",
      "text/plain": [
       "<Figure size 640x480 with 2 Axes>"
      ]
     },
     "metadata": {},
     "output_type": "display_data"
    }
   ],
   "source": [
    "garch_res = arch_model(residus, p=1, o=0, q=1, dist='normal').fit()\n",
    "print(garch_res.summary())\n",
    "fig = garch_res.plot(annualize='D')"
   ]
  },
  {
   "cell_type": "markdown",
   "metadata": {},
   "source": [
    "# Forecast"
   ]
  },
  {
   "cell_type": "markdown",
   "metadata": {},
   "source": [
    "Now, we are trying to model a HMM-GARCH model to forecast our time series. Indeed, here the goal is to predict stock returns while capturing the volatility. Here, we use stock return to have stationarity in our time series. "
   ]
  },
  {
   "cell_type": "code",
   "execution_count": 21,
   "metadata": {},
   "outputs": [
    {
     "name": "stderr",
     "output_type": "stream",
     "text": [
      "c:\\Users\\graci\\anaconda3\\Lib\\site-packages\\joblib\\externals\\loky\\backend\\context.py:136: UserWarning: Could not find the number of physical cores for the following reason:\n",
      "found 0 physical cores < 1\n",
      "Returning the number of logical cores instead. You can silence this warning by setting LOKY_MAX_CPU_COUNT to the number of cores you want to use.\n",
      "  warnings.warn(\n",
      "  File \"c:\\Users\\graci\\anaconda3\\Lib\\site-packages\\joblib\\externals\\loky\\backend\\context.py\", line 282, in _count_physical_cores\n",
      "    raise ValueError(f\"found {cpu_count_physical} physical cores < 1\")\n",
      "c:\\Users\\graci\\anaconda3\\Lib\\site-packages\\sklearn\\cluster\\_kmeans.py:1446: UserWarning: KMeans is known to have a memory leak on Windows with MKL, when there are less chunks than available threads. You can avoid it by setting the environment variable OMP_NUM_THREADS=4.\n",
      "  warnings.warn(\n"
     ]
    }
   ],
   "source": [
    "# Fit HMM with 6 regimes\n",
    "log_returns = log_returns.values.reshape(-1, 1)\n",
    "\n",
    "hmm_model = GaussianHMM(n_components=6, covariance_type=\"diag\", init_params=\"c\")\n",
    "hmm_model.fit(log_returns)\n",
    "\n",
    "hidden_states = hmm_model.decode(log_returns)[1]"
   ]
  },
  {
   "cell_type": "markdown",
   "metadata": {},
   "source": [
    "When applying a GARCH(1,1) to each of the hidden states, we see that for most of the states the volatility comes from past volatility. This persistance of volatility make our addition of a GARCH component less useful because here the volatility is not due to new shock but past values. For that reason, HMM-GARCH model would be a overkill and not improve the overall performance. "
   ]
  },
  {
   "cell_type": "code",
   "execution_count": 22,
   "metadata": {},
   "outputs": [
    {
     "name": "stdout",
     "output_type": "stream",
     "text": [
      "Fitting GARCH(1,1) for Regime 0...\n",
      "\n",
      "Regime 0 GARCH Summary:\n",
      "                     Constant Mean - GARCH Model Results                      \n",
      "==============================================================================\n",
      "Dep. Variable:                      y   R-squared:                       0.000\n",
      "Mean Model:             Constant Mean   Adj. R-squared:                  0.000\n",
      "Vol Model:                      GARCH   Log-Likelihood:               -1847.38\n",
      "Distribution:                  Normal   AIC:                           3702.75\n",
      "Method:            Maximum Likelihood   BIC:                           3721.06\n",
      "                                        No. Observations:                  719\n",
      "Date:                Wed, Jan 01 2025   Df Residuals:                      718\n",
      "Time:                        16:12:41   Df Model:                            1\n",
      "                               Mean Model                               \n",
      "========================================================================\n",
      "                 coef    std err          t      P>|t|  95.0% Conf. Int.\n",
      "------------------------------------------------------------------------\n",
      "mu             1.0155      0.117      8.680  3.969e-18 [  0.786,  1.245]\n",
      "                               Volatility Model                              \n",
      "=============================================================================\n",
      "                 coef    std err          t      P>|t|       95.0% Conf. Int.\n",
      "-----------------------------------------------------------------------------\n",
      "omega          0.9909      0.466      2.125  3.362e-02    [7.680e-02,  1.905]\n",
      "alpha[1]       0.0309  2.165e-02      1.428      0.153 [-1.151e-02,7.334e-02]\n",
      "beta[1]        0.8703  4.941e-02     17.612  2.008e-69      [  0.773,  0.967]\n",
      "=============================================================================\n",
      "\n",
      "Covariance estimator: robust\n",
      "Fitting GARCH(1,1) for Regime 1...\n",
      "\n",
      "Regime 1 GARCH Summary:\n",
      "                     Constant Mean - GARCH Model Results                      \n",
      "==============================================================================\n",
      "Dep. Variable:                      y   R-squared:                       0.000\n",
      "Mean Model:             Constant Mean   Adj. R-squared:                  0.000\n",
      "Vol Model:                      GARCH   Log-Likelihood:               -35.8688\n",
      "Distribution:                  Normal   AIC:                           79.7377\n",
      "Method:            Maximum Likelihood   BIC:                           81.6773\n",
      "                                        No. Observations:                   12\n",
      "Date:                Wed, Jan 01 2025   Df Residuals:                       11\n",
      "Time:                        16:12:41   Df Model:                            1\n",
      "                               Mean Model                               \n",
      "========================================================================\n",
      "                 coef    std err          t      P>|t|  95.0% Conf. Int.\n",
      "------------------------------------------------------------------------\n",
      "mu            -8.1494      1.409     -5.782  7.370e-09 [-10.912, -5.387]\n",
      "                               Volatility Model                              \n",
      "=============================================================================\n",
      "                 coef    std err          t      P>|t|       95.0% Conf. Int.\n",
      "-----------------------------------------------------------------------------\n",
      "omega         11.5480     10.827      1.067      0.286      [ -9.672, 32.768]\n",
      "alpha[1]       0.0000  3.986e-03      0.000      1.000 [-7.813e-03,7.813e-03]\n",
      "beta[1]        0.5201      0.704      0.738      0.460      [ -0.861,  1.901]\n",
      "=============================================================================\n",
      "\n",
      "Covariance estimator: robust\n",
      "\n",
      "Regime 2 has no data.\n",
      "Fitting GARCH(1,1) for Regime 3...\n",
      "\n",
      "Regime 3 GARCH Summary:\n",
      "                     Constant Mean - GARCH Model Results                      \n",
      "==============================================================================\n",
      "Dep. Variable:                      y   R-squared:                       0.000\n",
      "Mean Model:             Constant Mean   Adj. R-squared:                  0.000\n",
      "Vol Model:                      GARCH   Log-Likelihood:               -40.5574\n",
      "Distribution:                  Normal   AIC:                           89.1147\n",
      "Method:            Maximum Likelihood   BIC:                           91.0543\n",
      "                                        No. Observations:                   12\n",
      "Date:                Wed, Jan 01 2025   Df Residuals:                       11\n",
      "Time:                        16:12:41   Df Model:                            1\n",
      "                               Mean Model                               \n",
      "========================================================================\n",
      "                 coef    std err          t      P>|t|  95.0% Conf. Int.\n",
      "------------------------------------------------------------------------\n",
      "mu            -9.4541      2.069     -4.570  4.874e-06 [-13.509, -5.400]\n",
      "                               Volatility Model                              \n",
      "=============================================================================\n",
      "                 coef    std err          t      P>|t|       95.0% Conf. Int.\n",
      "-----------------------------------------------------------------------------\n",
      "omega         25.2587     74.818      0.338      0.736 [-1.214e+02,1.719e+02]\n",
      "alpha[1]   1.8501e-14      0.211  8.783e-14      1.000      [ -0.413,  0.413]\n",
      "beta[1]        0.5172      1.584      0.327      0.744      [ -2.587,  3.621]\n",
      "=============================================================================\n",
      "\n",
      "Covariance estimator: robust\n",
      "Fitting GARCH(1,1) for Regime 4...\n",
      "\n",
      "Regime 4 GARCH Summary:\n",
      "                     Constant Mean - GARCH Model Results                      \n",
      "==============================================================================\n",
      "Dep. Variable:                      y   R-squared:                       0.000\n",
      "Mean Model:             Constant Mean   Adj. R-squared:                  0.000\n",
      "Vol Model:                      GARCH   Log-Likelihood:               -392.853\n",
      "Distribution:                  Normal   AIC:                           793.706\n",
      "Method:            Maximum Likelihood   BIC:                           805.051\n",
      "                                        No. Observations:                  126\n",
      "Date:                Wed, Jan 01 2025   Df Residuals:                      125\n",
      "Time:                        16:12:41   Df Model:                            1\n",
      "                               Mean Model                               \n",
      "========================================================================\n",
      "                 coef    std err          t      P>|t|  95.0% Conf. Int.\n",
      "------------------------------------------------------------------------\n",
      "mu             0.5761      0.489      1.178      0.239 [ -0.383,  1.535]\n",
      "                               Volatility Model                              \n",
      "=============================================================================\n",
      "                 coef    std err          t      P>|t|       95.0% Conf. Int.\n",
      "-----------------------------------------------------------------------------\n",
      "omega         14.9496     31.802      0.470      0.638      [-47.382, 77.281]\n",
      "alpha[1]   1.7091e-14  9.558e-03  1.788e-12      1.000 [-1.873e-02,1.873e-02]\n",
      "beta[1]        0.5001      1.070      0.467      0.640      [ -1.598,  2.598]\n",
      "=============================================================================\n",
      "\n",
      "Covariance estimator: robust\n",
      "Fitting GARCH(1,1) for Regime 5...\n",
      "\n",
      "Regime 5 GARCH Summary:\n",
      "                     Constant Mean - GARCH Model Results                      \n",
      "==============================================================================\n",
      "Dep. Variable:                      y   R-squared:                       0.000\n",
      "Mean Model:             Constant Mean   Adj. R-squared:                  0.000\n",
      "Vol Model:                      GARCH   Log-Likelihood:               -100.617\n",
      "Distribution:                  Normal   AIC:                           209.234\n",
      "Method:            Maximum Likelihood   BIC:                           214.704\n",
      "                                        No. Observations:                   29\n",
      "Date:                Wed, Jan 01 2025   Df Residuals:                       28\n",
      "Time:                        16:12:41   Df Model:                            1\n",
      "                                Mean Model                               \n",
      "=========================================================================\n",
      "                  coef    std err          t      P>|t|  95.0% Conf. Int.\n",
      "-------------------------------------------------------------------------\n",
      "mu         -1.8708e-04      2.274 -8.226e-05      1.000 [ -4.458,  4.457]\n",
      "                            Volatility Model                            \n",
      "========================================================================\n",
      "                 coef    std err          t      P>|t|  95.0% Conf. Int.\n",
      "------------------------------------------------------------------------\n",
      "omega         26.6760     10.700      2.493  1.266e-02 [  5.705, 47.647]\n",
      "alpha[1]       0.1560      0.351      0.445      0.657 [ -0.532,  0.844]\n",
      "beta[1]        0.4117      0.283      1.455      0.146 [ -0.143,  0.966]\n",
      "========================================================================\n",
      "\n",
      "Covariance estimator: robust\n"
     ]
    }
   ],
   "source": [
    "# Rescale the data\n",
    "log_returns_rescaled = log_returns * 100\n",
    "\n",
    "regimes = {}\n",
    "garch_models = {}\n",
    "\n",
    "# Loop through each hidden state (regime)\n",
    "for i in range(hmm_model.n_components):  # Replace `hmm.n_components` with `hmm_model.n_components` if needed\n",
    "    # Extract regime data\n",
    "    regimes[i] = log_returns_rescaled[hidden_states == i]\n",
    "    \n",
    "    if len(regimes[i]) > 0:  # Check if the regime has data\n",
    "        print(f\"Fitting GARCH(1,1) for Regime {i}...\")\n",
    "        garch_models[i] = arch_model(regimes[i], vol='Garch', p=1, q=1).fit(disp=\"off\")\n",
    "        print(f\"\\nRegime {i} GARCH Summary:\")\n",
    "        print(garch_models[i].summary())\n",
    "    else:\n",
    "        print(f\"\\nRegime {i} has no data.\")"
   ]
  }
 ],
 "metadata": {
  "kernelspec": {
   "display_name": "base",
   "language": "python",
   "name": "python3"
  },
  "language_info": {
   "codemirror_mode": {
    "name": "ipython",
    "version": 3
   },
   "file_extension": ".py",
   "mimetype": "text/x-python",
   "name": "python",
   "nbconvert_exporter": "python",
   "pygments_lexer": "ipython3",
   "version": "3.12.4"
  }
 },
 "nbformat": 4,
 "nbformat_minor": 4
}
