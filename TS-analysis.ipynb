{
 "cells": [
  {
   "cell_type": "code",
   "execution_count": 1,
   "metadata": {},
   "outputs": [],
   "source": [
    "#!pip install yfinance\n",
    "#!pip install hmmlearn\n",
    "#pip install arch\n",
    "#pip install scipy\n",
    "#pip install --upgrade --user hmmlearn\n",
    "#pip install --user git+https://github.com/hmmlearn/hmmlearn\n",
    "from sklearn.mixture import GaussianMixture\n",
    "import yfinance as yf\n",
    "import numpy as np\n",
    "from numpy import random\n",
    "import pandas as pd\n",
    "from sklearn.metrics import mean_squared_error, root_mean_squared_error, r2_score \n",
    "from hmmlearn import hmm\n",
    "from hmmlearn.hmm import GaussianHMM \n",
    "import matplotlib.pyplot as plt\n",
    "import statsmodels.api as sm\n",
    "from scipy.stats import chi2, t, norm\n",
    "import datetime as dt\n",
    "from datetime import datetime\n",
    "from itertools import product\n",
    "from arch import arch_model"
   ]
  },
  {
   "cell_type": "markdown",
   "metadata": {},
   "source": [
    "# Data collection"
   ]
  },
  {
   "cell_type": "code",
   "execution_count": 2,
   "metadata": {},
   "outputs": [
    {
     "name": "stdout",
     "output_type": "stream",
     "text": [
      "[*********************100%%**********************]  1 of 1 completed\n"
     ]
    },
    {
     "name": "stderr",
     "output_type": "stream",
     "text": [
      "c:\\Users\\graci\\anaconda3\\Lib\\site-packages\\yfinance\\utils.py:771: FutureWarning: The 'unit' keyword in TimedeltaIndex construction is deprecated and will be removed in a future version. Use pd.to_timedelta instead.\n",
      "  df.index += _pd.TimedeltaIndex(dst_error_hours, 'h')\n"
     ]
    }
   ],
   "source": [
    "ticker = \"^GSPC\"  #S&P 500 index symbol\n",
    "daily = yf.download(ticker, start=\"1950-01-01\", end=\"2024-11-30\", interval=\"1d\")\n",
    "#daily.loc[(daily['Open'] == 0) & (daily.index >= '1961-12-29') & (daily.index <= '1982-04-20'), 'Open'] = np.nan\n",
    "#Before 29th Dec 1961, same values in the row\n",
    "#Between 29th Dec 1961 and 20th April 1982, \"Open\" set to 0\n",
    "\n",
    "daily = daily[daily.columns[0:4]]"
   ]
  },
  {
   "cell_type": "code",
   "execution_count": 3,
   "metadata": {},
   "outputs": [],
   "source": [
    "# Resample the data to monthly frequency\n",
    "monthly = daily.resample('MS').agg({'Open': 'first','High': 'max','Low': 'min','Close': 'last'})\n",
    "monthly = monthly.dropna()\n",
    "monthly_with_dates = monthly\n",
    "\n",
    "# Reset the index to have 'Date' as a column\n",
    "monthly = monthly.reset_index()\n",
    "\n",
    "#calculate log returns\n",
    "log_returns = np.log(monthly_with_dates['Close'] / monthly_with_dates['Close'].shift(1)).dropna()\n"
   ]
  },
  {
   "cell_type": "code",
   "execution_count": 4,
   "metadata": {},
   "outputs": [
    {
     "data": {
      "text/plain": [
       "<Axes: >"
      ]
     },
     "execution_count": 4,
     "metadata": {},
     "output_type": "execute_result"
    },
    {
     "data": {
      "image/png": "[encoded data removed]",
      "text/plain": [
       "<Figure size 640x480 with 1 Axes>"
      ]
     },
     "metadata": {},
     "output_type": "display_data"
    }
   ],
   "source": [
    "monthly['Close'].plot()"
   ]
  },
  {
   "cell_type": "markdown",
   "metadata": {},
   "source": [
    "# ADF Test"
   ]
  },
  {
   "cell_type": "markdown",
   "metadata": {},
   "source": [
    "We run a Dickey-Fuller test to test for the stationnarity of our time series. Our result shows that the time series is not stationary which means that the stastiscal properties are not constant over time. This non stationarity leads to several issues such as"
   ]
  },
  {
   "cell_type": "code",
   "execution_count": 5,
   "metadata": {},
   "outputs": [
    {
     "name": "stdout",
     "output_type": "stream",
     "text": [
      "(899,)\n"
     ]
    }
   ],
   "source": [
    "True_price = monthly_with_dates['Close']\n",
    "print(True_price.shape)"
   ]
  },
  {
   "cell_type": "code",
   "execution_count": 6,
   "metadata": {},
   "outputs": [
    {
     "data": {
      "text/plain": [
       "Date\n",
       "1950-01-01      17.049999\n",
       "1950-02-01      17.219999\n",
       "1950-03-01      17.290001\n",
       "1950-04-01      17.959999\n",
       "1950-05-01      18.780001\n",
       "                 ...     \n",
       "2024-07-01    5522.299805\n",
       "2024-08-01    5648.399902\n",
       "2024-09-01    5762.479980\n",
       "2024-10-01    5705.450195\n",
       "2024-11-01    6032.379883\n",
       "Freq: MS, Name: Close, Length: 899, dtype: float64"
      ]
     },
     "execution_count": 6,
     "metadata": {},
     "output_type": "execute_result"
    }
   ],
   "source": [
    "True_price"
   ]
  },
  {
   "cell_type": "code",
   "execution_count": 7,
   "metadata": {},
   "outputs": [
    {
     "data": {
      "text/plain": [
       "(5.530603168749355,\n",
       " 1.0,\n",
       " {'1%': -2.5682738268565344,\n",
       "  '5%': -1.941308107020567,\n",
       "  '10%': -1.616522983799078},\n",
       " <statsmodels.stats.diagnostic.ResultsStore at 0x288a3500ad0>)"
      ]
     },
     "execution_count": 7,
     "metadata": {},
     "output_type": "execute_result"
    }
   ],
   "source": [
    "sm.tsa.stattools.adfuller(True_price, regression='n', autolag='BIC', store=False, regresults=True)"
   ]
  },
  {
   "cell_type": "code",
   "execution_count": 8,
   "metadata": {},
   "outputs": [
    {
     "data": {
      "text/plain": [
       "(4.977697371218509,\n",
       " 1.0,\n",
       " {'1%': -3.4377689935918783,\n",
       "  '5%': -2.864815046188292,\n",
       "  '10%': -2.5685138660653957},\n",
       " <statsmodels.stats.diagnostic.ResultsStore at 0x288a268c6e0>)"
      ]
     },
     "execution_count": 8,
     "metadata": {},
     "output_type": "execute_result"
    }
   ],
   "source": [
    "sm.tsa.stattools.adfuller(True_price, regression='c', autolag='BIC', store=False, regresults=True)"
   ]
  },
  {
   "cell_type": "code",
   "execution_count": 9,
   "metadata": {},
   "outputs": [
    {
     "data": {
      "text/plain": [
       "(3.531259545130856,\n",
       " 1.0,\n",
       " {'1%': -3.969047635796577,\n",
       "  '5%': -3.415468144550754,\n",
       "  '10%': -3.1299799419503365},\n",
       " <statsmodels.stats.diagnostic.ResultsStore at 0x288a3cd0c50>)"
      ]
     },
     "execution_count": 9,
     "metadata": {},
     "output_type": "execute_result"
    }
   ],
   "source": [
    "sm.tsa.stattools.adfuller(True_price, regression='ct', autolag='BIC', store=False, regresults=True)\n",
    "#we cannot reject H0 which means that the TS is non-stationary"
   ]
  },
  {
   "cell_type": "markdown",
   "metadata": {},
   "source": [
    "To overcome this issues, we transform the time series into a stationary one by differenciating each price by one lag. Now, when we run the ADF test, the null hypothesis is rejected i.e the time series is stationary."
   ]
  },
  {
   "cell_type": "code",
   "execution_count": 10,
   "metadata": {},
   "outputs": [],
   "source": [
    "True_price_diff = True_price.diff().dropna()  #we differenciate the TS to make it stationnary\n"
   ]
  },
  {
   "cell_type": "code",
   "execution_count": 11,
   "metadata": {},
   "outputs": [
    {
     "data": {
      "text/plain": [
       "(-28.616501729290714,\n",
       " 0.0,\n",
       " {'1%': -2.568237038437303,\n",
       "  '5%': -1.9413035814808812,\n",
       "  '10%': -1.6165272398189963},\n",
       " <statsmodels.stats.diagnostic.ResultsStore at 0x288a3ce9a30>)"
      ]
     },
     "execution_count": 11,
     "metadata": {},
     "output_type": "execute_result"
    }
   ],
   "source": [
    "sm.tsa.stattools.adfuller(log_returns, regression='n', autolag='BIC', store=False, regresults=True)\n",
    "#now it is stationary"
   ]
  },
  {
   "cell_type": "code",
   "execution_count": 12,
   "metadata": {},
   "outputs": [
    {
     "data": {
      "text/plain": [
       "(-29.267104023207594,\n",
       " 0.0,\n",
       " {'1%': -3.4376611618861697,\n",
       "  '5%': -2.864767502722044,\n",
       "  '10%': -2.5684885413039127},\n",
       " <statsmodels.stats.diagnostic.ResultsStore at 0x288a3500b30>)"
      ]
     },
     "execution_count": 12,
     "metadata": {},
     "output_type": "execute_result"
    }
   ],
   "source": [
    "sm.tsa.stattools.adfuller(log_returns, regression='c', autolag='BIC', store=False, regresults=True)"
   ]
  },
  {
   "cell_type": "code",
   "execution_count": 13,
   "metadata": {},
   "outputs": [
    {
     "data": {
      "text/plain": [
       "(-29.251762809578736,\n",
       " 0.0,\n",
       " {'1%': -3.9688981594658315,\n",
       "  '5%': -3.415395830514162,\n",
       "  '10%': -3.129937406367357},\n",
       " <statsmodels.stats.diagnostic.ResultsStore at 0x288a260b440>)"
      ]
     },
     "execution_count": 13,
     "metadata": {},
     "output_type": "execute_result"
    }
   ],
   "source": [
    "sm.tsa.stattools.adfuller(log_returns, regression='ct', autolag='BIC', store=False, regresults=True)"
   ]
  },
  {
   "cell_type": "markdown",
   "metadata": {},
   "source": [
    "# Ljung box test"
   ]
  },
  {
   "cell_type": "markdown",
   "metadata": {},
   "source": [
    "Now that we have a stationnary time series, we want to check for autocorrelation in the white noise. In other words, we want to see if the white have serial dependance. By looking at the result of the Ljung-Box test we see that indeed there is autocorelation in the white noise."
   ]
  },
  {
   "cell_type": "code",
   "execution_count": null,
   "metadata": {},
   "outputs": [
    {
     "data": {
      "text/html": [
       "<div>\n",
       "<style scoped>\n",
       "    .dataframe tbody tr th:only-of-type {\n",
       "        vertical-align: middle;\n",
       "    }\n",
       "\n",
       "    .dataframe tbody tr th {\n",
       "        vertical-align: top;\n",
       "    }\n",
       "\n",
       "    .dataframe thead th {\n",
       "        text-align: right;\n",
       "    }\n",
       "</style>\n",
       "<table border=\"1\" class=\"dataframe\">\n",
       "  <thead>\n",
       "    <tr style=\"text-align: right;\">\n",
       "      <th></th>\n",
       "      <th>lb_stat</th>\n",
       "      <th>lb_pvalue</th>\n",
       "    </tr>\n",
       "  </thead>\n",
       "  <tbody>\n",
       "    <tr>\n",
       "      <th>5</th>\n",
       "      <td>10.062774</td>\n",
       "      <td>0.073476</td>\n",
       "    </tr>\n",
       "  </tbody>\n",
       "</table>\n",
       "</div>"
      ],
      "text/plain": [
       "     lb_stat  lb_pvalue\n",
       "5  10.062774   0.073476"
      ]
     },
     "execution_count": 14,
     "metadata": {},
     "output_type": "execute_result"
    }
   ],
   "source": [
    "#===========================================================================\n",
    "# Ljung-Box test to check whether my time series is a White Noise\n",
    "#===========================================================================\n",
    "#so there is autocorrelations in the residuals (we reject H0 at 10%)\n",
    "\n",
    "n_autocor = 5\n",
    "sm.stats.diagnostic.acorr_ljungbox(log_returns, lags=[n_autocor])"
   ]
  },
  {
   "cell_type": "markdown",
   "metadata": {},
   "source": [
    "# ARMA model"
   ]
  },
  {
   "cell_type": "markdown",
   "metadata": {},
   "source": [
    "Now, we try to apply a ARMA process on the time series to account for the serial dependance in our series. "
   ]
  },
  {
   "cell_type": "code",
   "execution_count": 15,
   "metadata": {},
   "outputs": [
    {
     "name": "stdout",
     "output_type": "stream",
     "text": [
      "fitting: ar:0 -d:0 - ma:0\n",
      "fitting: ar:0 -d:0 - ma:1\n",
      "fitting: ar:0 -d:0 - ma:2\n",
      "fitting: ar:0 -d:0 - ma:3\n",
      "fitting: ar:0 -d:0 - ma:4\n",
      "fitting: ar:1 -d:0 - ma:0\n",
      "fitting: ar:1 -d:0 - ma:1\n"
     ]
    },
    {
     "name": "stderr",
     "output_type": "stream",
     "text": [
      "c:\\Users\\graci\\anaconda3\\Lib\\site-packages\\statsmodels\\tsa\\statespace\\sarimax.py:966: UserWarning: Non-stationary starting autoregressive parameters found. Using zeros as starting parameters.\n",
      "  warn('Non-stationary starting autoregressive parameters'\n",
      "c:\\Users\\graci\\anaconda3\\Lib\\site-packages\\statsmodels\\tsa\\statespace\\sarimax.py:978: UserWarning: Non-invertible starting MA parameters found. Using zeros as starting parameters.\n",
      "  warn('Non-invertible starting MA parameters found.'\n"
     ]
    },
    {
     "name": "stdout",
     "output_type": "stream",
     "text": [
      "fitting: ar:1 -d:0 - ma:2\n",
      "fitting: ar:1 -d:0 - ma:3\n",
      "fitting: ar:1 -d:0 - ma:4\n",
      "fitting: ar:2 -d:0 - ma:0\n",
      "fitting: ar:2 -d:0 - ma:1\n",
      "fitting: ar:2 -d:0 - ma:2\n",
      "fitting: ar:2 -d:0 - ma:3\n",
      "fitting: ar:2 -d:0 - ma:4\n"
     ]
    },
    {
     "name": "stderr",
     "output_type": "stream",
     "text": [
      "c:\\Users\\graci\\anaconda3\\Lib\\site-packages\\statsmodels\\base\\model.py:607: ConvergenceWarning: Maximum Likelihood optimization failed to converge. Check mle_retvals\n",
      "  warnings.warn(\"Maximum Likelihood optimization failed to \"\n"
     ]
    },
    {
     "name": "stdout",
     "output_type": "stream",
     "text": [
      "fitting: ar:3 -d:0 - ma:0\n",
      "fitting: ar:3 -d:0 - ma:1\n",
      "fitting: ar:3 -d:0 - ma:2\n"
     ]
    },
    {
     "name": "stderr",
     "output_type": "stream",
     "text": [
      "c:\\Users\\graci\\anaconda3\\Lib\\site-packages\\statsmodels\\tsa\\statespace\\sarimax.py:966: UserWarning: Non-stationary starting autoregressive parameters found. Using zeros as starting parameters.\n",
      "  warn('Non-stationary starting autoregressive parameters'\n",
      "c:\\Users\\graci\\anaconda3\\Lib\\site-packages\\statsmodels\\tsa\\statespace\\sarimax.py:978: UserWarning: Non-invertible starting MA parameters found. Using zeros as starting parameters.\n",
      "  warn('Non-invertible starting MA parameters found.'\n",
      "c:\\Users\\graci\\anaconda3\\Lib\\site-packages\\statsmodels\\base\\model.py:607: ConvergenceWarning: Maximum Likelihood optimization failed to converge. Check mle_retvals\n",
      "  warnings.warn(\"Maximum Likelihood optimization failed to \"\n"
     ]
    },
    {
     "name": "stdout",
     "output_type": "stream",
     "text": [
      "fitting: ar:3 -d:0 - ma:3\n"
     ]
    },
    {
     "name": "stderr",
     "output_type": "stream",
     "text": [
      "c:\\Users\\graci\\anaconda3\\Lib\\site-packages\\statsmodels\\base\\model.py:607: ConvergenceWarning: Maximum Likelihood optimization failed to converge. Check mle_retvals\n",
      "  warnings.warn(\"Maximum Likelihood optimization failed to \"\n"
     ]
    },
    {
     "name": "stdout",
     "output_type": "stream",
     "text": [
      "fitting: ar:3 -d:0 - ma:4\n"
     ]
    },
    {
     "name": "stderr",
     "output_type": "stream",
     "text": [
      "c:\\Users\\graci\\anaconda3\\Lib\\site-packages\\statsmodels\\base\\model.py:607: ConvergenceWarning: Maximum Likelihood optimization failed to converge. Check mle_retvals\n",
      "  warnings.warn(\"Maximum Likelihood optimization failed to \"\n"
     ]
    },
    {
     "name": "stdout",
     "output_type": "stream",
     "text": [
      "fitting: ar:4 -d:0 - ma:0\n",
      "fitting: ar:4 -d:0 - ma:1\n",
      "fitting: ar:4 -d:0 - ma:2\n"
     ]
    },
    {
     "name": "stderr",
     "output_type": "stream",
     "text": [
      "c:\\Users\\graci\\anaconda3\\Lib\\site-packages\\statsmodels\\tsa\\statespace\\sarimax.py:966: UserWarning: Non-stationary starting autoregressive parameters found. Using zeros as starting parameters.\n",
      "  warn('Non-stationary starting autoregressive parameters'\n",
      "c:\\Users\\graci\\anaconda3\\Lib\\site-packages\\statsmodels\\tsa\\statespace\\sarimax.py:978: UserWarning: Non-invertible starting MA parameters found. Using zeros as starting parameters.\n",
      "  warn('Non-invertible starting MA parameters found.'\n"
     ]
    },
    {
     "name": "stdout",
     "output_type": "stream",
     "text": [
      "fitting: ar:4 -d:0 - ma:3\n"
     ]
    },
    {
     "name": "stderr",
     "output_type": "stream",
     "text": [
      "c:\\Users\\graci\\anaconda3\\Lib\\site-packages\\statsmodels\\base\\model.py:607: ConvergenceWarning: Maximum Likelihood optimization failed to converge. Check mle_retvals\n",
      "  warnings.warn(\"Maximum Likelihood optimization failed to \"\n"
     ]
    },
    {
     "name": "stdout",
     "output_type": "stream",
     "text": [
      "fitting: ar:4 -d:0 - ma:4\n"
     ]
    },
    {
     "name": "stderr",
     "output_type": "stream",
     "text": [
      "c:\\Users\\graci\\anaconda3\\Lib\\site-packages\\statsmodels\\base\\model.py:607: ConvergenceWarning: Maximum Likelihood optimization failed to converge. Check mle_retvals\n",
      "  warnings.warn(\"Maximum Likelihood optimization failed to \"\n"
     ]
    },
    {
     "name": "stdout",
     "output_type": "stream",
     "text": [
      "fitting: ar:5 -d:0 - ma:0\n",
      "fitting: ar:5 -d:0 - ma:1\n"
     ]
    },
    {
     "name": "stderr",
     "output_type": "stream",
     "text": [
      "c:\\Users\\graci\\anaconda3\\Lib\\site-packages\\statsmodels\\base\\model.py:607: ConvergenceWarning: Maximum Likelihood optimization failed to converge. Check mle_retvals\n",
      "  warnings.warn(\"Maximum Likelihood optimization failed to \"\n",
      "c:\\Users\\graci\\anaconda3\\Lib\\site-packages\\statsmodels\\tsa\\statespace\\sarimax.py:966: UserWarning: Non-stationary starting autoregressive parameters found. Using zeros as starting parameters.\n",
      "  warn('Non-stationary starting autoregressive parameters'\n",
      "c:\\Users\\graci\\anaconda3\\Lib\\site-packages\\statsmodels\\tsa\\statespace\\sarimax.py:978: UserWarning: Non-invertible starting MA parameters found. Using zeros as starting parameters.\n",
      "  warn('Non-invertible starting MA parameters found.'\n"
     ]
    },
    {
     "name": "stdout",
     "output_type": "stream",
     "text": [
      "fitting: ar:5 -d:0 - ma:2\n"
     ]
    },
    {
     "name": "stderr",
     "output_type": "stream",
     "text": [
      "c:\\Users\\graci\\anaconda3\\Lib\\site-packages\\statsmodels\\base\\model.py:607: ConvergenceWarning: Maximum Likelihood optimization failed to converge. Check mle_retvals\n",
      "  warnings.warn(\"Maximum Likelihood optimization failed to \"\n"
     ]
    },
    {
     "name": "stdout",
     "output_type": "stream",
     "text": [
      "fitting: ar:5 -d:0 - ma:3\n",
      "fitting: ar:5 -d:0 - ma:4\n",
      "criterion\n",
      "     ar_order  d_order  ma_order       aic       bic\n",
      "0          0        0         0 -3.136762 -3.127161\n",
      "1          0        0         1 -3.135210 -3.120810\n",
      "2          0        0         2 -3.135619 -3.116418\n",
      "3          0        0         3 -3.135836 -3.111835\n",
      "4          0        0         4 -3.134473 -3.105672\n",
      "5          1        0         0 -3.135164 -3.120763\n",
      "6          1        0         1 -3.137798 -3.118597\n",
      "7          1        0         2 -3.136458 -3.112458\n",
      "8          1        0         3 -3.133593 -3.104792\n",
      "9          1        0         4 -3.131835 -3.098234\n",
      "10         2        0         0 -3.135559 -3.116359\n",
      "11         2        0         1 -3.136374 -3.112373\n",
      "12         2        0         2 -3.133815 -3.105014\n",
      "13         2        0         3 -3.133422 -3.099821\n",
      "14         2        0         4 -3.132634 -3.094232\n",
      "15         3        0         0 -3.135179 -3.111178\n",
      "16         3        0         1 -3.133144 -3.104343\n",
      "17         3        0         2 -3.132899 -3.099298\n",
      "18         3        0         3 -3.133906 -3.095505\n",
      "19         3        0         4 -3.132933 -3.089732\n",
      "20         4        0         0 -3.134150 -3.105349\n",
      "21         4        0         1 -3.132094 -3.098492\n",
      "22         4        0         2 -3.130161 -3.091760\n",
      "23         4        0         3 -3.132977 -3.089775\n",
      "24         4        0         4 -3.130262 -3.082260\n",
      "25         5        0         0 -3.137109 -3.103508\n",
      "26         5        0         1 -3.138025 -3.099623\n",
      "27         5        0         2 -3.133815 -3.090613\n",
      "28         5        0         3 -3.135462 -3.087460\n",
      "29         5        0         4 -3.133662 -3.080860\n"
     ]
    },
    {
     "name": "stderr",
     "output_type": "stream",
     "text": [
      "c:\\Users\\graci\\anaconda3\\Lib\\site-packages\\statsmodels\\base\\model.py:607: ConvergenceWarning: Maximum Likelihood optimization failed to converge. Check mle_retvals\n",
      "  warnings.warn(\"Maximum Likelihood optimization failed to \"\n"
     ]
    }
   ],
   "source": [
    "#===========================================================================\n",
    "# estimate ARMA \n",
    "#===========================================================================\n",
    "ar_order = [0, 1, 2, 3, 4, 5]\n",
    "d_order = [0]\n",
    "ma_order = [0, 1, 2, 3, 4]\n",
    "arma_res = [list(orders) for orders in product(ar_order, d_order, ma_order)]\n",
    "#     pprint.pprint(arma_res)\n",
    "\n",
    "# sm.tsa.arima.model.ARIMA\n",
    "for order in arma_res:\n",
    "    print('fitting: ar:{} -d:{} - ma:{}'.format(*order)) \n",
    "    try:\n",
    "        arma_model = sm.tsa.arima.ARIMA(log_returns, order=order).fit()\n",
    "        order.extend([arma_model.aic / 1e3, arma_model.bic / 1e3])\n",
    "    except Exception as exception:\n",
    "        print(exception.__str__())\n",
    "        order.extend([np.NaN, np.NaN])\n",
    "    \n",
    "res = pd.DataFrame(arma_res, columns = ['ar_order', 'd_order', 'ma_order', 'aic', 'bic'])\n",
    "print('criterion\\n', res)"
   ]
  },
  {
   "cell_type": "markdown",
   "metadata": {},
   "source": [
    "By looking at the result, we see that the model that minimzes the BIC is a ARMA(3,4)"
   ]
  },
  {
   "cell_type": "code",
   "execution_count": 16,
   "metadata": {},
   "outputs": [
    {
     "name": "stderr",
     "output_type": "stream",
     "text": [
      "c:\\Users\\graci\\anaconda3\\Lib\\site-packages\\statsmodels\\base\\model.py:607: ConvergenceWarning: Maximum Likelihood optimization failed to converge. Check mle_retvals\n",
      "  warnings.warn(\"Maximum Likelihood optimization failed to \"\n"
     ]
    },
    {
     "name": "stdout",
     "output_type": "stream",
     "text": [
      "                               SARIMAX Results                                \n",
      "==============================================================================\n",
      "Dep. Variable:                  Close   No. Observations:                  898\n",
      "Model:                 ARIMA(3, 0, 4)   Log Likelihood                1575.467\n",
      "Date:                Wed, 01 Jan 2025   AIC                          -3132.933\n",
      "Time:                        21:04:08   BIC                          -3089.732\n",
      "Sample:                    02-01-1950   HQIC                         -3116.428\n",
      "                         - 11-01-2024                                         \n",
      "Covariance Type:                  opg                                         \n",
      "==============================================================================\n",
      "                 coef    std err          z      P>|z|      [0.025      0.975]\n",
      "------------------------------------------------------------------------------\n",
      "const          0.0066      0.002      3.980      0.000       0.003       0.010\n",
      "ar.L1         -0.0207      0.385     -0.054      0.957      -0.775       0.733\n",
      "ar.L2          0.2361      0.281      0.842      0.400      -0.314       0.786\n",
      "ar.L3         -0.4820      0.296     -1.629      0.103      -1.062       0.098\n",
      "ma.L1          0.0492      0.384      0.128      0.898      -0.704       0.803\n",
      "ma.L2         -0.2920      0.275     -1.064      0.287      -0.830       0.246\n",
      "ma.L3          0.5251      0.305      1.719      0.086      -0.073       1.124\n",
      "ma.L4          0.0588      0.044      1.337      0.181      -0.027       0.145\n",
      "sigma2         0.0018   6.25e-05     28.231      0.000       0.002       0.002\n",
      "===================================================================================\n",
      "Ljung-Box (L1) (Q):                   0.03   Jarque-Bera (JB):               224.37\n",
      "Prob(Q):                              0.87   Prob(JB):                         0.00\n",
      "Heteroskedasticity (H):               1.36   Skew:                            -0.61\n",
      "Prob(H) (two-sided):                  0.01   Kurtosis:                         5.12\n",
      "===================================================================================\n",
      "\n",
      "Warnings:\n",
      "[1] Covariance matrix calculated using the outer product of gradients (complex-step).\n"
     ]
    },
    {
     "data": {
      "text/plain": [
       "-3132.9333014209674"
      ]
     },
     "execution_count": 16,
     "metadata": {},
     "output_type": "execute_result"
    }
   ],
   "source": [
    "res = sm.tsa.arima.ARIMA(log_returns, order=(3,0,4)).fit()\n",
    "res\n",
    "print(res.summary())\n",
    "res.aic"
   ]
  },
  {
   "cell_type": "markdown",
   "metadata": {},
   "source": [
    "# ARCH test"
   ]
  },
  {
   "cell_type": "markdown",
   "metadata": {},
   "source": [
    "We then run a ARCH test on the squared residuals to check for homoskedacity. The goal here is to make sure that the ARMA model captured all the volatility. However by looking at the result, we see that the residuals are heteroskedastic. "
   ]
  },
  {
   "cell_type": "code",
   "execution_count": 17,
   "metadata": {},
   "outputs": [],
   "source": [
    "residus = res.resid"
   ]
  },
  {
   "cell_type": "code",
   "execution_count": 18,
   "metadata": {},
   "outputs": [
    {
     "data": {
      "text/html": [
       "<div>\n",
       "<style scoped>\n",
       "    .dataframe tbody tr th:only-of-type {\n",
       "        vertical-align: middle;\n",
       "    }\n",
       "\n",
       "    .dataframe tbody tr th {\n",
       "        vertical-align: top;\n",
       "    }\n",
       "\n",
       "    .dataframe thead th {\n",
       "        text-align: right;\n",
       "    }\n",
       "</style>\n",
       "<table border=\"1\" class=\"dataframe\">\n",
       "  <thead>\n",
       "    <tr style=\"text-align: right;\">\n",
       "      <th></th>\n",
       "      <th>lb_stat</th>\n",
       "      <th>lb_pvalue</th>\n",
       "    </tr>\n",
       "  </thead>\n",
       "  <tbody>\n",
       "    <tr>\n",
       "      <th>5</th>\n",
       "      <td>51.575974</td>\n",
       "      <td>6.590490e-10</td>\n",
       "    </tr>\n",
       "  </tbody>\n",
       "</table>\n",
       "</div>"
      ],
      "text/plain": [
       "     lb_stat     lb_pvalue\n",
       "5  51.575974  6.590490e-10"
      ]
     },
     "execution_count": 18,
     "metadata": {},
     "output_type": "execute_result"
    }
   ],
   "source": [
    "#===========================================================================\n",
    "# ARCH tests \n",
    "#===========================================================================\n",
    "\n",
    "n_autocor = 5\n",
    "sm.stats.diagnostic.acorr_ljungbox(residus**2, lags=[n_autocor])\n",
    "#We have heteroskedacity"
   ]
  },
  {
   "cell_type": "markdown",
   "metadata": {},
   "source": [
    "# GARCH model"
   ]
  },
  {
   "cell_type": "markdown",
   "metadata": {},
   "source": [
    "Because of that heteroskedacity, we are going to model a GARCH model to account for the volatility. "
   ]
  },
  {
   "cell_type": "code",
   "execution_count": 19,
   "metadata": {},
   "outputs": [
    {
     "name": "stdout",
     "output_type": "stream",
     "text": [
      "Iteration:      1,   Func. Count:      6,   Neg. LLF: 2804885.2309324397\n",
      "Iteration:      2,   Func. Count:     17,   Neg. LLF: 857512.4515784662\n",
      "Iteration:      3,   Func. Count:     24,   Neg. LLF: -1534.0900603150517\n"
     ]
    },
    {
     "name": "stderr",
     "output_type": "stream",
     "text": [
      "c:\\Users\\graci\\anaconda3\\Lib\\site-packages\\arch\\univariate\\base.py:309: DataScaleWarning: y is poorly scaled, which may affect convergence of the optimizer when\n",
      "estimating the model parameters. The scale of y is 0.001752. Parameter\n",
      "estimation work better when this value is between 1 and 1000. The recommended\n",
      "rescaling is 10 * y.\n",
      "\n",
      "This warning can be disabled by either rescaling y before initializing the\n",
      "model or by setting rescale=False.\n",
      "\n",
      "  warnings.warn(\n"
     ]
    },
    {
     "name": "stdout",
     "output_type": "stream",
     "text": [
      "Iteration:      4,   Func. Count:     32,   Neg. LLF: -1444.9848104271243\n",
      "Iteration:      5,   Func. Count:     38,   Neg. LLF: -1600.940174060424\n",
      "Iteration:      6,   Func. Count:     44,   Neg. LLF: -1585.538349921241\n",
      "Iteration:      7,   Func. Count:     50,   Neg. LLF: -1598.02236274054\n",
      "Iteration:      8,   Func. Count:     56,   Neg. LLF: -1607.7977376967328\n",
      "Iteration:      9,   Func. Count:     62,   Neg. LLF: -1605.991224054931\n",
      "Iteration:     10,   Func. Count:     68,   Neg. LLF: -1608.2486685954425\n",
      "Iteration:     11,   Func. Count:     74,   Neg. LLF: -1608.2508256532014\n",
      "Iteration:     12,   Func. Count:     79,   Neg. LLF: -1608.2508484333364\n",
      "Iteration:     13,   Func. Count:     84,   Neg. LLF: -1608.2508503028769\n",
      "Iteration:     14,   Func. Count:     88,   Neg. LLF: -1608.2508503030417\n",
      "Optimization terminated successfully    (Exit mode 0)\n",
      "            Current function value: -1608.2508503028769\n",
      "            Iterations: 14\n",
      "            Function evaluations: 88\n",
      "            Gradient evaluations: 14\n",
      "                     Constant Mean - GARCH Model Results                      \n",
      "==============================================================================\n",
      "Dep. Variable:                   None   R-squared:                       0.000\n",
      "Mean Model:             Constant Mean   Adj. R-squared:                  0.000\n",
      "Vol Model:                      GARCH   Log-Likelihood:                1608.25\n",
      "Distribution:                  Normal   AIC:                          -3208.50\n",
      "Method:            Maximum Likelihood   BIC:                          -3189.30\n",
      "                                        No. Observations:                  898\n",
      "Date:                Wed, Jan 01 2025   Df Residuals:                      897\n",
      "Time:                        21:04:08   Df Model:                            1\n",
      "                                  Mean Model                                 \n",
      "=============================================================================\n",
      "                 coef    std err          t      P>|t|       95.0% Conf. Int.\n",
      "-----------------------------------------------------------------------------\n",
      "mu         2.3927e-04  1.326e-03      0.180      0.857 [-2.361e-03,2.839e-03]\n",
      "                              Volatility Model                              \n",
      "============================================================================\n",
      "                 coef    std err          t      P>|t|      95.0% Conf. Int.\n",
      "----------------------------------------------------------------------------\n",
      "omega      9.7410e-05  4.034e-05      2.414  1.576e-02 [1.834e-05,1.765e-04]\n",
      "alpha[1]       0.1188  2.787e-02      4.261  2.037e-05   [6.413e-02,  0.173]\n",
      "beta[1]        0.8321  3.853e-02     21.598 1.892e-103     [  0.757,  0.908]\n",
      "============================================================================\n",
      "\n",
      "Covariance estimator: robust\n"
     ]
    },
    {
     "data": {
      "image/png": "[encoded data removed]",
      "text/plain": [
       "<Figure size 640x480 with 2 Axes>"
      ]
     },
     "metadata": {},
     "output_type": "display_data"
    }
   ],
   "source": [
    "garch_res = arch_model(residus, p=1, o=0, q=1, dist='normal').fit()\n",
    "print(garch_res.summary())\n",
    "fig = garch_res.plot(annualize='D')"
   ]
  },
  {
   "cell_type": "markdown",
   "metadata": {},
   "source": [
    "# Forecast"
   ]
  },
  {
   "cell_type": "markdown",
   "metadata": {},
   "source": [
    "Now, we are trying to model a HMM-GARCH model to forecast our time series. Indeed, here the goal is to predict stock returns while capturing the volatility. Here, we use stock return to have stationarity in our time series. "
   ]
  },
  {
   "cell_type": "code",
   "execution_count": 20,
   "metadata": {},
   "outputs": [
    {
     "name": "stderr",
     "output_type": "stream",
     "text": [
      "c:\\Users\\graci\\anaconda3\\Lib\\site-packages\\joblib\\externals\\loky\\backend\\context.py:136: UserWarning: Could not find the number of physical cores for the following reason:\n",
      "found 0 physical cores < 1\n",
      "Returning the number of logical cores instead. You can silence this warning by setting LOKY_MAX_CPU_COUNT to the number of cores you want to use.\n",
      "  warnings.warn(\n",
      "  File \"c:\\Users\\graci\\anaconda3\\Lib\\site-packages\\joblib\\externals\\loky\\backend\\context.py\", line 282, in _count_physical_cores\n",
      "    raise ValueError(f\"found {cpu_count_physical} physical cores < 1\")\n",
      "c:\\Users\\graci\\anaconda3\\Lib\\site-packages\\sklearn\\cluster\\_kmeans.py:1446: UserWarning: KMeans is known to have a memory leak on Windows with MKL, when there are less chunks than available threads. You can avoid it by setting the environment variable OMP_NUM_THREADS=4.\n",
      "  warnings.warn(\n"
     ]
    }
   ],
   "source": [
    "# Fit HMM with 6 regimes\n",
    "log_returns = log_returns.values.reshape(-1, 1)\n",
    "\n",
    "hmm_model = GaussianHMM(n_components=6, covariance_type=\"diag\", init_params=\"c\")\n",
    "hmm_model.fit(log_returns)\n",
    "\n",
    "hidden_states = hmm_model.decode(log_returns)[1]"
   ]
  },
  {
   "cell_type": "markdown",
   "metadata": {},
   "source": [
    "When applying a GARCH(1,1) to each of the hidden states, we see that for most of the states the volatility comes from past volatility. This persistance of volatility make our addition of a GARCH component less useful because here the volatility is not due to new shock but past values. For that reason, HMM-GARCH model would be a overkill and not improve the overall performance. "
   ]
  },
  {
   "cell_type": "code",
   "execution_count": 21,
   "metadata": {},
   "outputs": [
    {
     "name": "stdout",
     "output_type": "stream",
     "text": [
      "Fitting GARCH(1,1) for Regime 0...\n",
      "\n",
      "Regime 0 GARCH Summary:\n",
      "                     Constant Mean - GARCH Model Results                      \n",
      "==============================================================================\n",
      "Dep. Variable:                      y   R-squared:                       0.000\n",
      "Mean Model:             Constant Mean   Adj. R-squared:                  0.000\n",
      "Vol Model:                      GARCH   Log-Likelihood:               -48.9450\n",
      "Distribution:                  Normal   AIC:                           105.890\n",
      "Method:            Maximum Likelihood   BIC:                           110.254\n",
      "                                        No. Observations:                   22\n",
      "Date:                Wed, Jan 01 2025   Df Residuals:                       21\n",
      "Time:                        21:04:14   Df Model:                            1\n",
      "                               Mean Model                               \n",
      "========================================================================\n",
      "                 coef    std err          t      P>|t|  95.0% Conf. Int.\n",
      "------------------------------------------------------------------------\n",
      "mu             8.5797      0.345     24.848 2.730e-136 [  7.903,  9.256]\n",
      "                            Volatility Model                            \n",
      "========================================================================\n",
      "                 coef    std err          t      P>|t|  95.0% Conf. Int.\n",
      "------------------------------------------------------------------------\n",
      "omega          1.1944      0.972      1.229      0.219 [ -0.710,  3.099]\n",
      "alpha[1]       0.2993      0.347      0.863      0.388 [ -0.380,  0.979]\n",
      "beta[1]        0.4829      0.193      2.501  1.238e-02 [  0.104,  0.861]\n",
      "========================================================================\n",
      "\n",
      "Covariance estimator: robust\n",
      "Fitting GARCH(1,1) for Regime 1...\n",
      "\n",
      "Regime 1 GARCH Summary:\n",
      "                     Constant Mean - GARCH Model Results                      \n",
      "==============================================================================\n",
      "Dep. Variable:                      y   R-squared:                       0.000\n",
      "Mean Model:             Constant Mean   Adj. R-squared:                  0.000\n",
      "Vol Model:                      GARCH   Log-Likelihood:               -107.143\n",
      "Distribution:                  Normal   AIC:                           222.286\n",
      "Method:            Maximum Likelihood   BIC:                           228.836\n",
      "                                        No. Observations:                   38\n",
      "Date:                Wed, Jan 01 2025   Df Residuals:                       37\n",
      "Time:                        21:04:14   Df Model:                            1\n",
      "                               Mean Model                               \n",
      "========================================================================\n",
      "                 coef    std err          t      P>|t|  95.0% Conf. Int.\n",
      "------------------------------------------------------------------------\n",
      "mu            -0.7032      0.663     -1.061      0.289 [ -2.002,  0.596]\n",
      "                            Volatility Model                            \n",
      "========================================================================\n",
      "                 coef    std err          t      P>|t|  95.0% Conf. Int.\n",
      "------------------------------------------------------------------------\n",
      "omega          0.1268      2.169  5.846e-02      0.953 [ -4.125,  4.379]\n",
      "alpha[1]   2.1952e-11  5.686e-02  3.860e-10      1.000 [ -0.111,  0.111]\n",
      "beta[1]        1.0000      0.117      8.573  1.012e-17 [  0.771,  1.229]\n",
      "========================================================================\n",
      "\n",
      "Covariance estimator: robust\n",
      "Fitting GARCH(1,1) for Regime 2...\n",
      "\n",
      "Regime 2 GARCH Summary:\n",
      "                     Constant Mean - GARCH Model Results                      \n",
      "==============================================================================\n",
      "Dep. Variable:                      y   R-squared:                       0.000\n",
      "Mean Model:             Constant Mean   Adj. R-squared:                  0.000\n",
      "Vol Model:                      GARCH   Log-Likelihood:               -123.310\n",
      "Distribution:                  Normal   AIC:                           254.619\n",
      "Method:            Maximum Likelihood   BIC:                           261.170\n",
      "                                        No. Observations:                   38\n",
      "Date:                Wed, Jan 01 2025   Df Residuals:                       37\n",
      "Time:                        21:04:14   Df Model:                            1\n",
      "                               Mean Model                               \n",
      "========================================================================\n",
      "                 coef    std err          t      P>|t|  95.0% Conf. Int.\n",
      "------------------------------------------------------------------------\n",
      "mu            -0.9111      1.016     -0.897      0.370 [ -2.902,  1.080]\n",
      "                               Volatility Model                              \n",
      "=============================================================================\n",
      "                 coef    std err          t      P>|t|       95.0% Conf. Int.\n",
      "-----------------------------------------------------------------------------\n",
      "omega          2.0726      1.827      1.134      0.257      [ -1.509,  5.654]\n",
      "alpha[1]       0.0000  2.503e-02      0.000      1.000 [-4.905e-02,4.905e-02]\n",
      "beta[1]        0.9386  5.893e-02     15.928  4.079e-57      [  0.823,  1.054]\n",
      "=============================================================================\n",
      "\n",
      "Covariance estimator: robust\n",
      "Fitting GARCH(1,1) for Regime 3...\n",
      "\n",
      "Regime 3 GARCH Summary:\n",
      "                     Constant Mean - GARCH Model Results                      \n",
      "==============================================================================\n",
      "Dep. Variable:                      y   R-squared:                       0.000\n",
      "Mean Model:             Constant Mean   Adj. R-squared:                  0.000\n",
      "Vol Model:                      GARCH   Log-Likelihood:               -1947.38\n",
      "Distribution:                  Normal   AIC:                           3902.75\n",
      "Method:            Maximum Likelihood   BIC:                           3921.24\n",
      "                                        No. Observations:                  752\n",
      "Date:                Wed, Jan 01 2025   Df Residuals:                      751\n",
      "Time:                        21:04:15   Df Model:                            1\n",
      "                               Mean Model                               \n",
      "========================================================================\n",
      "                 coef    std err          t      P>|t|  95.0% Conf. Int.\n",
      "------------------------------------------------------------------------\n",
      "mu             1.0449      0.114      9.134  6.632e-20 [  0.821,  1.269]\n",
      "                              Volatility Model                              \n",
      "============================================================================\n",
      "                 coef    std err          t      P>|t|      95.0% Conf. Int.\n",
      "----------------------------------------------------------------------------\n",
      "omega          0.7187      0.283      2.538  1.114e-02     [  0.164,  1.274]\n",
      "alpha[1]       0.0427  1.891e-02      2.255  2.412e-02 [5.585e-03,7.972e-02]\n",
      "beta[1]        0.8891  2.949e-02     30.144 1.268e-199     [  0.831,  0.947]\n",
      "============================================================================\n",
      "\n",
      "Covariance estimator: robust\n",
      "Fitting GARCH(1,1) for Regime 4...\n",
      "\n",
      "Regime 4 GARCH Summary:\n",
      "                     Constant Mean - GARCH Model Results                      \n",
      "==============================================================================\n",
      "Dep. Variable:                      y   R-squared:                       0.000\n",
      "Mean Model:             Constant Mean   Adj. R-squared:                  0.000\n",
      "Vol Model:                      GARCH   Log-Likelihood:               -16.7755\n",
      "Distribution:                  Normal   AIC:                           41.5510\n",
      "Method:            Maximum Likelihood   BIC:                           39.9888\n",
      "                                        No. Observations:                    5\n",
      "Date:                Wed, Jan 01 2025   Df Residuals:                        4\n",
      "Time:                        21:04:15   Df Model:                            1\n",
      "                               Mean Model                               \n",
      "========================================================================\n",
      "                 coef    std err          t      P>|t|  95.0% Conf. Int.\n",
      "------------------------------------------------------------------------\n",
      "mu           -13.5539      0.982    -13.801  2.509e-43 [-15.479,-11.629]\n",
      "                               Volatility Model                              \n",
      "=============================================================================\n",
      "                 coef    std err          t      P>|t|       95.0% Conf. Int.\n",
      "-----------------------------------------------------------------------------\n",
      "omega          4.8071     80.305  5.986e-02      0.952 [-1.526e+02,1.622e+02]\n",
      "alpha[1]   9.6070e-17      1.014  9.478e-17      1.000      [ -1.987,  1.987]\n",
      "beta[1]        0.8807      1.547      0.569      0.569      [ -2.152,  3.913]\n",
      "=============================================================================\n",
      "\n",
      "Covariance estimator: robust\n",
      "Fitting GARCH(1,1) for Regime 5...\n",
      "\n",
      "Regime 5 GARCH Summary:\n",
      "                     Constant Mean - GARCH Model Results                      \n",
      "==============================================================================\n",
      "Dep. Variable:                      y   R-squared:                       0.000\n",
      "Mean Model:             Constant Mean   Adj. R-squared:                  0.000\n",
      "Vol Model:                      GARCH   Log-Likelihood:               -121.734\n",
      "Distribution:                  Normal   AIC:                           251.469\n",
      "Method:            Maximum Likelihood   BIC:                           258.514\n",
      "                                        No. Observations:                   43\n",
      "Date:                Wed, Jan 01 2025   Df Residuals:                       42\n",
      "Time:                        21:04:15   Df Model:                            1\n",
      "                               Mean Model                               \n",
      "========================================================================\n",
      "                 coef    std err          t      P>|t|  95.0% Conf. Int.\n",
      "------------------------------------------------------------------------\n",
      "mu            -6.4120      0.625    -10.264  1.028e-24 [ -7.636, -5.188]\n",
      "                            Volatility Model                            \n",
      "========================================================================\n",
      "                 coef    std err          t      P>|t|  95.0% Conf. Int.\n",
      "------------------------------------------------------------------------\n",
      "omega          2.1779      4.049      0.538      0.591 [ -5.759, 10.115]\n",
      "alpha[1]   3.3184e-15  6.810e-02  4.873e-14      1.000 [ -0.133,  0.133]\n",
      "beta[1]        0.8784      0.297      2.962  3.053e-03 [  0.297,  1.459]\n",
      "========================================================================\n",
      "\n",
      "Covariance estimator: robust\n"
     ]
    }
   ],
   "source": [
    "# Rescale the data\n",
    "log_returns_rescaled = log_returns * 100\n",
    "\n",
    "regimes = {}\n",
    "garch_models = {}\n",
    "\n",
    "# Loop through each hidden state (regime)\n",
    "for i in range(hmm_model.n_components):  # Replace `hmm.n_components` with `hmm_model.n_components` if needed\n",
    "    # Extract regime data\n",
    "    regimes[i] = log_returns_rescaled[hidden_states == i]\n",
    "    \n",
    "    if len(regimes[i]) > 0:  # Check if the regime has data\n",
    "        print(f\"Fitting GARCH(1,1) for Regime {i}...\")\n",
    "        garch_models[i] = arch_model(regimes[i], vol='Garch', p=1, q=1).fit(disp=\"off\")\n",
    "        print(f\"\\nRegime {i} GARCH Summary:\")\n",
    "        print(garch_models[i].summary())\n",
    "    else:\n",
    "        print(f\"\\nRegime {i} has no data.\")"
   ]
  }
 ],
 "metadata": {
  "kernelspec": {
   "display_name": "base",
   "language": "python",
   "name": "python3"
  },
  "language_info": {
   "codemirror_mode": {
    "name": "ipython",
    "version": 3
   },
   "file_extension": ".py",
   "mimetype": "text/x-python",
   "name": "python",
   "nbconvert_exporter": "python",
   "pygments_lexer": "ipython3",
   "version": "3.12.4"
  }
 },
 "nbformat": 4,
 "nbformat_minor": 4
}
