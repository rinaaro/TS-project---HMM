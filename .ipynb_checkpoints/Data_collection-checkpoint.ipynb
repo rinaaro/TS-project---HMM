{
 "cells": [
  {
   "cell_type": "code",
   "execution_count": null,
   "id": "e82bec29-d4ab-4700-b742-de68ca45bf5a",
   "metadata": {},
   "outputs": [],
   "source": [
    "#!pip install yfinance\n",
    "#!pip install hmmlearn\n",
    "#pip install scipy\n",
    "import\n",
    "from sklearn.mixture import GaussianMixture\n",
    "import yfinance as yf\n",
    "import numpy as np\n",
    "from numpy import random\n",
    "import pandas as pd\n",
    "from scipy.stats import norm"
   ]
  },
  {
   "cell_type": "code",
   "execution_count": 5,
   "id": "40feee3d",
   "metadata": {},
   "outputs": [
    {
     "name": "stdout",
     "output_type": "stream",
     "text": [
      "[*********************100%%**********************]  1 of 1 completed\n"
     ]
    }
   ],
   "source": [
    "ticker = \"^GSPC\"  # S&P 500 index symbol\n",
    "\n",
    "data = yf.download(ticker, start=\"1950-01-01\", end=\"2016-11-30\", interval=\"1mo\")\n",
    "data.dropna(inplace=True)"
   ]
  },
  {
   "cell_type": "code",
   "execution_count": null,
   "id": "f5d87567",
   "metadata": {},
   "outputs": [
    {
     "name": "stdout",
     "output_type": "stream",
     "text": [
      "   Price         Min          Max         Mean        Std.\n",
      "0   Open  167.199997  2173.149902   969.192478  543.577386\n",
      "1   High  180.270004  2214.100098  1000.686034  557.155179\n",
      "2    Low  163.360001  2147.580078   935.889869  526.896105\n",
      "3  Close  179.630005  2198.810059   974.394776  545.519109\n",
      "Summary_table.csv\n"
     ]
    }
   ],
   "source": [
    "descriptive_stats = {\n",
    "    \"Price\": [\"Open\", \"High\", \"Low\", \"Close\"],\n",
    "    \"Min\": [data['Open'].min(), data['High'].min(), data['Low'].min(), data['Close'].min()],\n",
    "    \"Max\": [data['Open'].max(), data['High'].max(), data['Low'].max(), data['Close'].max()],\n",
    "    \"Mean\": [data['Open'].mean(), data['High'].mean(), data['Low'].mean(), data['Close'].mean()],\n",
    "    \"Std.\": [data['Open'].std(), data['High'].std(), data['Low'].std(), data['Close'].std()],\n",
    "}\n",
    "\n",
    "summary_table = pd.DataFrame(descriptive_stats)\n",
    "summary_table.to_csv('summary_table.csv', index=False, sep=';')\n",
    "print(\"Summary_table.csv\")\n",
    "print(summary_table)"
   ]
  },
  {
   "cell_type": "code",
   "execution_count": null,
   "id": "4e13db53-3800-4f56-aa57-af2f0d009184",
   "metadata": {},
   "outputs": [
    {
     "name": "stderr",
     "output_type": "stream",
     "text": [
      "c:\\Users\\graci\\anaconda3\\Lib\\site-packages\\sklearn\\cluster\\_kmeans.py:1446: UserWarning: KMeans is known to have a memory leak on Windows with MKL, when there are less chunks than available threads. You can avoid it by setting the environment variable OMP_NUM_THREADS=2.\n",
      "  warnings.warn(\n"
     ]
    },
    {
     "ename": "ValueError",
     "evalue": "X has 4 features, but GaussianMixture is expecting 1 features as input.",
     "output_type": "error",
     "traceback": [
      "\u001b[1;31m---------------------------------------------------------------------------\u001b[0m",
      "\u001b[1;31mValueError\u001b[0m                                Traceback (most recent call last)",
      "Cell \u001b[1;32mIn[29], line 33\u001b[0m\n\u001b[0;32m     30\u001b[0m         results\u001b[38;5;241m.\u001b[39mappend({\u001b[38;5;124m\"\u001b[39m\u001b[38;5;124mStates\u001b[39m\u001b[38;5;124m\"\u001b[39m: num_states, \u001b[38;5;241m*\u001b[39m\u001b[38;5;241m*\u001b[39mcriteria})\n\u001b[0;32m     31\u001b[0m     \u001b[38;5;28;01mreturn\u001b[39;00m pd\u001b[38;5;241m.\u001b[39mDataFrame(results)\n\u001b[1;32m---> 33\u001b[0m res_df \u001b[38;5;241m=\u001b[39m res(close, state_range)\n\u001b[0;32m     34\u001b[0m \u001b[38;5;28mprint\u001b[39m(res_df)\n",
      "Cell \u001b[1;32mIn[29], line 29\u001b[0m, in \u001b[0;36mres\u001b[1;34m(obs, state_range)\u001b[0m\n\u001b[0;32m     27\u001b[0m     model_gm\u001b[38;5;241m.\u001b[39mfit(close)\n\u001b[0;32m     28\u001b[0m     num_params \u001b[38;5;241m=\u001b[39m num_states \u001b[38;5;241m*\u001b[39m\u001b[38;5;241m*\u001b[39m \u001b[38;5;241m2\u001b[39m \u001b[38;5;241m+\u001b[39m \u001b[38;5;241m2\u001b[39m \u001b[38;5;241m*\u001b[39m num_states \u001b[38;5;241m-\u001b[39m \u001b[38;5;241m1\u001b[39m \n\u001b[1;32m---> 29\u001b[0m     criteria \u001b[38;5;241m=\u001b[39m calculate_model_criteria(model_gm, data_length, num_params)\n\u001b[0;32m     30\u001b[0m     results\u001b[38;5;241m.\u001b[39mappend({\u001b[38;5;124m\"\u001b[39m\u001b[38;5;124mStates\u001b[39m\u001b[38;5;124m\"\u001b[39m: num_states, \u001b[38;5;241m*\u001b[39m\u001b[38;5;241m*\u001b[39mcriteria})\n\u001b[0;32m     31\u001b[0m \u001b[38;5;28;01mreturn\u001b[39;00m pd\u001b[38;5;241m.\u001b[39mDataFrame(results)\n",
      "Cell \u001b[1;32mIn[29], line 13\u001b[0m, in \u001b[0;36mcalculate_model_criteria\u001b[1;34m(hmm_model, M, k)\u001b[0m\n\u001b[0;32m     12\u001b[0m \u001b[38;5;28;01mdef\u001b[39;00m \u001b[38;5;21mcalculate_model_criteria\u001b[39m(hmm_model, M, k):  \u001b[38;5;66;03m# M as number of obserations, k as number of parameters \u001b[39;00m\n\u001b[1;32m---> 13\u001b[0m     L \u001b[38;5;241m=\u001b[39m model_gm\u001b[38;5;241m.\u001b[39mscore(close)\n\u001b[0;32m     14\u001b[0m     aic \u001b[38;5;241m=\u001b[39m \u001b[38;5;241m-\u001b[39m\u001b[38;5;241m2\u001b[39m \u001b[38;5;241m*\u001b[39m L \u001b[38;5;241m+\u001b[39m \u001b[38;5;241m2\u001b[39m \u001b[38;5;241m*\u001b[39m k\n\u001b[0;32m     15\u001b[0m     bic \u001b[38;5;241m=\u001b[39m \u001b[38;5;241m-\u001b[39m\u001b[38;5;241m2\u001b[39m \u001b[38;5;241m*\u001b[39m L \u001b[38;5;241m+\u001b[39m k \u001b[38;5;241m*\u001b[39m np\u001b[38;5;241m.\u001b[39mlog(M)\n",
      "File \u001b[1;32mc:\\Users\\graci\\anaconda3\\Lib\\site-packages\\sklearn\\mixture\\_base.py:364\u001b[0m, in \u001b[0;36mBaseMixture.score\u001b[1;34m(self, X, y)\u001b[0m\n\u001b[0;32m    347\u001b[0m \u001b[38;5;28;01mdef\u001b[39;00m \u001b[38;5;21mscore\u001b[39m(\u001b[38;5;28mself\u001b[39m, X, y\u001b[38;5;241m=\u001b[39m\u001b[38;5;28;01mNone\u001b[39;00m):\n\u001b[0;32m    348\u001b[0m \u001b[38;5;250m    \u001b[39m\u001b[38;5;124;03m\"\"\"Compute the per-sample average log-likelihood of the given data X.\u001b[39;00m\n\u001b[0;32m    349\u001b[0m \n\u001b[0;32m    350\u001b[0m \u001b[38;5;124;03m    Parameters\u001b[39;00m\n\u001b[1;32m   (...)\u001b[0m\n\u001b[0;32m    362\u001b[0m \u001b[38;5;124;03m        Log-likelihood of `X` under the Gaussian mixture model.\u001b[39;00m\n\u001b[0;32m    363\u001b[0m \u001b[38;5;124;03m    \"\"\"\u001b[39;00m\n\u001b[1;32m--> 364\u001b[0m     \u001b[38;5;28;01mreturn\u001b[39;00m \u001b[38;5;28mself\u001b[39m\u001b[38;5;241m.\u001b[39mscore_samples(X)\u001b[38;5;241m.\u001b[39mmean()\n",
      "File \u001b[1;32mc:\\Users\\graci\\anaconda3\\Lib\\site-packages\\sklearn\\mixture\\_base.py:343\u001b[0m, in \u001b[0;36mBaseMixture.score_samples\u001b[1;34m(self, X)\u001b[0m\n\u001b[0;32m    329\u001b[0m \u001b[38;5;250m\u001b[39m\u001b[38;5;124;03m\"\"\"Compute the log-likelihood of each sample.\u001b[39;00m\n\u001b[0;32m    330\u001b[0m \n\u001b[0;32m    331\u001b[0m \u001b[38;5;124;03mParameters\u001b[39;00m\n\u001b[1;32m   (...)\u001b[0m\n\u001b[0;32m    340\u001b[0m \u001b[38;5;124;03m    Log-likelihood of each sample in `X` under the current model.\u001b[39;00m\n\u001b[0;32m    341\u001b[0m \u001b[38;5;124;03m\"\"\"\u001b[39;00m\n\u001b[0;32m    342\u001b[0m check_is_fitted(\u001b[38;5;28mself\u001b[39m)\n\u001b[1;32m--> 343\u001b[0m X \u001b[38;5;241m=\u001b[39m \u001b[38;5;28mself\u001b[39m\u001b[38;5;241m.\u001b[39m_validate_data(X, reset\u001b[38;5;241m=\u001b[39m\u001b[38;5;28;01mFalse\u001b[39;00m)\n\u001b[0;32m    345\u001b[0m \u001b[38;5;28;01mreturn\u001b[39;00m logsumexp(\u001b[38;5;28mself\u001b[39m\u001b[38;5;241m.\u001b[39m_estimate_weighted_log_prob(X), axis\u001b[38;5;241m=\u001b[39m\u001b[38;5;241m1\u001b[39m)\n",
      "File \u001b[1;32mc:\\Users\\graci\\anaconda3\\Lib\\site-packages\\sklearn\\base.py:654\u001b[0m, in \u001b[0;36mBaseEstimator._validate_data\u001b[1;34m(self, X, y, reset, validate_separately, cast_to_ndarray, **check_params)\u001b[0m\n\u001b[0;32m    651\u001b[0m     out \u001b[38;5;241m=\u001b[39m X, y\n\u001b[0;32m    653\u001b[0m \u001b[38;5;28;01mif\u001b[39;00m \u001b[38;5;129;01mnot\u001b[39;00m no_val_X \u001b[38;5;129;01mand\u001b[39;00m check_params\u001b[38;5;241m.\u001b[39mget(\u001b[38;5;124m\"\u001b[39m\u001b[38;5;124mensure_2d\u001b[39m\u001b[38;5;124m\"\u001b[39m, \u001b[38;5;28;01mTrue\u001b[39;00m):\n\u001b[1;32m--> 654\u001b[0m     \u001b[38;5;28mself\u001b[39m\u001b[38;5;241m.\u001b[39m_check_n_features(X, reset\u001b[38;5;241m=\u001b[39mreset)\n\u001b[0;32m    656\u001b[0m \u001b[38;5;28;01mreturn\u001b[39;00m out\n",
      "File \u001b[1;32mc:\\Users\\graci\\anaconda3\\Lib\\site-packages\\sklearn\\base.py:443\u001b[0m, in \u001b[0;36mBaseEstimator._check_n_features\u001b[1;34m(self, X, reset)\u001b[0m\n\u001b[0;32m    440\u001b[0m     \u001b[38;5;28;01mreturn\u001b[39;00m\n\u001b[0;32m    442\u001b[0m \u001b[38;5;28;01mif\u001b[39;00m n_features \u001b[38;5;241m!=\u001b[39m \u001b[38;5;28mself\u001b[39m\u001b[38;5;241m.\u001b[39mn_features_in_:\n\u001b[1;32m--> 443\u001b[0m     \u001b[38;5;28;01mraise\u001b[39;00m \u001b[38;5;167;01mValueError\u001b[39;00m(\n\u001b[0;32m    444\u001b[0m         \u001b[38;5;124mf\u001b[39m\u001b[38;5;124m\"\u001b[39m\u001b[38;5;124mX has \u001b[39m\u001b[38;5;132;01m{\u001b[39;00mn_features\u001b[38;5;132;01m}\u001b[39;00m\u001b[38;5;124m features, but \u001b[39m\u001b[38;5;132;01m{\u001b[39;00m\u001b[38;5;28mself\u001b[39m\u001b[38;5;241m.\u001b[39m\u001b[38;5;18m__class__\u001b[39m\u001b[38;5;241m.\u001b[39m\u001b[38;5;18m__name__\u001b[39m\u001b[38;5;132;01m}\u001b[39;00m\u001b[38;5;124m \u001b[39m\u001b[38;5;124m\"\u001b[39m\n\u001b[0;32m    445\u001b[0m         \u001b[38;5;124mf\u001b[39m\u001b[38;5;124m\"\u001b[39m\u001b[38;5;124mis expecting \u001b[39m\u001b[38;5;132;01m{\u001b[39;00m\u001b[38;5;28mself\u001b[39m\u001b[38;5;241m.\u001b[39mn_features_in_\u001b[38;5;132;01m}\u001b[39;00m\u001b[38;5;124m features as input.\u001b[39m\u001b[38;5;124m\"\u001b[39m\n\u001b[0;32m    446\u001b[0m     )\n",
      "\u001b[1;31mValueError\u001b[0m: X has 4 features, but GaussianMixture is expecting 1 features as input."
     ]
    }
   ],
   "source": [
    "#need to do that only for T period of time \n",
    "#dont use the stack but just closing prices\n",
    "#plot the result (which should 4 states)\n",
    "\n",
    "#Model selection \n",
    "features = data['Close'].values\n",
    "features = close.reshape(-1, 1)  # Reshape to a 2D array\n",
    "\n",
    "close = np.column_stack([\n",
    "    data['Open'].fillna(0),  # Percentage change of open price\n",
    "    data['High'].fillna(0),  # Percentage change of high price\n",
    "    data['Low'].fillna(0),   # Percentage change of low price\n",
    "    data['Close'].fillna(0)  # Percentage change of close price\n",
    "])\n",
    "\n",
    "def calculate_model_criteria(hmm_model, M, k):  # M as number of obserations, k as number of parameters \n",
    "    L = model_gm.score(close)\n",
    "    aic = -2 * L + 2 * k\n",
    "    bic = -2 * L + k * np.log(M)\n",
    "    hqc = -2 * L + 2 * k * np.log(np.log(M))\n",
    "    caic = -2 * L + k * (1 + np.log(M))\n",
    "    return {\"AIC\": aic, \"BIC\": bic, \"HQC\": hqc, \"CAIC\": caic}\n",
    "\n",
    "state_range = range(2, 7)  # HMM with 2 to 6 states\n",
    "data_length = len(close)\n",
    "\n",
    "def res (obs, state_range):\n",
    "    results = []\n",
    "    for num_states in state_range:\n",
    "        model_gm = GaussianMixture(n_components=num_states, covariance_type=\"diag\", random_state=42)\n",
    "        model_gm.fit(close)\n",
    "        num_params = num_states ** 2 + 2 * num_states - 1 \n",
    "        criteria = calculate_model_criteria(model_gm, data_length, num_params)\n",
    "        results.append({\"States\": num_states, **criteria})\n",
    "    return pd.DataFrame(results)\n",
    "\n",
    "res_df = res(close, state_range)\n",
    "print(res_df)"
   ]
  },
  {
   "cell_type": "code",
   "execution_count": null,
   "id": "0063b7de",
   "metadata": {},
   "outputs": [],
   "source": [
    "# Step 6: Predict closing price\n",
    "predicted_prices = []\n",
    "har_model = data['Close'].rolling(window=10).mean().shift(1)\n",
    "\n",
    "for i in range(len(close)):\n",
    "    state = best_model.predict(close[:i + 1])[-1]  # Predict current state\n",
    "    state_means = best_model.means_[state]            # Mean of observed values in the predicted state\n",
    "    predicted_price = data['Close'].iloc[i] * (1 + state_means[-1])  # Predict close price based on % change\n",
    "    predicted_prices.append(predicted_price)"
   ]
  },
  {
   "cell_type": "code",
   "execution_count": null,
   "id": "2a001d39",
   "metadata": {},
   "outputs": [],
   "source": [
    "# Step 7: Evaluate predictions\n",
    "data['Predicted_Close'] = predicted_prices\n",
    "data['HAR_Close'] = har_model\n",
    "data.dropna(inplace=True)\n",
    "\n",
    "hmm_mse = mean_squared_error(data['Close'], data['Predicted_Close'])\n",
    "har_mse = mean_squared_error(data['Close'], data['HAR_Close'])\n",
    "print(f\"HMM MSE: {hmm_mse}, HAR MSE: {har_mse}\")"
   ]
  },
  {
   "cell_type": "code",
   "execution_count": null,
   "id": "84e51107",
   "metadata": {},
   "outputs": [],
   "source": [
    "# Step 8: Trading simulation (buy if predicted rise, sell otherwise)\n",
    "data['Signal'] = np.where(data['Predicted_Close'] > data['Close'], 1, -1)\n",
    "data['Return'] = data['Signal'] * data['Close'].pct_change()\n",
    "\n",
    "hmm_cumulative_return = (1 + data['Return']).cumprod()\n",
    "buy_and_hold_return = (1 + data['Close'].pct_change()).cumprod()\n",
    "\n",
    "# Print results\n",
    "print(f\"HMM Cumulative Return: {hmm_cumulative_return.iloc[-1]:.2f}\")\n",
    "print(f\"Buy-and-Hold Cumulative Return: {buy_and_hold_return.iloc[-1]:.2f}\")"
   ]
  }
 ],
 "metadata": {
  "kernelspec": {
   "display_name": "base",
   "language": "python",
   "name": "python3"
  },
  "language_info": {
   "codemirror_mode": {
    "name": "ipython",
    "version": 3
   },
   "file_extension": ".py",
   "mimetype": "text/x-python",
   "name": "python",
   "nbconvert_exporter": "python",
   "pygments_lexer": "ipython3",
   "version": "3.12.4"
  }
 },
 "nbformat": 4,
 "nbformat_minor": 5
}
